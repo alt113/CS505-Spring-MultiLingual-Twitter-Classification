{
 "cells": [
  {
   "cell_type": "markdown",
   "metadata": {
    "id": "EKOTlwcmxmej"
   },
   "source": [
    "# Defining Baseline Performance of XLM-R vs. Multi-BERT\n",
    "Adapted from tutorial by Chris McCormick and Nick Ryan\n",
    "\n",
    "https://www.youtube.com/watch?v=mGdg_iPoXTs"
   ]
  },
  {
   "cell_type": "markdown",
   "metadata": {
    "id": "jrC9__lXxTJz"
   },
   "source": [
    "# Background"
   ]
  },
  {
   "cell_type": "markdown",
   "metadata": {
    "id": "irGcGEmMHuIR"
   },
   "source": [
    "Before we begin our project in earnest, we wanted to figure out which of the multilingual models was out best bet for doing zero-shot classification of Arabic text based on English training data. We wanted to compare the performance of two popular multilingual models - Multi-BERT and XLM-Roberta. In order to compare the two, we decided to benchmark them on the popular benchmark task, NLI. We fine-tuned both models on the English MNLI dataset and tested them on the Arabic translations of the XNLI dataset. This benchmark is agnostic to downstream tasks which was why it was appropriate to use here. Please see Section 6 for conclusion."
   ]
  },
  {
   "cell_type": "markdown",
   "metadata": {
    "id": "RX_ZDhicpHkV"
   },
   "source": [
    "# 1. Setup"
   ]
  },
  {
   "cell_type": "code",
   "execution_count": 1,
   "metadata": {
    "colab": {
     "base_uri": "https://localhost:8080/"
    },
    "executionInfo": {
     "elapsed": 13343,
     "status": "ok",
     "timestamp": 1618170081038,
     "user": {
      "displayName": "Vidya Akavoor",
      "photoUrl": "",
      "userId": "09730023767824741847"
     },
     "user_tz": 240
    },
    "id": "0nrmp_LrnQq8",
    "outputId": "52ba3d86-e038-4936-c186-38948f39e039"
   },
   "outputs": [
    {
     "name": "stdout",
     "output_type": "stream",
     "text": [
      "Mounted at /content/drive\n"
     ]
    }
   ],
   "source": [
    "from google.colab import drive\n",
    "drive.mount('/content/drive')"
   ]
  },
  {
   "cell_type": "markdown",
   "metadata": {
    "id": "nSU7yERLP_66"
   },
   "source": [
    "## 1.1. Using Colab GPU for Training\n"
   ]
  },
  {
   "cell_type": "markdown",
   "metadata": {
    "id": "GI0iOY8zvZzL"
   },
   "source": [
    "\n",
    "Google Colab offers free GPUs and TPUs! Since we'll be training a large neural network it's best to take advantage of this (in this case we'll attach a GPU), otherwise training will take a very long time.\n",
    "\n",
    "A GPU can be added by going to the menu and selecting:\n",
    "\n",
    "`Edit 🡒 Notebook Settings 🡒 Hardware accelerator 🡒 (GPU)`\n",
    "\n",
    "Then run the following cell to confirm that the GPU is detected."
   ]
  },
  {
   "cell_type": "code",
   "execution_count": 1,
   "metadata": {
    "colab": {
     "base_uri": "https://localhost:8080/"
    },
    "executionInfo": {
     "elapsed": 2388,
     "status": "ok",
     "timestamp": 1618175616916,
     "user": {
      "displayName": "Vidya Akavoor",
      "photoUrl": "",
      "userId": "09730023767824741847"
     },
     "user_tz": 240
    },
    "id": "DEfSbAA4QHas",
    "outputId": "d3dd6345-6160-4623-d381-6c59963f9a0e"
   },
   "outputs": [
    {
     "name": "stdout",
     "output_type": "stream",
     "text": [
      "Found GPU at: /device:GPU:0\n"
     ]
    }
   ],
   "source": [
    "import tensorflow as tf\n",
    "\n",
    "# Get the GPU device name.\n",
    "device_name = tf.test.gpu_device_name()\n",
    "\n",
    "# The device name should look like the following:\n",
    "if device_name == '/device:GPU:0':\n",
    "    print('Found GPU at: {}'.format(device_name))\n",
    "else:\n",
    "    raise SystemError('GPU device not found')"
   ]
  },
  {
   "cell_type": "markdown",
   "metadata": {
    "id": "cqG7FzRVFEIv"
   },
   "source": [
    "In order for torch to use the GPU, we need to identify and specify the GPU as the device. Later, in our training loop, we will load data onto the device. "
   ]
  },
  {
   "cell_type": "code",
   "execution_count": 2,
   "metadata": {
    "colab": {
     "base_uri": "https://localhost:8080/"
    },
    "executionInfo": {
     "elapsed": 2287,
     "status": "ok",
     "timestamp": 1618175617282,
     "user": {
      "displayName": "Vidya Akavoor",
      "photoUrl": "",
      "userId": "09730023767824741847"
     },
     "user_tz": 240
    },
    "id": "oYsV4H8fCpZ-",
    "outputId": "28f7e5b0-2be3-4312-dbcf-527c9477878e"
   },
   "outputs": [
    {
     "name": "stdout",
     "output_type": "stream",
     "text": [
      "There are 1 GPU(s) available.\n",
      "We will use the GPU: Tesla T4\n"
     ]
    }
   ],
   "source": [
    "import torch\n",
    "\n",
    "# If there's a GPU available...\n",
    "if torch.cuda.is_available():    \n",
    "\n",
    "    # Tell PyTorch to use the GPU.    \n",
    "    device = torch.device(\"cuda\")\n",
    "\n",
    "    print('There are %d GPU(s) available.' % torch.cuda.device_count())\n",
    "\n",
    "    print('We will use the GPU:', torch.cuda.get_device_name(0))\n",
    "\n",
    "# If not...\n",
    "else:\n",
    "    print('No GPU available, using the CPU instead.')\n",
    "    device = torch.device(\"cpu\")"
   ]
  },
  {
   "cell_type": "markdown",
   "metadata": {
    "id": "2ElsnSNUridI"
   },
   "source": [
    "## 1.2. Installing the Hugging Face Library\n"
   ]
  },
  {
   "cell_type": "markdown",
   "metadata": {
    "id": "G_N2UDLevYWn"
   },
   "source": [
    "\n",
    "Next, let's install the [transformers](https://github.com/huggingface/transformers) package from Hugging Face which will give us a pytorch interface for working with BERT. (This library contains interfaces for other pretrained language models like OpenAI's GPT and GPT-2.) We've selected the pytorch interface because it strikes a nice balance between the high-level APIs (which are easy to use but don't provide insight into how things work) and tensorflow code (which contains lots of details but often sidetracks us into lessons about tensorflow, when the purpose here is BERT!).\n",
    "\n",
    "At the moment, the Hugging Face library seems to be the most widely accepted and powerful pytorch interface for working with BERT. In addition to supporting a variety of different pre-trained transformer models, the library also includes pre-built modifications of these models suited to your specific task. For example, in this tutorial we will use `BertForSequenceClassification`.\n",
    "\n",
    "The library also includes task-specific classes for token classification, question answering, next sentence prediciton, etc. Using these pre-built classes simplifies the process of modifying BERT for your purposes.\n"
   ]
  },
  {
   "cell_type": "code",
   "execution_count": 4,
   "metadata": {
    "colab": {
     "base_uri": "https://localhost:8080/"
    },
    "executionInfo": {
     "elapsed": 6718,
     "status": "ok",
     "timestamp": 1618170114308,
     "user": {
      "displayName": "Vidya Akavoor",
      "photoUrl": "",
      "userId": "09730023767824741847"
     },
     "user_tz": 240
    },
    "id": "0NmMdkZO8R6q",
    "outputId": "583dba64-c904-4bde-e567-b2ba80f47a5a"
   },
   "outputs": [
    {
     "name": "stdout",
     "output_type": "stream",
     "text": [
      "Collecting transformers\n",
      "\u001b[?25l  Downloading https://files.pythonhosted.org/packages/81/91/61d69d58a1af1bd81d9ca9d62c90a6de3ab80d77f27c5df65d9a2c1f5626/transformers-4.5.0-py3-none-any.whl (2.1MB)\n",
      "\u001b[K     |████████████████████████████████| 2.2MB 20.3MB/s \n",
      "\u001b[?25hRequirement already satisfied: regex!=2019.12.17 in /usr/local/lib/python3.7/dist-packages (from transformers) (2019.12.20)\n",
      "Requirement already satisfied: importlib-metadata; python_version < \"3.8\" in /usr/local/lib/python3.7/dist-packages (from transformers) (3.8.1)\n",
      "Collecting sacremoses\n",
      "\u001b[?25l  Downloading https://files.pythonhosted.org/packages/08/cd/342e584ee544d044fb573ae697404ce22ede086c9e87ce5960772084cad0/sacremoses-0.0.44.tar.gz (862kB)\n",
      "\u001b[K     |████████████████████████████████| 870kB 56.6MB/s \n",
      "\u001b[?25hCollecting tokenizers<0.11,>=0.10.1\n",
      "\u001b[?25l  Downloading https://files.pythonhosted.org/packages/ae/04/5b870f26a858552025a62f1649c20d29d2672c02ff3c3fb4c688ca46467a/tokenizers-0.10.2-cp37-cp37m-manylinux2010_x86_64.whl (3.3MB)\n",
      "\u001b[K     |████████████████████████████████| 3.3MB 53.4MB/s \n",
      "\u001b[?25hRequirement already satisfied: tqdm>=4.27 in /usr/local/lib/python3.7/dist-packages (from transformers) (4.41.1)\n",
      "Requirement already satisfied: filelock in /usr/local/lib/python3.7/dist-packages (from transformers) (3.0.12)\n",
      "Requirement already satisfied: packaging in /usr/local/lib/python3.7/dist-packages (from transformers) (20.9)\n",
      "Requirement already satisfied: requests in /usr/local/lib/python3.7/dist-packages (from transformers) (2.23.0)\n",
      "Requirement already satisfied: numpy>=1.17 in /usr/local/lib/python3.7/dist-packages (from transformers) (1.19.5)\n",
      "Requirement already satisfied: typing-extensions>=3.6.4; python_version < \"3.8\" in /usr/local/lib/python3.7/dist-packages (from importlib-metadata; python_version < \"3.8\"->transformers) (3.7.4.3)\n",
      "Requirement already satisfied: zipp>=0.5 in /usr/local/lib/python3.7/dist-packages (from importlib-metadata; python_version < \"3.8\"->transformers) (3.4.1)\n",
      "Requirement already satisfied: six in /usr/local/lib/python3.7/dist-packages (from sacremoses->transformers) (1.15.0)\n",
      "Requirement already satisfied: click in /usr/local/lib/python3.7/dist-packages (from sacremoses->transformers) (7.1.2)\n",
      "Requirement already satisfied: joblib in /usr/local/lib/python3.7/dist-packages (from sacremoses->transformers) (1.0.1)\n",
      "Requirement already satisfied: pyparsing>=2.0.2 in /usr/local/lib/python3.7/dist-packages (from packaging->transformers) (2.4.7)\n",
      "Requirement already satisfied: urllib3!=1.25.0,!=1.25.1,<1.26,>=1.21.1 in /usr/local/lib/python3.7/dist-packages (from requests->transformers) (1.24.3)\n",
      "Requirement already satisfied: certifi>=2017.4.17 in /usr/local/lib/python3.7/dist-packages (from requests->transformers) (2020.12.5)\n",
      "Requirement already satisfied: chardet<4,>=3.0.2 in /usr/local/lib/python3.7/dist-packages (from requests->transformers) (3.0.4)\n",
      "Requirement already satisfied: idna<3,>=2.5 in /usr/local/lib/python3.7/dist-packages (from requests->transformers) (2.10)\n",
      "Building wheels for collected packages: sacremoses\n",
      "  Building wheel for sacremoses (setup.py) ... \u001b[?25l\u001b[?25hdone\n",
      "  Created wheel for sacremoses: filename=sacremoses-0.0.44-cp37-none-any.whl size=886084 sha256=2822570a37b82459640c39260e774ba4fd50c1655e67b5ed1aa3ef8ee1783652\n",
      "  Stored in directory: /root/.cache/pip/wheels/3e/fb/c0/13ab4d63d537658f448366744654323077c4d90069b6512f3c\n",
      "Successfully built sacremoses\n",
      "Installing collected packages: sacremoses, tokenizers, transformers\n",
      "Successfully installed sacremoses-0.0.44 tokenizers-0.10.2 transformers-4.5.0\n"
     ]
    }
   ],
   "source": [
    "!pip install transformers"
   ]
  },
  {
   "cell_type": "markdown",
   "metadata": {
    "id": "zROqeabYcqTz"
   },
   "source": [
    "# 2. Download XNLI and MNLI"
   ]
  },
  {
   "cell_type": "markdown",
   "metadata": {
    "id": "vr-S9Wmwi0cW"
   },
   "source": [
    "## 2.1. Install Datasets"
   ]
  },
  {
   "cell_type": "code",
   "execution_count": 5,
   "metadata": {
    "colab": {
     "base_uri": "https://localhost:8080/"
    },
    "executionInfo": {
     "elapsed": 3759,
     "status": "ok",
     "timestamp": 1618170126435,
     "user": {
      "displayName": "Vidya Akavoor",
      "photoUrl": "",
      "userId": "09730023767824741847"
     },
     "user_tz": 240
    },
    "id": "z9C2HRc0co-q",
    "outputId": "fe8ee148-7bb0-4f15-d7a1-8f14b4987dbf"
   },
   "outputs": [
    {
     "name": "stdout",
     "output_type": "stream",
     "text": [
      "Collecting datasets\n",
      "\u001b[?25l  Downloading https://files.pythonhosted.org/packages/54/90/43b396481a8298c6010afb93b3c1e71d4ba6f8c10797a7da8eb005e45081/datasets-1.5.0-py3-none-any.whl (192kB)\n",
      "\r",
      "\u001b[K     |█▊                              | 10kB 25.7MB/s eta 0:00:01\r",
      "\u001b[K     |███▍                            | 20kB 29.5MB/s eta 0:00:01\r",
      "\u001b[K     |█████                           | 30kB 19.8MB/s eta 0:00:01\r",
      "\u001b[K     |██████▉                         | 40kB 23.6MB/s eta 0:00:01\r",
      "\u001b[K     |████████▌                       | 51kB 23.3MB/s eta 0:00:01\r",
      "\u001b[K     |██████████▏                     | 61kB 25.9MB/s eta 0:00:01\r",
      "\u001b[K     |████████████                    | 71kB 17.4MB/s eta 0:00:01\r",
      "\u001b[K     |█████████████▋                  | 81kB 18.1MB/s eta 0:00:01\r",
      "\u001b[K     |███████████████▎                | 92kB 17.4MB/s eta 0:00:01\r",
      "\u001b[K     |█████████████████               | 102kB 17.4MB/s eta 0:00:01\r",
      "\u001b[K     |██████████████████▊             | 112kB 17.4MB/s eta 0:00:01\r",
      "\u001b[K     |████████████████████▍           | 122kB 17.4MB/s eta 0:00:01\r",
      "\u001b[K     |██████████████████████▏         | 133kB 17.4MB/s eta 0:00:01\r",
      "\u001b[K     |███████████████████████▉        | 143kB 17.4MB/s eta 0:00:01\r",
      "\u001b[K     |█████████████████████████▌      | 153kB 17.4MB/s eta 0:00:01\r",
      "\u001b[K     |███████████████████████████▎    | 163kB 17.4MB/s eta 0:00:01\r",
      "\u001b[K     |█████████████████████████████   | 174kB 17.4MB/s eta 0:00:01\r",
      "\u001b[K     |██████████████████████████████▋ | 184kB 17.4MB/s eta 0:00:01\r",
      "\u001b[K     |████████████████████████████████| 194kB 17.4MB/s \n",
      "\u001b[?25hRequirement already satisfied: tqdm<4.50.0,>=4.27 in /usr/local/lib/python3.7/dist-packages (from datasets) (4.41.1)\n",
      "Requirement already satisfied: pyarrow>=0.17.1 in /usr/local/lib/python3.7/dist-packages (from datasets) (3.0.0)\n",
      "Collecting huggingface-hub<0.1.0\n",
      "  Downloading https://files.pythonhosted.org/packages/a1/88/7b1e45720ecf59c6c6737ff332f41c955963090a18e72acbcbeac6b25e86/huggingface_hub-0.0.8-py3-none-any.whl\n",
      "Requirement already satisfied: dill in /usr/local/lib/python3.7/dist-packages (from datasets) (0.3.3)\n",
      "Requirement already satisfied: importlib-metadata; python_version < \"3.8\" in /usr/local/lib/python3.7/dist-packages (from datasets) (3.8.1)\n",
      "Requirement already satisfied: requests>=2.19.0 in /usr/local/lib/python3.7/dist-packages (from datasets) (2.23.0)\n",
      "Requirement already satisfied: pandas in /usr/local/lib/python3.7/dist-packages (from datasets) (1.1.5)\n",
      "Collecting fsspec\n",
      "\u001b[?25l  Downloading https://files.pythonhosted.org/packages/62/11/f7689b996f85e45f718745c899f6747ee5edb4878cadac0a41ab146828fa/fsspec-0.9.0-py3-none-any.whl (107kB)\n",
      "\u001b[K     |████████████████████████████████| 112kB 51.2MB/s \n",
      "\u001b[?25hRequirement already satisfied: multiprocess in /usr/local/lib/python3.7/dist-packages (from datasets) (0.70.11.1)\n",
      "Collecting xxhash\n",
      "\u001b[?25l  Downloading https://files.pythonhosted.org/packages/e7/27/1c0b37c53a7852f1c190ba5039404d27b3ae96a55f48203a74259f8213c9/xxhash-2.0.0-cp37-cp37m-manylinux2010_x86_64.whl (243kB)\n",
      "\u001b[K     |████████████████████████████████| 245kB 25.9MB/s \n",
      "\u001b[?25hRequirement already satisfied: numpy>=1.17 in /usr/local/lib/python3.7/dist-packages (from datasets) (1.19.5)\n",
      "Requirement already satisfied: filelock in /usr/local/lib/python3.7/dist-packages (from huggingface-hub<0.1.0->datasets) (3.0.12)\n",
      "Requirement already satisfied: zipp>=0.5 in /usr/local/lib/python3.7/dist-packages (from importlib-metadata; python_version < \"3.8\"->datasets) (3.4.1)\n",
      "Requirement already satisfied: typing-extensions>=3.6.4; python_version < \"3.8\" in /usr/local/lib/python3.7/dist-packages (from importlib-metadata; python_version < \"3.8\"->datasets) (3.7.4.3)\n",
      "Requirement already satisfied: urllib3!=1.25.0,!=1.25.1,<1.26,>=1.21.1 in /usr/local/lib/python3.7/dist-packages (from requests>=2.19.0->datasets) (1.24.3)\n",
      "Requirement already satisfied: chardet<4,>=3.0.2 in /usr/local/lib/python3.7/dist-packages (from requests>=2.19.0->datasets) (3.0.4)\n",
      "Requirement already satisfied: idna<3,>=2.5 in /usr/local/lib/python3.7/dist-packages (from requests>=2.19.0->datasets) (2.10)\n",
      "Requirement already satisfied: certifi>=2017.4.17 in /usr/local/lib/python3.7/dist-packages (from requests>=2.19.0->datasets) (2020.12.5)\n",
      "Requirement already satisfied: python-dateutil>=2.7.3 in /usr/local/lib/python3.7/dist-packages (from pandas->datasets) (2.8.1)\n",
      "Requirement already satisfied: pytz>=2017.2 in /usr/local/lib/python3.7/dist-packages (from pandas->datasets) (2018.9)\n",
      "Requirement already satisfied: six>=1.5 in /usr/local/lib/python3.7/dist-packages (from python-dateutil>=2.7.3->pandas->datasets) (1.15.0)\n",
      "Installing collected packages: huggingface-hub, fsspec, xxhash, datasets\n",
      "Successfully installed datasets-1.5.0 fsspec-0.9.0 huggingface-hub-0.0.8 xxhash-2.0.0\n"
     ]
    }
   ],
   "source": [
    "!pip install datasets"
   ]
  },
  {
   "cell_type": "code",
   "execution_count": 3,
   "metadata": {
    "executionInfo": {
     "elapsed": 556,
     "status": "ok",
     "timestamp": 1618175633976,
     "user": {
      "displayName": "Vidya Akavoor",
      "photoUrl": "",
      "userId": "09730023767824741847"
     },
     "user_tz": 240
    },
    "id": "D9eXReWkd5iV"
   },
   "outputs": [],
   "source": [
    "import datasets\n",
    "from datasets import load_dataset"
   ]
  },
  {
   "cell_type": "markdown",
   "metadata": {
    "id": "njpqohqdi6GA"
   },
   "source": [
    "## 2.2. Import and View MNLI"
   ]
  },
  {
   "cell_type": "code",
   "execution_count": 4,
   "metadata": {
    "colab": {
     "base_uri": "https://localhost:8080/"
    },
    "executionInfo": {
     "elapsed": 574,
     "status": "ok",
     "timestamp": 1618175634886,
     "user": {
      "displayName": "Vidya Akavoor",
      "photoUrl": "",
      "userId": "09730023767824741847"
     },
     "user_tz": 240
    },
    "id": "Pm25GgG0eIEY",
    "outputId": "8471b44a-7811-49c4-a0a5-b56740ac8986"
   },
   "outputs": [
    {
     "name": "stderr",
     "output_type": "stream",
     "text": [
      "Using custom data configuration default\n",
      "Reusing dataset multi_nli (/root/.cache/huggingface/datasets/multi_nli/default/0.0.0/3248359997b13e6ccd296f42420b31c107ba6859b742ed6af1dce0f1544c9ec1)\n"
     ]
    }
   ],
   "source": [
    "mnli = load_dataset('multi_nli', split='train[:50000]')"
   ]
  },
  {
   "cell_type": "code",
   "execution_count": 9,
   "metadata": {
    "colab": {
     "base_uri": "https://localhost:8080/"
    },
    "executionInfo": {
     "elapsed": 285,
     "status": "ok",
     "timestamp": 1618170216752,
     "user": {
      "displayName": "Vidya Akavoor",
      "photoUrl": "",
      "userId": "09730023767824741847"
     },
     "user_tz": 240
    },
    "id": "eCM6OmA6fnCF",
    "outputId": "bdb0dd7d-0d33-4031-89ed-b66a5fd83450"
   },
   "outputs": [
    {
     "name": "stdout",
     "output_type": "stream",
     "text": [
      "Premise:\n",
      "   When architects, developers, contractors and civil engineers fail to design\n",
      "  and construct housing so it is accessible, they effectively take that housing\n",
      "  off the market for people who have, or will develop, a disability.\n",
      "Hypothesis:\n",
      "   They effectively allow the housing to remain on the market for all to use.\n",
      "Label:\n",
      "    2: contradiction\n",
      "\n",
      "---------------------\n",
      "\n",
      "Premise:\n",
      "   so it's trying to push the weight plus have all this drain on it from all\n",
      "  sorts of belts and things but that's one good thing i've got a uh eight ninety\n",
      "  uh Chevy Blazer now and it's got one uh belt on it a serpentine belt\n",
      "Hypothesis:\n",
      "   My serpentine belt is pretty easy to maintain.\n",
      "Label:\n",
      "    1: neutral\n",
      "\n",
      "---------------------\n",
      "\n",
      "Premise:\n",
      "   For example, we have active employee feedback and suggestion programs.\n",
      "Hypothesis:\n",
      "   The employees are happy with the current systems.\n",
      "Label:\n",
      "    1: neutral\n",
      "\n",
      "---------------------\n",
      "\n"
     ]
    }
   ],
   "source": [
    "import textwrap\n",
    "\n",
    "wrapper = textwrap.TextWrapper(width=80, initial_indent='   ', subsequent_indent='  ')\n",
    "\n",
    "label_names = ['entailment', 'neutral', 'contradiction']\n",
    "\n",
    "for ex in mnli.shuffle(writer_batch_size=256).select(range(3)):\n",
    "\n",
    "    premise = ex['premise']\n",
    "    hypothesis = ex['hypothesis']\n",
    "\n",
    "    print('Premise:')\n",
    "    print(wrapper.fill(premise))\n",
    "    \n",
    "    print('Hypothesis:')\n",
    "    print(wrapper.fill(hypothesis))\n",
    "\n",
    "    label = ex['label']\n",
    "    l_name = label_names[label]\n",
    "\n",
    "    print('Label:')\n",
    "    print(f'    {label}: {l_name}')\n",
    "\n",
    "    print('\\n---------------------\\n')\n"
   ]
  },
  {
   "cell_type": "markdown",
   "metadata": {
    "id": "K3hsdoE3jPBb"
   },
   "source": [
    "## 2.3. Import and View Arabic XNLI"
   ]
  },
  {
   "cell_type": "code",
   "execution_count": 5,
   "metadata": {
    "colab": {
     "base_uri": "https://localhost:8080/"
    },
    "executionInfo": {
     "elapsed": 495,
     "status": "ok",
     "timestamp": 1618175643261,
     "user": {
      "displayName": "Vidya Akavoor",
      "photoUrl": "",
      "userId": "09730023767824741847"
     },
     "user_tz": 240
    },
    "id": "yxJTdxcPiuFE",
    "outputId": "adc84609-0fd5-4a8b-f4ca-d5df46c757f4"
   },
   "outputs": [
    {
     "name": "stderr",
     "output_type": "stream",
     "text": [
      "Reusing dataset xnli (/root/.cache/huggingface/datasets/xnli/ar/1.1.0/51ba3a1091acf33fd7c2a54bcbeeee1b1df3ecb127fdca003d31968fa3a1e6a8)\n"
     ]
    }
   ],
   "source": [
    "xnli_ar = load_dataset('xnli', 'ar', split='test')"
   ]
  },
  {
   "cell_type": "code",
   "execution_count": 11,
   "metadata": {
    "colab": {
     "base_uri": "https://localhost:8080/"
    },
    "executionInfo": {
     "elapsed": 266,
     "status": "ok",
     "timestamp": 1618170306757,
     "user": {
      "displayName": "Vidya Akavoor",
      "photoUrl": "",
      "userId": "09730023767824741847"
     },
     "user_tz": 240
    },
    "id": "8h6RDvSVjSpG",
    "outputId": "1400fee4-4e5e-4a42-b725-d9959287fefb"
   },
   "outputs": [
    {
     "name": "stdout",
     "output_type": "stream",
     "text": [
      "Premise:\n",
      "   لقد وضعت خمسة فصائل من U2's\n",
      "Hypothesis:\n",
      "   عملت كل يوم على مفارز U2 لمدة أربعين عاما.\n",
      "Label:\n",
      "    1: neutral\n",
      "\n",
      "---------------------\n",
      "\n",
      "Premise:\n",
      "   وفى هذه الاثناء بدأ أوغل فى فقدان صبره .\n",
      "Hypothesis:\n",
      "   فقد غولز صبره.\n",
      "Label:\n",
      "    0: entailment\n",
      "\n",
      "---------------------\n",
      "\n",
      "Premise:\n",
      "   وبالتالي، مع تزايد تنوع الكائنات الموجودة على شبكة الإنترنت، يزداد تنوع\n",
      "  المنافذ المحتملة للسلع والخدمات الجديدة بسرعة أكبر!\n",
      "Hypothesis:\n",
      "   يمكنك بيع الجوارب بدلا من الملابس فقط.\n",
      "Label:\n",
      "    1: neutral\n",
      "\n",
      "---------------------\n",
      "\n"
     ]
    }
   ],
   "source": [
    "for ex in xnli_ar.shuffle(writer_batch_size=256).select(range(3)):\n",
    "\n",
    "    premise = ex['premise']\n",
    "    hypothesis = ex['hypothesis']\n",
    "\n",
    "    print('Premise:')\n",
    "    print(wrapper.fill(premise))\n",
    "    \n",
    "    print('Hypothesis:')\n",
    "    print(wrapper.fill(hypothesis))\n",
    "\n",
    "    label = ex['label']\n",
    "    l_name = label_names[label]\n",
    "\n",
    "    print('Label:')\n",
    "    print(f'    {label}: {l_name}')\n",
    "\n",
    "    print('\\n---------------------\\n')\n"
   ]
  },
  {
   "cell_type": "markdown",
   "metadata": {
    "id": "X9UIAjbSkJfK"
   },
   "source": [
    "# 3. Helpers"
   ]
  },
  {
   "cell_type": "code",
   "execution_count": 6,
   "metadata": {
    "executionInfo": {
     "elapsed": 287,
     "status": "ok",
     "timestamp": 1618175648155,
     "user": {
      "displayName": "Vidya Akavoor",
      "photoUrl": "",
      "userId": "09730023767824741847"
     },
     "user_tz": 240
    },
    "id": "Il_AP44xkDUX"
   },
   "outputs": [],
   "source": [
    "import time\n",
    "import datetime\n",
    "\n",
    "def format_time(elapsed):\n",
    "    '''\n",
    "    Takes a time in seconds and returns a string hh:mm:ss\n",
    "    '''\n",
    "    # Round to the nearest second.\n",
    "    elapsed_rounded = int(round((elapsed)))\n",
    "    \n",
    "    # Format as hh:mm:ss\n",
    "    return str(datetime.timedelta(seconds=elapsed_rounded))\n"
   ]
  },
  {
   "cell_type": "code",
   "execution_count": 7,
   "metadata": {
    "executionInfo": {
     "elapsed": 164,
     "status": "ok",
     "timestamp": 1618175648279,
     "user": {
      "displayName": "Vidya Akavoor",
      "photoUrl": "",
      "userId": "09730023767824741847"
     },
     "user_tz": 240
    },
    "id": "jih_JavvkRrY"
   },
   "outputs": [],
   "source": [
    "import numpy as np\n",
    "\n",
    "# Function to calculate the accuracy of our predictions vs labels\n",
    "def flat_accuracy(preds, labels):\n",
    "    pred_flat = np.argmax(preds, axis=1).flatten()\n",
    "    labels_flat = labels.flatten()\n",
    "    return np.sum(pred_flat == labels_flat) / len(labels_flat)"
   ]
  },
  {
   "cell_type": "code",
   "execution_count": 8,
   "metadata": {
    "executionInfo": {
     "elapsed": 786,
     "status": "ok",
     "timestamp": 1618175649202,
     "user": {
      "displayName": "Vidya Akavoor",
      "photoUrl": "",
      "userId": "09730023767824741847"
     },
     "user_tz": 240
    },
    "id": "mhFQOp1ykmAc"
   },
   "outputs": [],
   "source": [
    "import random\n",
    "\n",
    "def training_helper(model, train_dataloader, validation_dataloader, optimizer, scheduler, \n",
    "                    seed_val=42, epochs=3, ):\n",
    "    # This training code is based on the `run_glue.py` script here:\n",
    "    # https://github.com/huggingface/transformers/blob/5bfcd0485ece086ebcbed2d008813037968a9e58/examples/run_glue.py#L128\n",
    "\n",
    "    # Set the seed value all over the place to make this reproducible.\n",
    "\n",
    "    random.seed(seed_val)\n",
    "    np.random.seed(seed_val)\n",
    "    torch.manual_seed(seed_val)\n",
    "    torch.cuda.manual_seed_all(seed_val)\n",
    "\n",
    "    # We'll store a number of quantities such as training and validation loss, \n",
    "    # validation accuracy, and timings.\n",
    "    training_stats = []\n",
    "\n",
    "    # Measure the total training time for the whole run.\n",
    "    total_t0 = time.time()\n",
    "\n",
    "    # For each epoch...\n",
    "    for epoch_i in range(0, epochs):\n",
    "        \n",
    "        # ========================================\n",
    "        #               Training\n",
    "        # ========================================\n",
    "        \n",
    "        # Perform one full pass over the training set.\n",
    "\n",
    "        print(\"\")\n",
    "        print('======== Epoch {:} / {:} ========'.format(epoch_i + 1, epochs))\n",
    "        print('Training...')\n",
    "\n",
    "        # Measure how long the training epoch takes.\n",
    "        t0 = time.time()\n",
    "\n",
    "        # Reset the total loss for this epoch.\n",
    "        total_train_loss = 0\n",
    "\n",
    "        # Put the model into training mode. Don't be mislead--the call to \n",
    "        # `train` just changes the *mode*, it doesn't *perform* the training.\n",
    "        # `dropout` and `batchnorm` layers behave differently during training\n",
    "        # vs. test (source: https://stackoverflow.com/questions/51433378/what-does-model-train-do-in-pytorch)\n",
    "        model.train()\n",
    "\n",
    "        # For each batch of training data...\n",
    "        for step, batch in enumerate(train_dataloader):\n",
    "\n",
    "            # Progress update every 40 batches.\n",
    "            if step % 40 == 0 and not step == 0:\n",
    "                # Calculate elapsed time in minutes.\n",
    "                elapsed = format_time(time.time() - t0)\n",
    "                \n",
    "                # Report progress.\n",
    "                print('  Batch {:>5,}  of  {:>5,}.    Elapsed: {:}.'.format(step, len(train_dataloader), elapsed))\n",
    "\n",
    "            # Unpack this training batch from our dataloader. \n",
    "            #\n",
    "            # As we unpack the batch, we'll also copy each tensor to the GPU using the \n",
    "            # `to` method.\n",
    "            #\n",
    "            # `batch` contains three pytorch tensors:\n",
    "            #   [0]: input ids \n",
    "            #   [1]: attention masks\n",
    "            #   [2]: labels \n",
    "            b_input_ids = batch[0].to(device)\n",
    "            b_input_mask = batch[1].to(device)\n",
    "            b_labels = batch[2].to(device)\n",
    "\n",
    "            # Always clear any previously calculated gradients before performing a\n",
    "            # backward pass. PyTorch doesn't do this automatically because \n",
    "            # accumulating the gradients is \"convenient while training RNNs\". \n",
    "            # (source: https://stackoverflow.com/questions/48001598/why-do-we-need-to-call-zero-grad-in-pytorch)\n",
    "            model.zero_grad()        \n",
    "\n",
    "            # Perform a forward pass (evaluate the model on this training batch).\n",
    "            # In PyTorch, calling `model` will in turn call the model's `forward` \n",
    "            # function and pass down the arguments. The `forward` function is \n",
    "            # documented here: \n",
    "            # https://huggingface.co/transformers/model_doc/bert.html#bertforsequenceclassification\n",
    "            # The results are returned in a results object, documented here:\n",
    "            # https://huggingface.co/transformers/main_classes/output.html#transformers.modeling_outputs.SequenceClassifierOutput\n",
    "            # Specifically, we'll get the loss (because we provided labels) and the\n",
    "            # \"logits\"--the model outputs prior to activation.\n",
    "            result = model(b_input_ids, \n",
    "                        token_type_ids=None, \n",
    "                        attention_mask=b_input_mask, \n",
    "                        labels=b_labels,\n",
    "                        return_dict=True)\n",
    "\n",
    "            loss = result.loss\n",
    "            logits = result.logits\n",
    "\n",
    "            # Accumulate the training loss over all of the batches so that we can\n",
    "            # calculate the average loss at the end. `loss` is a Tensor containing a\n",
    "            # single value; the `.item()` function just returns the Python value \n",
    "            # from the tensor.\n",
    "            total_train_loss += loss.item()\n",
    "\n",
    "            # Perform a backward pass to calculate the gradients.\n",
    "            loss.backward()\n",
    "\n",
    "            # Clip the norm of the gradients to 1.0.\n",
    "            # This is to help prevent the \"exploding gradients\" problem.\n",
    "            torch.nn.utils.clip_grad_norm_(model.parameters(), 1.0)\n",
    "\n",
    "            # Update parameters and take a step using the computed gradient.\n",
    "            # The optimizer dictates the \"update rule\"--how the parameters are\n",
    "            # modified based on their gradients, the learning rate, etc.\n",
    "            optimizer.step()\n",
    "\n",
    "            # Update the learning rate.\n",
    "            scheduler.step()\n",
    "\n",
    "        # Calculate the average loss over all of the batches.\n",
    "        avg_train_loss = total_train_loss / len(train_dataloader)            \n",
    "        \n",
    "        # Measure how long this epoch took.\n",
    "        training_time = format_time(time.time() - t0)\n",
    "\n",
    "        print(\"\")\n",
    "        print(\"  Average training loss: {0:.2f}\".format(avg_train_loss))\n",
    "        print(\"  Training epcoh took: {:}\".format(training_time))\n",
    "            \n",
    "        # ========================================\n",
    "        #               Validation\n",
    "        # ========================================\n",
    "        # After the completion of each training epoch, measure our performance on\n",
    "        # our validation set.\n",
    "\n",
    "        print(\"\")\n",
    "        print(\"Running Validation...\")\n",
    "\n",
    "        t0 = time.time()\n",
    "\n",
    "        # Put the model in evaluation mode--the dropout layers behave differently\n",
    "        # during evaluation.\n",
    "        model.eval()\n",
    "\n",
    "        # Tracking variables \n",
    "        total_eval_accuracy = 0\n",
    "        total_eval_loss = 0\n",
    "        nb_eval_steps = 0\n",
    "\n",
    "        # Evaluate data for one epoch\n",
    "        for batch in validation_dataloader:\n",
    "            \n",
    "            # Unpack this training batch from our dataloader. \n",
    "            #\n",
    "            # As we unpack the batch, we'll also copy each tensor to the GPU using \n",
    "            # the `to` method.\n",
    "            #\n",
    "            # `batch` contains three pytorch tensors:\n",
    "            #   [0]: input ids \n",
    "            #   [1]: attention masks\n",
    "            #   [2]: labels \n",
    "            b_input_ids = batch[0].to(device)\n",
    "            b_input_mask = batch[1].to(device)\n",
    "            b_labels = batch[2].to(device)\n",
    "            \n",
    "            # Tell pytorch not to bother with constructing the compute graph during\n",
    "            # the forward pass, since this is only needed for backprop (training).\n",
    "            with torch.no_grad():        \n",
    "\n",
    "                # Forward pass, calculate logit predictions.\n",
    "                # token_type_ids is the same as the \"segment ids\", which \n",
    "                # differentiates sentence 1 and 2 in 2-sentence tasks.\n",
    "                result = model(b_input_ids, \n",
    "                            token_type_ids=None, \n",
    "                            attention_mask=b_input_mask,\n",
    "                            labels=b_labels,\n",
    "                            return_dict=True)\n",
    "\n",
    "            # Get the loss and \"logits\" output by the model. The \"logits\" are the \n",
    "            # output values prior to applying an activation function like the \n",
    "            # softmax.\n",
    "            loss = result.loss\n",
    "            logits = result.logits\n",
    "                \n",
    "            # Accumulate the validation loss.\n",
    "            total_eval_loss += loss.item()\n",
    "\n",
    "            # Move logits and labels to CPU\n",
    "            logits = logits.detach().cpu().numpy()\n",
    "            label_ids = b_labels.to('cpu').numpy()\n",
    "\n",
    "            # Calculate the accuracy for this batch of test sentences, and\n",
    "            # accumulate it over all batches.\n",
    "            total_eval_accuracy += flat_accuracy(logits, label_ids)\n",
    "            \n",
    "\n",
    "        # Report the final accuracy for this validation run.\n",
    "        avg_val_accuracy = total_eval_accuracy / len(validation_dataloader)\n",
    "        print(\"  Accuracy: {0:.2f}\".format(avg_val_accuracy))\n",
    "\n",
    "        # Calculate the average loss over all of the batches.\n",
    "        avg_val_loss = total_eval_loss / len(validation_dataloader)\n",
    "        \n",
    "        # Measure how long the validation run took.\n",
    "        validation_time = format_time(time.time() - t0)\n",
    "        \n",
    "        print(\"  Validation Loss: {0:.2f}\".format(avg_val_loss))\n",
    "        print(\"  Validation took: {:}\".format(validation_time))\n",
    "\n",
    "        # Record all statistics from this epoch.\n",
    "        training_stats.append(\n",
    "            {\n",
    "                'epoch': epoch_i + 1,\n",
    "                'Training Loss': avg_train_loss,\n",
    "                'Valid. Loss': avg_val_loss,\n",
    "                'Valid. Accur.': avg_val_accuracy,\n",
    "                'Training Time': training_time,\n",
    "                'Validation Time': validation_time\n",
    "            }\n",
    "        )\n",
    "\n",
    "    print(\"\")\n",
    "    print(\"Training complete!\")\n",
    "\n",
    "    print(\"Total training took {:} (h:mm:ss)\".format(format_time(time.time()-total_t0)))\n",
    "    return training_stats"
   ]
  },
  {
   "cell_type": "markdown",
   "metadata": {
    "id": "va4atgqjlSl2"
   },
   "source": [
    "# 4. Multi-BERT"
   ]
  },
  {
   "cell_type": "markdown",
   "metadata": {
    "id": "sBoSWcwilXdm"
   },
   "source": [
    "## 4.1. Train Multi-BERT on MNLI"
   ]
  },
  {
   "cell_type": "code",
   "execution_count": 16,
   "metadata": {
    "colab": {
     "base_uri": "https://localhost:8080/"
    },
    "executionInfo": {
     "elapsed": 52948,
     "status": "ok",
     "timestamp": 1618170500369,
     "user": {
      "displayName": "Vidya Akavoor",
      "photoUrl": "",
      "userId": "09730023767824741847"
     },
     "user_tz": 240
    },
    "id": "X_UVkFN-lR8o",
    "outputId": "35d78dca-7001-4cfb-ec7e-64c2af3cc23e"
   },
   "outputs": [
    {
     "name": "stdout",
     "output_type": "stream",
     "text": [
      "Loading Multi-BERT tokenizer...\n",
      "Original: Conceptually cream skimming has two basic dimensions - product and geography.; Product and geography are what make cream skimming work. \n",
      "Token IDs: tensor([  101, 87195, 10563, 42830, 26158, 59592, 10251, 10438, 10536, 17649,\n",
      "        32310,   118, 20058, 10110, 25585,   119,   102, 20058, 10110, 25585,\n",
      "        10320, 11523, 12696, 42830, 26158, 59592, 10251, 11497,   119,   102,\n",
      "            0,     0,     0,     0,     0,     0,     0,     0,     0,     0,\n",
      "            0,     0,     0,     0,     0,     0,     0,     0,     0,     0,\n",
      "            0,     0,     0,     0,     0,     0,     0,     0,     0,     0,\n",
      "            0,     0,     0,     0,     0,     0,     0,     0,     0,     0,\n",
      "            0,     0,     0,     0,     0,     0,     0,     0,     0,     0,\n",
      "            0,     0,     0,     0,     0,     0,     0,     0,     0,     0,\n",
      "            0,     0,     0,     0,     0,     0,     0,     0,     0,     0,\n",
      "            0,     0,     0,     0,     0,     0,     0,     0,     0,     0,\n",
      "            0,     0,     0,     0,     0,     0,     0,     0,     0,     0,\n",
      "            0,     0,     0,     0,     0,     0,     0,     0])\n"
     ]
    }
   ],
   "source": [
    "from transformers import BertTokenizer, BertForSequenceClassification\n",
    "\n",
    " # Load the Multi-BERT tokenizer.\n",
    "print('Loading Multi-BERT tokenizer...')\n",
    "tokenizer_m_bert = BertTokenizer.from_pretrained('bert-base-multilingual-uncased', do_lower_case=True)\n",
    "\n",
    " # Tokenize all of the sentences and map the tokens to thier word IDs.\n",
    "input_ids_m_bert = []\n",
    "attention_masks_m_bert = []\n",
    "labels = []\n",
    "\n",
    "# For every sentence...\n",
    "for ex in mnli:\n",
    "    # `encode_plus` will:\n",
    "    #   (1) Tokenize the sentence.\n",
    "    #   (2) Prepend the `[CLS]` token to the start.\n",
    "    #   (3) Append the `[SEP]` token to the end.\n",
    "    #   (4) Map tokens to their IDs.\n",
    "    #   (5) Pad or truncate the sentence to `max_length`\n",
    "    #   (6) Create attention masks for [PAD] tokens.\n",
    "    encoded_dict = tokenizer_m_bert.encode_plus(\n",
    "                        ex['premise'],                  # Sentences to encode.\n",
    "                        ex['hypothesis'],                      \n",
    "                        add_special_tokens = True,      # Add '[CLS]' and '[SEP]'\n",
    "                        max_length = 128,               # Pad & truncate all sentences.\n",
    "                        truncation = True,\n",
    "                        padding = 'max_length',\n",
    "                        return_attention_mask = True,   # Construct attn. masks.\n",
    "                        return_tensors = 'pt',          # Return pytorch tensors.\n",
    "                   )\n",
    "    \n",
    "    # Add the encoded sentence to the list.    \n",
    "    input_ids_m_bert.append(encoded_dict['input_ids'])\n",
    "    \n",
    "    # And its attention mask (simply differentiates padding from non-padding).\n",
    "    attention_masks_m_bert.append(encoded_dict['attention_mask'])\n",
    "\n",
    "    labels.append(ex['label'])\n",
    "\n",
    "# Convert the lists into tensors.\n",
    "input_ids_m_bert = torch.cat(input_ids_m_bert, dim=0)\n",
    "attention_masks_m_bert = torch.cat(attention_masks_m_bert, dim=0)\n",
    "labels = torch.tensor(labels)\n",
    "\n",
    "# Print sentence 0, now as a list of IDs.\n",
    "print(f'Original: {mnli[0][\"premise\"]}; {mnli[0][\"hypothesis\"]}')\n",
    "print('Token IDs:', input_ids_m_bert[0])"
   ]
  },
  {
   "cell_type": "code",
   "execution_count": 17,
   "metadata": {
    "colab": {
     "base_uri": "https://localhost:8080/"
    },
    "executionInfo": {
     "elapsed": 352,
     "status": "ok",
     "timestamp": 1618170835066,
     "user": {
      "displayName": "Vidya Akavoor",
      "photoUrl": "",
      "userId": "09730023767824741847"
     },
     "user_tz": 240
    },
    "id": "ENnlHADkpLFe",
    "outputId": "3602c33d-fd13-4c69-c614-4ce38caf95c7"
   },
   "outputs": [
    {
     "name": "stdout",
     "output_type": "stream",
     "text": [
      "45,000 training samples\n",
      "5,000 validation samples\n"
     ]
    }
   ],
   "source": [
    "import torch\n",
    "from torch.utils.data import TensorDataset, random_split\n",
    "\n",
    "# Combine the training inputs into a TensorDataset.\n",
    "mnli_mb_dataset = TensorDataset(input_ids_m_bert, attention_masks_m_bert, labels)\n",
    "\n",
    "# Create a 90-10 train-validation split.\n",
    "\n",
    "# Calculate the number of samples to include in each set.\n",
    "mnli_mb_train_size = int(0.9 * len(mnli_mb_dataset))\n",
    "mnli_mb_val_size = len(mnli_mb_dataset) - mnli_mb_train_size\n",
    "\n",
    "# Divide the dataset by randomly selecting samples.\n",
    "mnli_mb_train_dataset, mnli_mb_val_dataset = random_split(mnli_mb_dataset, [mnli_mb_train_size, mnli_mb_val_size])\n",
    "\n",
    "print('{:>5,} training samples'.format(mnli_mb_train_size))\n",
    "print('{:>5,} validation samples'.format(mnli_mb_val_size))"
   ]
  },
  {
   "cell_type": "code",
   "execution_count": 18,
   "metadata": {
    "executionInfo": {
     "elapsed": 380,
     "status": "ok",
     "timestamp": 1618170839971,
     "user": {
      "displayName": "Vidya Akavoor",
      "photoUrl": "",
      "userId": "09730023767824741847"
     },
     "user_tz": 240
    },
    "id": "5mfJ0QzXpwCU"
   },
   "outputs": [],
   "source": [
    "from torch.utils.data import DataLoader, RandomSampler, SequentialSampler\n",
    "\n",
    "# The DataLoader needs to know our batch size for training, so we specify it \n",
    "# here. For fine-tuning BERT on a specific task, the authors recommend a batch \n",
    "# size of 16 or 32.\n",
    "batch_size = 16\n",
    "\n",
    "# Create the DataLoaders for our training and validation sets.\n",
    "# We'll take training samples in random order. \n",
    "mnli_mb_train_dataloader = DataLoader(\n",
    "            mnli_mb_train_dataset,  # The training samples.\n",
    "            sampler = RandomSampler(mnli_mb_train_dataset), # Select batches randomly\n",
    "            batch_size = batch_size # Trains with this batch size.\n",
    "        )\n",
    "\n",
    "# For validation the order doesn't matter, so we'll just read them sequentially.\n",
    "mnli_mb_validation_dataloader = DataLoader(\n",
    "            mnli_mb_val_dataset, # The validation samples.\n",
    "            sampler = SequentialSampler(mnli_mb_val_dataset), # Pull out batches sequentially.\n",
    "            batch_size = batch_size # Evaluate with this batch size.\n",
    "        )\n"
   ]
  },
  {
   "cell_type": "code",
   "execution_count": 19,
   "metadata": {
    "colab": {
     "base_uri": "https://localhost:8080/",
     "height": 1000,
     "referenced_widgets": [
      "ad8590f44a854ab88daf84f26463f42f",
      "8b5cdec9ca0d41f99caa188dfc7ff8ed",
      "6d34795be52e4f54bda859162613af45",
      "77209ebe4cfa4c0988bee40754c3ebe2",
      "f2e4dc42052f495bac45d2e372951351",
      "e76eb71c0b8e4b3395046b3085ed29c3",
      "c63f238eec6d4c7b83cd12872f9d53d3",
      "bb3ba94d9d8a4696b45ac904fae9d906",
      "644691a780c9487fb7a1bd527a9d01c6",
      "e2c38f22d13f464eb8653818f2aee42a",
      "fb1a995b6b39463da51597df85301a26",
      "b91ece32c73a46cd8e022684e519379c",
      "f29e84e89a7f410cab257fafb6afb61c",
      "331491390f7949789ba25f9b1f151b62",
      "db190a2639e246a9a5451138901de8a2",
      "8e294219b9054e9baf3a222d0592a8d4"
     ]
    },
    "executionInfo": {
     "elapsed": 38784,
     "status": "ok",
     "timestamp": 1618170879508,
     "user": {
      "displayName": "Vidya Akavoor",
      "photoUrl": "",
      "userId": "09730023767824741847"
     },
     "user_tz": 240
    },
    "id": "MJBbQm0tqOgj",
    "outputId": "32bf17c4-9f6d-457b-f0ff-a0567e5276d0"
   },
   "outputs": [
    {
     "data": {
      "application/vnd.jupyter.widget-view+json": {
       "model_id": "ad8590f44a854ab88daf84f26463f42f",
       "version_major": 2,
       "version_minor": 0
      },
      "text/plain": [
       "HBox(children=(FloatProgress(value=0.0, description='Downloading', max=625.0, style=ProgressStyle(description_…"
      ]
     },
     "metadata": {
      "tags": []
     },
     "output_type": "display_data"
    },
    {
     "name": "stdout",
     "output_type": "stream",
     "text": [
      "\n"
     ]
    },
    {
     "data": {
      "application/vnd.jupyter.widget-view+json": {
       "model_id": "644691a780c9487fb7a1bd527a9d01c6",
       "version_major": 2,
       "version_minor": 0
      },
      "text/plain": [
       "HBox(children=(FloatProgress(value=0.0, description='Downloading', max=672271273.0, style=ProgressStyle(descri…"
      ]
     },
     "metadata": {
      "tags": []
     },
     "output_type": "display_data"
    },
    {
     "name": "stdout",
     "output_type": "stream",
     "text": [
      "\n"
     ]
    },
    {
     "name": "stderr",
     "output_type": "stream",
     "text": [
      "Some weights of the model checkpoint at bert-base-multilingual-uncased were not used when initializing BertForSequenceClassification: ['cls.predictions.bias', 'cls.predictions.transform.dense.weight', 'cls.predictions.transform.dense.bias', 'cls.predictions.decoder.weight', 'cls.seq_relationship.weight', 'cls.seq_relationship.bias', 'cls.predictions.transform.LayerNorm.weight', 'cls.predictions.transform.LayerNorm.bias']\n",
      "- This IS expected if you are initializing BertForSequenceClassification from the checkpoint of a model trained on another task or with another architecture (e.g. initializing a BertForSequenceClassification model from a BertForPreTraining model).\n",
      "- This IS NOT expected if you are initializing BertForSequenceClassification from the checkpoint of a model that you expect to be exactly identical (initializing a BertForSequenceClassification model from a BertForSequenceClassification model).\n",
      "Some weights of BertForSequenceClassification were not initialized from the model checkpoint at bert-base-multilingual-uncased and are newly initialized: ['classifier.weight', 'classifier.bias']\n",
      "You should probably TRAIN this model on a down-stream task to be able to use it for predictions and inference.\n"
     ]
    },
    {
     "data": {
      "text/plain": [
       "BertForSequenceClassification(\n",
       "  (bert): BertModel(\n",
       "    (embeddings): BertEmbeddings(\n",
       "      (word_embeddings): Embedding(105879, 768, padding_idx=0)\n",
       "      (position_embeddings): Embedding(512, 768)\n",
       "      (token_type_embeddings): Embedding(2, 768)\n",
       "      (LayerNorm): LayerNorm((768,), eps=1e-12, elementwise_affine=True)\n",
       "      (dropout): Dropout(p=0.1, inplace=False)\n",
       "    )\n",
       "    (encoder): BertEncoder(\n",
       "      (layer): ModuleList(\n",
       "        (0): BertLayer(\n",
       "          (attention): BertAttention(\n",
       "            (self): BertSelfAttention(\n",
       "              (query): Linear(in_features=768, out_features=768, bias=True)\n",
       "              (key): Linear(in_features=768, out_features=768, bias=True)\n",
       "              (value): Linear(in_features=768, out_features=768, bias=True)\n",
       "              (dropout): Dropout(p=0.1, inplace=False)\n",
       "            )\n",
       "            (output): BertSelfOutput(\n",
       "              (dense): Linear(in_features=768, out_features=768, bias=True)\n",
       "              (LayerNorm): LayerNorm((768,), eps=1e-12, elementwise_affine=True)\n",
       "              (dropout): Dropout(p=0.1, inplace=False)\n",
       "            )\n",
       "          )\n",
       "          (intermediate): BertIntermediate(\n",
       "            (dense): Linear(in_features=768, out_features=3072, bias=True)\n",
       "          )\n",
       "          (output): BertOutput(\n",
       "            (dense): Linear(in_features=3072, out_features=768, bias=True)\n",
       "            (LayerNorm): LayerNorm((768,), eps=1e-12, elementwise_affine=True)\n",
       "            (dropout): Dropout(p=0.1, inplace=False)\n",
       "          )\n",
       "        )\n",
       "        (1): BertLayer(\n",
       "          (attention): BertAttention(\n",
       "            (self): BertSelfAttention(\n",
       "              (query): Linear(in_features=768, out_features=768, bias=True)\n",
       "              (key): Linear(in_features=768, out_features=768, bias=True)\n",
       "              (value): Linear(in_features=768, out_features=768, bias=True)\n",
       "              (dropout): Dropout(p=0.1, inplace=False)\n",
       "            )\n",
       "            (output): BertSelfOutput(\n",
       "              (dense): Linear(in_features=768, out_features=768, bias=True)\n",
       "              (LayerNorm): LayerNorm((768,), eps=1e-12, elementwise_affine=True)\n",
       "              (dropout): Dropout(p=0.1, inplace=False)\n",
       "            )\n",
       "          )\n",
       "          (intermediate): BertIntermediate(\n",
       "            (dense): Linear(in_features=768, out_features=3072, bias=True)\n",
       "          )\n",
       "          (output): BertOutput(\n",
       "            (dense): Linear(in_features=3072, out_features=768, bias=True)\n",
       "            (LayerNorm): LayerNorm((768,), eps=1e-12, elementwise_affine=True)\n",
       "            (dropout): Dropout(p=0.1, inplace=False)\n",
       "          )\n",
       "        )\n",
       "        (2): BertLayer(\n",
       "          (attention): BertAttention(\n",
       "            (self): BertSelfAttention(\n",
       "              (query): Linear(in_features=768, out_features=768, bias=True)\n",
       "              (key): Linear(in_features=768, out_features=768, bias=True)\n",
       "              (value): Linear(in_features=768, out_features=768, bias=True)\n",
       "              (dropout): Dropout(p=0.1, inplace=False)\n",
       "            )\n",
       "            (output): BertSelfOutput(\n",
       "              (dense): Linear(in_features=768, out_features=768, bias=True)\n",
       "              (LayerNorm): LayerNorm((768,), eps=1e-12, elementwise_affine=True)\n",
       "              (dropout): Dropout(p=0.1, inplace=False)\n",
       "            )\n",
       "          )\n",
       "          (intermediate): BertIntermediate(\n",
       "            (dense): Linear(in_features=768, out_features=3072, bias=True)\n",
       "          )\n",
       "          (output): BertOutput(\n",
       "            (dense): Linear(in_features=3072, out_features=768, bias=True)\n",
       "            (LayerNorm): LayerNorm((768,), eps=1e-12, elementwise_affine=True)\n",
       "            (dropout): Dropout(p=0.1, inplace=False)\n",
       "          )\n",
       "        )\n",
       "        (3): BertLayer(\n",
       "          (attention): BertAttention(\n",
       "            (self): BertSelfAttention(\n",
       "              (query): Linear(in_features=768, out_features=768, bias=True)\n",
       "              (key): Linear(in_features=768, out_features=768, bias=True)\n",
       "              (value): Linear(in_features=768, out_features=768, bias=True)\n",
       "              (dropout): Dropout(p=0.1, inplace=False)\n",
       "            )\n",
       "            (output): BertSelfOutput(\n",
       "              (dense): Linear(in_features=768, out_features=768, bias=True)\n",
       "              (LayerNorm): LayerNorm((768,), eps=1e-12, elementwise_affine=True)\n",
       "              (dropout): Dropout(p=0.1, inplace=False)\n",
       "            )\n",
       "          )\n",
       "          (intermediate): BertIntermediate(\n",
       "            (dense): Linear(in_features=768, out_features=3072, bias=True)\n",
       "          )\n",
       "          (output): BertOutput(\n",
       "            (dense): Linear(in_features=3072, out_features=768, bias=True)\n",
       "            (LayerNorm): LayerNorm((768,), eps=1e-12, elementwise_affine=True)\n",
       "            (dropout): Dropout(p=0.1, inplace=False)\n",
       "          )\n",
       "        )\n",
       "        (4): BertLayer(\n",
       "          (attention): BertAttention(\n",
       "            (self): BertSelfAttention(\n",
       "              (query): Linear(in_features=768, out_features=768, bias=True)\n",
       "              (key): Linear(in_features=768, out_features=768, bias=True)\n",
       "              (value): Linear(in_features=768, out_features=768, bias=True)\n",
       "              (dropout): Dropout(p=0.1, inplace=False)\n",
       "            )\n",
       "            (output): BertSelfOutput(\n",
       "              (dense): Linear(in_features=768, out_features=768, bias=True)\n",
       "              (LayerNorm): LayerNorm((768,), eps=1e-12, elementwise_affine=True)\n",
       "              (dropout): Dropout(p=0.1, inplace=False)\n",
       "            )\n",
       "          )\n",
       "          (intermediate): BertIntermediate(\n",
       "            (dense): Linear(in_features=768, out_features=3072, bias=True)\n",
       "          )\n",
       "          (output): BertOutput(\n",
       "            (dense): Linear(in_features=3072, out_features=768, bias=True)\n",
       "            (LayerNorm): LayerNorm((768,), eps=1e-12, elementwise_affine=True)\n",
       "            (dropout): Dropout(p=0.1, inplace=False)\n",
       "          )\n",
       "        )\n",
       "        (5): BertLayer(\n",
       "          (attention): BertAttention(\n",
       "            (self): BertSelfAttention(\n",
       "              (query): Linear(in_features=768, out_features=768, bias=True)\n",
       "              (key): Linear(in_features=768, out_features=768, bias=True)\n",
       "              (value): Linear(in_features=768, out_features=768, bias=True)\n",
       "              (dropout): Dropout(p=0.1, inplace=False)\n",
       "            )\n",
       "            (output): BertSelfOutput(\n",
       "              (dense): Linear(in_features=768, out_features=768, bias=True)\n",
       "              (LayerNorm): LayerNorm((768,), eps=1e-12, elementwise_affine=True)\n",
       "              (dropout): Dropout(p=0.1, inplace=False)\n",
       "            )\n",
       "          )\n",
       "          (intermediate): BertIntermediate(\n",
       "            (dense): Linear(in_features=768, out_features=3072, bias=True)\n",
       "          )\n",
       "          (output): BertOutput(\n",
       "            (dense): Linear(in_features=3072, out_features=768, bias=True)\n",
       "            (LayerNorm): LayerNorm((768,), eps=1e-12, elementwise_affine=True)\n",
       "            (dropout): Dropout(p=0.1, inplace=False)\n",
       "          )\n",
       "        )\n",
       "        (6): BertLayer(\n",
       "          (attention): BertAttention(\n",
       "            (self): BertSelfAttention(\n",
       "              (query): Linear(in_features=768, out_features=768, bias=True)\n",
       "              (key): Linear(in_features=768, out_features=768, bias=True)\n",
       "              (value): Linear(in_features=768, out_features=768, bias=True)\n",
       "              (dropout): Dropout(p=0.1, inplace=False)\n",
       "            )\n",
       "            (output): BertSelfOutput(\n",
       "              (dense): Linear(in_features=768, out_features=768, bias=True)\n",
       "              (LayerNorm): LayerNorm((768,), eps=1e-12, elementwise_affine=True)\n",
       "              (dropout): Dropout(p=0.1, inplace=False)\n",
       "            )\n",
       "          )\n",
       "          (intermediate): BertIntermediate(\n",
       "            (dense): Linear(in_features=768, out_features=3072, bias=True)\n",
       "          )\n",
       "          (output): BertOutput(\n",
       "            (dense): Linear(in_features=3072, out_features=768, bias=True)\n",
       "            (LayerNorm): LayerNorm((768,), eps=1e-12, elementwise_affine=True)\n",
       "            (dropout): Dropout(p=0.1, inplace=False)\n",
       "          )\n",
       "        )\n",
       "        (7): BertLayer(\n",
       "          (attention): BertAttention(\n",
       "            (self): BertSelfAttention(\n",
       "              (query): Linear(in_features=768, out_features=768, bias=True)\n",
       "              (key): Linear(in_features=768, out_features=768, bias=True)\n",
       "              (value): Linear(in_features=768, out_features=768, bias=True)\n",
       "              (dropout): Dropout(p=0.1, inplace=False)\n",
       "            )\n",
       "            (output): BertSelfOutput(\n",
       "              (dense): Linear(in_features=768, out_features=768, bias=True)\n",
       "              (LayerNorm): LayerNorm((768,), eps=1e-12, elementwise_affine=True)\n",
       "              (dropout): Dropout(p=0.1, inplace=False)\n",
       "            )\n",
       "          )\n",
       "          (intermediate): BertIntermediate(\n",
       "            (dense): Linear(in_features=768, out_features=3072, bias=True)\n",
       "          )\n",
       "          (output): BertOutput(\n",
       "            (dense): Linear(in_features=3072, out_features=768, bias=True)\n",
       "            (LayerNorm): LayerNorm((768,), eps=1e-12, elementwise_affine=True)\n",
       "            (dropout): Dropout(p=0.1, inplace=False)\n",
       "          )\n",
       "        )\n",
       "        (8): BertLayer(\n",
       "          (attention): BertAttention(\n",
       "            (self): BertSelfAttention(\n",
       "              (query): Linear(in_features=768, out_features=768, bias=True)\n",
       "              (key): Linear(in_features=768, out_features=768, bias=True)\n",
       "              (value): Linear(in_features=768, out_features=768, bias=True)\n",
       "              (dropout): Dropout(p=0.1, inplace=False)\n",
       "            )\n",
       "            (output): BertSelfOutput(\n",
       "              (dense): Linear(in_features=768, out_features=768, bias=True)\n",
       "              (LayerNorm): LayerNorm((768,), eps=1e-12, elementwise_affine=True)\n",
       "              (dropout): Dropout(p=0.1, inplace=False)\n",
       "            )\n",
       "          )\n",
       "          (intermediate): BertIntermediate(\n",
       "            (dense): Linear(in_features=768, out_features=3072, bias=True)\n",
       "          )\n",
       "          (output): BertOutput(\n",
       "            (dense): Linear(in_features=3072, out_features=768, bias=True)\n",
       "            (LayerNorm): LayerNorm((768,), eps=1e-12, elementwise_affine=True)\n",
       "            (dropout): Dropout(p=0.1, inplace=False)\n",
       "          )\n",
       "        )\n",
       "        (9): BertLayer(\n",
       "          (attention): BertAttention(\n",
       "            (self): BertSelfAttention(\n",
       "              (query): Linear(in_features=768, out_features=768, bias=True)\n",
       "              (key): Linear(in_features=768, out_features=768, bias=True)\n",
       "              (value): Linear(in_features=768, out_features=768, bias=True)\n",
       "              (dropout): Dropout(p=0.1, inplace=False)\n",
       "            )\n",
       "            (output): BertSelfOutput(\n",
       "              (dense): Linear(in_features=768, out_features=768, bias=True)\n",
       "              (LayerNorm): LayerNorm((768,), eps=1e-12, elementwise_affine=True)\n",
       "              (dropout): Dropout(p=0.1, inplace=False)\n",
       "            )\n",
       "          )\n",
       "          (intermediate): BertIntermediate(\n",
       "            (dense): Linear(in_features=768, out_features=3072, bias=True)\n",
       "          )\n",
       "          (output): BertOutput(\n",
       "            (dense): Linear(in_features=3072, out_features=768, bias=True)\n",
       "            (LayerNorm): LayerNorm((768,), eps=1e-12, elementwise_affine=True)\n",
       "            (dropout): Dropout(p=0.1, inplace=False)\n",
       "          )\n",
       "        )\n",
       "        (10): BertLayer(\n",
       "          (attention): BertAttention(\n",
       "            (self): BertSelfAttention(\n",
       "              (query): Linear(in_features=768, out_features=768, bias=True)\n",
       "              (key): Linear(in_features=768, out_features=768, bias=True)\n",
       "              (value): Linear(in_features=768, out_features=768, bias=True)\n",
       "              (dropout): Dropout(p=0.1, inplace=False)\n",
       "            )\n",
       "            (output): BertSelfOutput(\n",
       "              (dense): Linear(in_features=768, out_features=768, bias=True)\n",
       "              (LayerNorm): LayerNorm((768,), eps=1e-12, elementwise_affine=True)\n",
       "              (dropout): Dropout(p=0.1, inplace=False)\n",
       "            )\n",
       "          )\n",
       "          (intermediate): BertIntermediate(\n",
       "            (dense): Linear(in_features=768, out_features=3072, bias=True)\n",
       "          )\n",
       "          (output): BertOutput(\n",
       "            (dense): Linear(in_features=3072, out_features=768, bias=True)\n",
       "            (LayerNorm): LayerNorm((768,), eps=1e-12, elementwise_affine=True)\n",
       "            (dropout): Dropout(p=0.1, inplace=False)\n",
       "          )\n",
       "        )\n",
       "        (11): BertLayer(\n",
       "          (attention): BertAttention(\n",
       "            (self): BertSelfAttention(\n",
       "              (query): Linear(in_features=768, out_features=768, bias=True)\n",
       "              (key): Linear(in_features=768, out_features=768, bias=True)\n",
       "              (value): Linear(in_features=768, out_features=768, bias=True)\n",
       "              (dropout): Dropout(p=0.1, inplace=False)\n",
       "            )\n",
       "            (output): BertSelfOutput(\n",
       "              (dense): Linear(in_features=768, out_features=768, bias=True)\n",
       "              (LayerNorm): LayerNorm((768,), eps=1e-12, elementwise_affine=True)\n",
       "              (dropout): Dropout(p=0.1, inplace=False)\n",
       "            )\n",
       "          )\n",
       "          (intermediate): BertIntermediate(\n",
       "            (dense): Linear(in_features=768, out_features=3072, bias=True)\n",
       "          )\n",
       "          (output): BertOutput(\n",
       "            (dense): Linear(in_features=3072, out_features=768, bias=True)\n",
       "            (LayerNorm): LayerNorm((768,), eps=1e-12, elementwise_affine=True)\n",
       "            (dropout): Dropout(p=0.1, inplace=False)\n",
       "          )\n",
       "        )\n",
       "      )\n",
       "    )\n",
       "    (pooler): BertPooler(\n",
       "      (dense): Linear(in_features=768, out_features=768, bias=True)\n",
       "      (activation): Tanh()\n",
       "    )\n",
       "  )\n",
       "  (dropout): Dropout(p=0.1, inplace=False)\n",
       "  (classifier): Linear(in_features=768, out_features=3, bias=True)\n",
       ")"
      ]
     },
     "execution_count": 19,
     "metadata": {
      "tags": []
     },
     "output_type": "execute_result"
    }
   ],
   "source": [
    "# Load Multi-BERT \n",
    "m_bert_model = BertForSequenceClassification.from_pretrained(\n",
    "    \"bert-base-multilingual-uncased\", # Use the base XLM-R model, with an uncased vocab.\n",
    "    num_labels = 3, # The number of output labels--3 for binary classification.\n",
    "                    # You can increase this for multi-class tasks.   \n",
    "    output_attentions = False, # Whether the model returns attentions weights.\n",
    "    output_hidden_states = False, # Whether the model returns all hidden-states.\n",
    ")\n",
    "\n",
    "# Tell pytorch to run this model on the GPU.\n",
    "m_bert_model.cuda()"
   ]
  },
  {
   "cell_type": "code",
   "execution_count": 20,
   "metadata": {
    "executionInfo": {
     "elapsed": 209,
     "status": "ok",
     "timestamp": 1618170884579,
     "user": {
      "displayName": "Vidya Akavoor",
      "photoUrl": "",
      "userId": "09730023767824741847"
     },
     "user_tz": 240
    },
    "id": "p-VTzTqZqmXx"
   },
   "outputs": [],
   "source": [
    "from transformers import AdamW, get_linear_schedule_with_warmup\n",
    "\n",
    "# Note: AdamW is a class from the huggingface library (as opposed to pytorch) \n",
    "# I believe the 'W' stands for 'Weight Decay fix\"\n",
    "optimizer_mb = AdamW(m_bert_model.parameters(),\n",
    "                  lr = 5e-6, # args.learning_rate - default is 5e-5, our notebook had 2e-5\n",
    "                  eps = 1e-8 # args.adam_epsilon  - default is 1e-8.\n",
    "                )\n",
    "\n",
    "\n",
    "# Number of training epochs. The BERT authors recommend between 2 and 4. \n",
    "# We chose to run for 4, but we'll see later that this may be over-fitting the\n",
    "# training data.\n",
    "epochs = 3\n",
    "\n",
    "# Total number of training steps is [number of batches] x [number of epochs]. \n",
    "# (Note that this is not the same as the number of training samples).\n",
    "total_steps = len(mnli_mb_train_dataloader) * epochs\n",
    "\n",
    "# Create the learning rate scheduler.\n",
    "scheduler = get_linear_schedule_with_warmup(optimizer_mb, \n",
    "                                            num_warmup_steps = 0, # Default value in run_glue.py\n",
    "                                            num_training_steps = total_steps)\n"
   ]
  },
  {
   "cell_type": "code",
   "execution_count": 23,
   "metadata": {
    "colab": {
     "base_uri": "https://localhost:8080/"
    },
    "executionInfo": {
     "elapsed": 3643769,
     "status": "ok",
     "timestamp": 1618174542501,
     "user": {
      "displayName": "Vidya Akavoor",
      "photoUrl": "",
      "userId": "09730023767824741847"
     },
     "user_tz": 240
    },
    "id": "tqzd5Kd6rTxG",
    "outputId": "87cbb412-2af7-4ed7-8b3b-843e22cd9447"
   },
   "outputs": [
    {
     "name": "stdout",
     "output_type": "stream",
     "text": [
      "\n",
      "======== Epoch 1 / 3 ========\n",
      "Training...\n",
      "  Batch    40  of  2,813.    Elapsed: 0:00:17.\n",
      "  Batch    80  of  2,813.    Elapsed: 0:00:34.\n",
      "  Batch   120  of  2,813.    Elapsed: 0:00:51.\n",
      "  Batch   160  of  2,813.    Elapsed: 0:01:07.\n",
      "  Batch   200  of  2,813.    Elapsed: 0:01:24.\n",
      "  Batch   240  of  2,813.    Elapsed: 0:01:40.\n",
      "  Batch   280  of  2,813.    Elapsed: 0:01:57.\n",
      "  Batch   320  of  2,813.    Elapsed: 0:02:14.\n",
      "  Batch   360  of  2,813.    Elapsed: 0:02:30.\n",
      "  Batch   400  of  2,813.    Elapsed: 0:02:47.\n",
      "  Batch   440  of  2,813.    Elapsed: 0:03:04.\n",
      "  Batch   480  of  2,813.    Elapsed: 0:03:20.\n",
      "  Batch   520  of  2,813.    Elapsed: 0:03:37.\n",
      "  Batch   560  of  2,813.    Elapsed: 0:03:54.\n",
      "  Batch   600  of  2,813.    Elapsed: 0:04:10.\n",
      "  Batch   640  of  2,813.    Elapsed: 0:04:27.\n",
      "  Batch   680  of  2,813.    Elapsed: 0:04:44.\n",
      "  Batch   720  of  2,813.    Elapsed: 0:05:00.\n",
      "  Batch   760  of  2,813.    Elapsed: 0:05:17.\n",
      "  Batch   800  of  2,813.    Elapsed: 0:05:34.\n",
      "  Batch   840  of  2,813.    Elapsed: 0:05:50.\n",
      "  Batch   880  of  2,813.    Elapsed: 0:06:07.\n",
      "  Batch   920  of  2,813.    Elapsed: 0:06:24.\n",
      "  Batch   960  of  2,813.    Elapsed: 0:06:40.\n",
      "  Batch 1,000  of  2,813.    Elapsed: 0:06:57.\n",
      "  Batch 1,040  of  2,813.    Elapsed: 0:07:14.\n",
      "  Batch 1,080  of  2,813.    Elapsed: 0:07:30.\n",
      "  Batch 1,120  of  2,813.    Elapsed: 0:07:47.\n",
      "  Batch 1,160  of  2,813.    Elapsed: 0:08:04.\n",
      "  Batch 1,200  of  2,813.    Elapsed: 0:08:20.\n",
      "  Batch 1,240  of  2,813.    Elapsed: 0:08:37.\n",
      "  Batch 1,280  of  2,813.    Elapsed: 0:08:54.\n",
      "  Batch 1,320  of  2,813.    Elapsed: 0:09:10.\n",
      "  Batch 1,360  of  2,813.    Elapsed: 0:09:27.\n",
      "  Batch 1,400  of  2,813.    Elapsed: 0:09:43.\n",
      "  Batch 1,440  of  2,813.    Elapsed: 0:10:00.\n",
      "  Batch 1,480  of  2,813.    Elapsed: 0:10:17.\n",
      "  Batch 1,520  of  2,813.    Elapsed: 0:10:33.\n",
      "  Batch 1,560  of  2,813.    Elapsed: 0:10:50.\n",
      "  Batch 1,600  of  2,813.    Elapsed: 0:11:07.\n",
      "  Batch 1,640  of  2,813.    Elapsed: 0:11:23.\n",
      "  Batch 1,680  of  2,813.    Elapsed: 0:11:40.\n",
      "  Batch 1,720  of  2,813.    Elapsed: 0:11:56.\n",
      "  Batch 1,760  of  2,813.    Elapsed: 0:12:13.\n",
      "  Batch 1,800  of  2,813.    Elapsed: 0:12:30.\n",
      "  Batch 1,840  of  2,813.    Elapsed: 0:12:46.\n",
      "  Batch 1,880  of  2,813.    Elapsed: 0:13:03.\n",
      "  Batch 1,920  of  2,813.    Elapsed: 0:13:20.\n",
      "  Batch 1,960  of  2,813.    Elapsed: 0:13:36.\n",
      "  Batch 2,000  of  2,813.    Elapsed: 0:13:53.\n",
      "  Batch 2,040  of  2,813.    Elapsed: 0:14:10.\n",
      "  Batch 2,080  of  2,813.    Elapsed: 0:14:26.\n",
      "  Batch 2,120  of  2,813.    Elapsed: 0:14:43.\n",
      "  Batch 2,160  of  2,813.    Elapsed: 0:15:00.\n",
      "  Batch 2,200  of  2,813.    Elapsed: 0:15:16.\n",
      "  Batch 2,240  of  2,813.    Elapsed: 0:15:33.\n",
      "  Batch 2,280  of  2,813.    Elapsed: 0:15:49.\n",
      "  Batch 2,320  of  2,813.    Elapsed: 0:16:06.\n",
      "  Batch 2,360  of  2,813.    Elapsed: 0:16:23.\n",
      "  Batch 2,400  of  2,813.    Elapsed: 0:16:39.\n",
      "  Batch 2,440  of  2,813.    Elapsed: 0:16:56.\n",
      "  Batch 2,480  of  2,813.    Elapsed: 0:17:13.\n",
      "  Batch 2,520  of  2,813.    Elapsed: 0:17:29.\n",
      "  Batch 2,560  of  2,813.    Elapsed: 0:17:46.\n",
      "  Batch 2,600  of  2,813.    Elapsed: 0:18:03.\n",
      "  Batch 2,640  of  2,813.    Elapsed: 0:18:19.\n",
      "  Batch 2,680  of  2,813.    Elapsed: 0:18:36.\n",
      "  Batch 2,720  of  2,813.    Elapsed: 0:18:52.\n",
      "  Batch 2,760  of  2,813.    Elapsed: 0:19:09.\n",
      "  Batch 2,800  of  2,813.    Elapsed: 0:19:26.\n",
      "\n",
      "  Average training loss: 0.85\n",
      "  Training epcoh took: 0:19:31\n",
      "\n",
      "Running Validation...\n",
      "  Accuracy: 0.70\n",
      "  Validation Loss: 0.71\n",
      "  Validation took: 0:00:44\n",
      "\n",
      "======== Epoch 2 / 3 ========\n",
      "Training...\n",
      "  Batch    40  of  2,813.    Elapsed: 0:00:17.\n",
      "  Batch    80  of  2,813.    Elapsed: 0:00:33.\n",
      "  Batch   120  of  2,813.    Elapsed: 0:00:50.\n",
      "  Batch   160  of  2,813.    Elapsed: 0:01:06.\n",
      "  Batch   200  of  2,813.    Elapsed: 0:01:23.\n",
      "  Batch   240  of  2,813.    Elapsed: 0:01:40.\n",
      "  Batch   280  of  2,813.    Elapsed: 0:01:56.\n",
      "  Batch   320  of  2,813.    Elapsed: 0:02:13.\n",
      "  Batch   360  of  2,813.    Elapsed: 0:02:30.\n",
      "  Batch   400  of  2,813.    Elapsed: 0:02:46.\n",
      "  Batch   440  of  2,813.    Elapsed: 0:03:03.\n",
      "  Batch   480  of  2,813.    Elapsed: 0:03:20.\n",
      "  Batch   520  of  2,813.    Elapsed: 0:03:36.\n",
      "  Batch   560  of  2,813.    Elapsed: 0:03:53.\n",
      "  Batch   600  of  2,813.    Elapsed: 0:04:10.\n",
      "  Batch   640  of  2,813.    Elapsed: 0:04:26.\n",
      "  Batch   680  of  2,813.    Elapsed: 0:04:43.\n",
      "  Batch   720  of  2,813.    Elapsed: 0:05:00.\n",
      "  Batch   760  of  2,813.    Elapsed: 0:05:16.\n",
      "  Batch   800  of  2,813.    Elapsed: 0:05:33.\n",
      "  Batch   840  of  2,813.    Elapsed: 0:05:49.\n",
      "  Batch   880  of  2,813.    Elapsed: 0:06:06.\n",
      "  Batch   920  of  2,813.    Elapsed: 0:06:23.\n",
      "  Batch   960  of  2,813.    Elapsed: 0:06:39.\n",
      "  Batch 1,000  of  2,813.    Elapsed: 0:06:56.\n",
      "  Batch 1,040  of  2,813.    Elapsed: 0:07:13.\n",
      "  Batch 1,080  of  2,813.    Elapsed: 0:07:29.\n",
      "  Batch 1,120  of  2,813.    Elapsed: 0:07:46.\n",
      "  Batch 1,160  of  2,813.    Elapsed: 0:08:03.\n",
      "  Batch 1,200  of  2,813.    Elapsed: 0:08:19.\n",
      "  Batch 1,240  of  2,813.    Elapsed: 0:08:36.\n",
      "  Batch 1,280  of  2,813.    Elapsed: 0:08:53.\n",
      "  Batch 1,320  of  2,813.    Elapsed: 0:09:09.\n",
      "  Batch 1,360  of  2,813.    Elapsed: 0:09:26.\n",
      "  Batch 1,400  of  2,813.    Elapsed: 0:09:43.\n",
      "  Batch 1,440  of  2,813.    Elapsed: 0:09:59.\n",
      "  Batch 1,480  of  2,813.    Elapsed: 0:10:16.\n",
      "  Batch 1,520  of  2,813.    Elapsed: 0:10:33.\n",
      "  Batch 1,560  of  2,813.    Elapsed: 0:10:49.\n",
      "  Batch 1,600  of  2,813.    Elapsed: 0:11:06.\n",
      "  Batch 1,640  of  2,813.    Elapsed: 0:11:23.\n",
      "  Batch 1,680  of  2,813.    Elapsed: 0:11:39.\n",
      "  Batch 1,720  of  2,813.    Elapsed: 0:11:56.\n",
      "  Batch 1,760  of  2,813.    Elapsed: 0:12:13.\n",
      "  Batch 1,800  of  2,813.    Elapsed: 0:12:29.\n",
      "  Batch 1,840  of  2,813.    Elapsed: 0:12:46.\n",
      "  Batch 1,880  of  2,813.    Elapsed: 0:13:03.\n",
      "  Batch 1,920  of  2,813.    Elapsed: 0:13:19.\n",
      "  Batch 1,960  of  2,813.    Elapsed: 0:13:36.\n",
      "  Batch 2,000  of  2,813.    Elapsed: 0:13:53.\n",
      "  Batch 2,040  of  2,813.    Elapsed: 0:14:09.\n",
      "  Batch 2,080  of  2,813.    Elapsed: 0:14:26.\n",
      "  Batch 2,120  of  2,813.    Elapsed: 0:14:43.\n",
      "  Batch 2,160  of  2,813.    Elapsed: 0:14:59.\n",
      "  Batch 2,200  of  2,813.    Elapsed: 0:15:16.\n",
      "  Batch 2,240  of  2,813.    Elapsed: 0:15:32.\n",
      "  Batch 2,280  of  2,813.    Elapsed: 0:15:49.\n",
      "  Batch 2,320  of  2,813.    Elapsed: 0:16:06.\n",
      "  Batch 2,360  of  2,813.    Elapsed: 0:16:22.\n",
      "  Batch 2,400  of  2,813.    Elapsed: 0:16:39.\n",
      "  Batch 2,440  of  2,813.    Elapsed: 0:16:56.\n",
      "  Batch 2,480  of  2,813.    Elapsed: 0:17:12.\n",
      "  Batch 2,520  of  2,813.    Elapsed: 0:17:29.\n",
      "  Batch 2,560  of  2,813.    Elapsed: 0:17:46.\n",
      "  Batch 2,600  of  2,813.    Elapsed: 0:18:02.\n",
      "  Batch 2,640  of  2,813.    Elapsed: 0:18:19.\n",
      "  Batch 2,680  of  2,813.    Elapsed: 0:18:36.\n",
      "  Batch 2,720  of  2,813.    Elapsed: 0:18:52.\n",
      "  Batch 2,760  of  2,813.    Elapsed: 0:19:09.\n",
      "  Batch 2,800  of  2,813.    Elapsed: 0:19:26.\n",
      "\n",
      "  Average training loss: 0.68\n",
      "  Training epcoh took: 0:19:31\n",
      "\n",
      "Running Validation...\n",
      "  Accuracy: 0.72\n",
      "  Validation Loss: 0.66\n",
      "  Validation took: 0:00:44\n",
      "\n",
      "======== Epoch 3 / 3 ========\n",
      "Training...\n",
      "  Batch    40  of  2,813.    Elapsed: 0:00:17.\n",
      "  Batch    80  of  2,813.    Elapsed: 0:00:33.\n",
      "  Batch   120  of  2,813.    Elapsed: 0:00:50.\n",
      "  Batch   160  of  2,813.    Elapsed: 0:01:06.\n",
      "  Batch   200  of  2,813.    Elapsed: 0:01:23.\n",
      "  Batch   240  of  2,813.    Elapsed: 0:01:40.\n",
      "  Batch   280  of  2,813.    Elapsed: 0:01:57.\n",
      "  Batch   320  of  2,813.    Elapsed: 0:02:13.\n",
      "  Batch   360  of  2,813.    Elapsed: 0:02:30.\n",
      "  Batch   400  of  2,813.    Elapsed: 0:02:46.\n",
      "  Batch   440  of  2,813.    Elapsed: 0:03:03.\n",
      "  Batch   480  of  2,813.    Elapsed: 0:03:20.\n",
      "  Batch   520  of  2,813.    Elapsed: 0:03:36.\n",
      "  Batch   560  of  2,813.    Elapsed: 0:03:53.\n",
      "  Batch   600  of  2,813.    Elapsed: 0:04:10.\n",
      "  Batch   640  of  2,813.    Elapsed: 0:04:26.\n",
      "  Batch   680  of  2,813.    Elapsed: 0:04:43.\n",
      "  Batch   720  of  2,813.    Elapsed: 0:05:00.\n",
      "  Batch   760  of  2,813.    Elapsed: 0:05:16.\n",
      "  Batch   800  of  2,813.    Elapsed: 0:05:33.\n",
      "  Batch   840  of  2,813.    Elapsed: 0:05:50.\n",
      "  Batch   880  of  2,813.    Elapsed: 0:06:06.\n",
      "  Batch   920  of  2,813.    Elapsed: 0:06:23.\n",
      "  Batch   960  of  2,813.    Elapsed: 0:06:40.\n",
      "  Batch 1,000  of  2,813.    Elapsed: 0:06:56.\n",
      "  Batch 1,040  of  2,813.    Elapsed: 0:07:13.\n",
      "  Batch 1,080  of  2,813.    Elapsed: 0:07:30.\n",
      "  Batch 1,120  of  2,813.    Elapsed: 0:07:46.\n",
      "  Batch 1,160  of  2,813.    Elapsed: 0:08:03.\n",
      "  Batch 1,200  of  2,813.    Elapsed: 0:08:20.\n",
      "  Batch 1,240  of  2,813.    Elapsed: 0:08:36.\n",
      "  Batch 1,280  of  2,813.    Elapsed: 0:08:53.\n",
      "  Batch 1,320  of  2,813.    Elapsed: 0:09:09.\n",
      "  Batch 1,360  of  2,813.    Elapsed: 0:09:26.\n",
      "  Batch 1,400  of  2,813.    Elapsed: 0:09:43.\n",
      "  Batch 1,440  of  2,813.    Elapsed: 0:09:59.\n",
      "  Batch 1,480  of  2,813.    Elapsed: 0:10:16.\n",
      "  Batch 1,520  of  2,813.    Elapsed: 0:10:33.\n",
      "  Batch 1,560  of  2,813.    Elapsed: 0:10:49.\n",
      "  Batch 1,600  of  2,813.    Elapsed: 0:11:06.\n",
      "  Batch 1,640  of  2,813.    Elapsed: 0:11:23.\n",
      "  Batch 1,680  of  2,813.    Elapsed: 0:11:39.\n",
      "  Batch 1,720  of  2,813.    Elapsed: 0:11:56.\n",
      "  Batch 1,760  of  2,813.    Elapsed: 0:12:13.\n",
      "  Batch 1,800  of  2,813.    Elapsed: 0:12:29.\n",
      "  Batch 1,840  of  2,813.    Elapsed: 0:12:46.\n",
      "  Batch 1,880  of  2,813.    Elapsed: 0:13:03.\n",
      "  Batch 1,920  of  2,813.    Elapsed: 0:13:19.\n",
      "  Batch 1,960  of  2,813.    Elapsed: 0:13:36.\n",
      "  Batch 2,000  of  2,813.    Elapsed: 0:13:53.\n",
      "  Batch 2,040  of  2,813.    Elapsed: 0:14:09.\n",
      "  Batch 2,080  of  2,813.    Elapsed: 0:14:26.\n",
      "  Batch 2,120  of  2,813.    Elapsed: 0:14:42.\n",
      "  Batch 2,160  of  2,813.    Elapsed: 0:14:59.\n",
      "  Batch 2,200  of  2,813.    Elapsed: 0:15:16.\n",
      "  Batch 2,240  of  2,813.    Elapsed: 0:15:32.\n",
      "  Batch 2,280  of  2,813.    Elapsed: 0:15:49.\n",
      "  Batch 2,320  of  2,813.    Elapsed: 0:16:06.\n",
      "  Batch 2,360  of  2,813.    Elapsed: 0:16:23.\n",
      "  Batch 2,400  of  2,813.    Elapsed: 0:16:39.\n",
      "  Batch 2,440  of  2,813.    Elapsed: 0:16:56.\n",
      "  Batch 2,480  of  2,813.    Elapsed: 0:17:12.\n",
      "  Batch 2,520  of  2,813.    Elapsed: 0:17:29.\n",
      "  Batch 2,560  of  2,813.    Elapsed: 0:17:46.\n",
      "  Batch 2,600  of  2,813.    Elapsed: 0:18:02.\n",
      "  Batch 2,640  of  2,813.    Elapsed: 0:18:19.\n",
      "  Batch 2,680  of  2,813.    Elapsed: 0:18:36.\n",
      "  Batch 2,720  of  2,813.    Elapsed: 0:18:52.\n",
      "  Batch 2,760  of  2,813.    Elapsed: 0:19:09.\n",
      "  Batch 2,800  of  2,813.    Elapsed: 0:19:26.\n",
      "\n",
      "  Average training loss: 0.60\n",
      "  Training epcoh took: 0:19:31\n",
      "\n",
      "Running Validation...\n",
      "  Accuracy: 0.72\n",
      "  Validation Loss: 0.66\n",
      "  Validation took: 0:00:44\n",
      "\n",
      "Training complete!\n",
      "Total training took 1:00:43 (h:mm:ss)\n"
     ]
    }
   ],
   "source": [
    "mb_train_stats = training_helper(m_bert_model, mnli_mb_train_dataloader, mnli_mb_validation_dataloader, optimizer_mb, scheduler)"
   ]
  },
  {
   "cell_type": "markdown",
   "metadata": {
    "id": "tun3yHzGg5Ly"
   },
   "source": [
    "## 4.2. Visualize MB Training Stats"
   ]
  },
  {
   "cell_type": "code",
   "execution_count": 25,
   "metadata": {
    "colab": {
     "base_uri": "https://localhost:8080/",
     "height": 173
    },
    "executionInfo": {
     "elapsed": 233,
     "status": "ok",
     "timestamp": 1618174593535,
     "user": {
      "displayName": "Vidya Akavoor",
      "photoUrl": "",
      "userId": "09730023767824741847"
     },
     "user_tz": 240
    },
    "id": "SMGkHuFEg3mI",
    "outputId": "ffa94810-ecd4-4cfe-9189-221d0cb5248b"
   },
   "outputs": [
    {
     "data": {
      "text/html": [
       "<div>\n",
       "<style scoped>\n",
       "    .dataframe tbody tr th:only-of-type {\n",
       "        vertical-align: middle;\n",
       "    }\n",
       "\n",
       "    .dataframe tbody tr th {\n",
       "        vertical-align: top;\n",
       "    }\n",
       "\n",
       "    .dataframe thead th {\n",
       "        text-align: right;\n",
       "    }\n",
       "</style>\n",
       "<table border=\"1\" class=\"dataframe\">\n",
       "  <thead>\n",
       "    <tr style=\"text-align: right;\">\n",
       "      <th></th>\n",
       "      <th>Training Loss</th>\n",
       "      <th>Valid. Loss</th>\n",
       "      <th>Valid. Accur.</th>\n",
       "      <th>Training Time</th>\n",
       "      <th>Validation Time</th>\n",
       "    </tr>\n",
       "    <tr>\n",
       "      <th>epoch</th>\n",
       "      <th></th>\n",
       "      <th></th>\n",
       "      <th></th>\n",
       "      <th></th>\n",
       "      <th></th>\n",
       "    </tr>\n",
       "  </thead>\n",
       "  <tbody>\n",
       "    <tr>\n",
       "      <th>1</th>\n",
       "      <td>0.85</td>\n",
       "      <td>0.71</td>\n",
       "      <td>0.70</td>\n",
       "      <td>0:19:31</td>\n",
       "      <td>0:00:44</td>\n",
       "    </tr>\n",
       "    <tr>\n",
       "      <th>2</th>\n",
       "      <td>0.68</td>\n",
       "      <td>0.66</td>\n",
       "      <td>0.72</td>\n",
       "      <td>0:19:31</td>\n",
       "      <td>0:00:44</td>\n",
       "    </tr>\n",
       "    <tr>\n",
       "      <th>3</th>\n",
       "      <td>0.60</td>\n",
       "      <td>0.66</td>\n",
       "      <td>0.72</td>\n",
       "      <td>0:19:31</td>\n",
       "      <td>0:00:44</td>\n",
       "    </tr>\n",
       "  </tbody>\n",
       "</table>\n",
       "</div>"
      ],
      "text/plain": [
       "       Training Loss  Valid. Loss  Valid. Accur. Training Time Validation Time\n",
       "epoch                                                                         \n",
       "1               0.85         0.71           0.70       0:19:31         0:00:44\n",
       "2               0.68         0.66           0.72       0:19:31         0:00:44\n",
       "3               0.60         0.66           0.72       0:19:31         0:00:44"
      ]
     },
     "execution_count": 25,
     "metadata": {
      "tags": []
     },
     "output_type": "execute_result"
    }
   ],
   "source": [
    "import pandas as pd\n",
    "\n",
    "# Display floats with two decimal places.\n",
    "pd.set_option('precision', 2)\n",
    "\n",
    "# Create a DataFrame from our training statistics.\n",
    "df_stats = pd.DataFrame(data=mb_train_stats)\n",
    "\n",
    "# Use the 'epoch' as the row index.\n",
    "df_stats = df_stats.set_index('epoch')\n",
    "\n",
    "# A hack to force the column headers to wrap.\n",
    "#df = df.style.set_table_styles([dict(selector=\"th\",props=[('max-width', '70px')])])\n",
    "\n",
    "# Display the table.\n",
    "df_stats"
   ]
  },
  {
   "cell_type": "code",
   "execution_count": 26,
   "metadata": {
    "colab": {
     "base_uri": "https://localhost:8080/",
     "height": 427
    },
    "executionInfo": {
     "elapsed": 1006,
     "status": "ok",
     "timestamp": 1618174610348,
     "user": {
      "displayName": "Vidya Akavoor",
      "photoUrl": "",
      "userId": "09730023767824741847"
     },
     "user_tz": 240
    },
    "id": "KIGErVa5hGkq",
    "outputId": "aca67e28-5a9b-434b-9fff-d3515b96f613"
   },
   "outputs": [
    {
     "data": {
      "image/png": "[encoded data removed]",
      "text/plain": [
       "<Figure size 864x432 with 1 Axes>"
      ]
     },
     "metadata": {
      "tags": []
     },
     "output_type": "display_data"
    }
   ],
   "source": [
    "import matplotlib.pyplot as plt\n",
    "% matplotlib inline\n",
    "\n",
    "import seaborn as sns\n",
    "\n",
    "# Use plot styling from seaborn.\n",
    "sns.set(style='darkgrid')\n",
    "\n",
    "# Increase the plot size and font size.\n",
    "sns.set(font_scale=1.5)\n",
    "plt.rcParams[\"figure.figsize\"] = (12,6)\n",
    "\n",
    "# Plot the learning curve.\n",
    "plt.plot(df_stats['Training Loss'], 'b-o', label=\"Training\")\n",
    "plt.plot(df_stats['Valid. Loss'], 'g-o', label=\"Validation\")\n",
    "\n",
    "# Label the plot.\n",
    "plt.title(\"Training & Validation Loss\")\n",
    "plt.xlabel(\"Epoch\")\n",
    "plt.ylabel(\"Loss\")\n",
    "plt.legend()\n",
    "plt.xticks([1, 2, 3, 4])\n",
    "\n",
    "plt.show()"
   ]
  },
  {
   "cell_type": "markdown",
   "metadata": {
    "id": "Lhqfd0N0EX_d"
   },
   "source": [
    "## 4.3. Test Multi-BERT on Arabic XNLI"
   ]
  },
  {
   "cell_type": "code",
   "execution_count": 28,
   "metadata": {
    "executionInfo": {
     "elapsed": 5423,
     "status": "ok",
     "timestamp": 1618175098248,
     "user": {
      "displayName": "Vidya Akavoor",
      "photoUrl": "",
      "userId": "09730023767824741847"
     },
     "user_tz": 240
    },
    "id": "7WYpWihED-aC"
   },
   "outputs": [],
   "source": [
    "# Tokenize all of the sentences and map the tokens to thier word IDs.\n",
    "xnli_mb_test_input_ids = []\n",
    "xnli_mb_test_attention_masks = []\n",
    "xnli_labels = []\n",
    "\n",
    "# For every sentence...\n",
    "for ex in xnli_ar:\n",
    "    # `encode_plus` will:\n",
    "    #   (1) Tokenize the sentence.\n",
    "    #   (2) Prepend the `[CLS]` token to the start.\n",
    "    #   (3) Append the `[SEP]` token to the end.\n",
    "    #   (4) Map tokens to their IDs.\n",
    "    #   (5) Pad or truncate the sentence to `max_length`\n",
    "    #   (6) Create attention masks for [PAD] tokens.\n",
    "    encoded_dict = tokenizer_m_bert.encode_plus(\n",
    "                        ex['premise'],                      # Sentences to encode.\n",
    "                        ex['hypothesis'],                      \n",
    "                        add_special_tokens = True, # Add '[CLS]' and '[SEP]'\n",
    "                        max_length = 128,           # Pad & truncate all sentences.\n",
    "                        truncation = True,\n",
    "                        padding = 'max_length',\n",
    "                        return_attention_mask = True,   # Construct attn. masks.\n",
    "                        return_tensors = 'pt',     # Return pytorch tensors.\n",
    "                   )\n",
    "    \n",
    "    # Add the encoded sentence to the list.    \n",
    "    xnli_mb_test_input_ids.append(encoded_dict['input_ids'])\n",
    "    \n",
    "    # And its attention mask (simply differentiates padding from non-padding).\n",
    "    xnli_mb_test_attention_masks.append(encoded_dict['attention_mask'])\n",
    "\n",
    "    xnli_labels.append(ex['label'])\n",
    "\n",
    "# Convert the lists into tensors.\n",
    "xnli_mb_test_input_ids = torch.cat(xnli_mb_test_input_ids, dim=0)\n",
    "xnli_mb_test_attention_masks = torch.cat(xnli_mb_test_attention_masks, dim=0)\n",
    "xnli_labels = torch.tensor(xnli_labels)\n",
    "\n",
    "# Set the batch size.  \n",
    "batch_size = 16  \n",
    "\n",
    "# Create the DataLoader.\n",
    "xnli_mb_prediction_data = TensorDataset(xnli_mb_test_input_ids, xnli_mb_test_attention_masks, xnli_labels)\n",
    "xnli_mb_prediction_sampler = SequentialSampler(xnli_mb_prediction_data)\n",
    "xnli_mb_prediction_dataloader = DataLoader(xnli_mb_prediction_data, sampler=xnli_mb_prediction_sampler, batch_size=batch_size)"
   ]
  },
  {
   "cell_type": "code",
   "execution_count": 29,
   "metadata": {
    "colab": {
     "base_uri": "https://localhost:8080/"
    },
    "executionInfo": {
     "elapsed": 46115,
     "status": "ok",
     "timestamp": 1618175147037,
     "user": {
      "displayName": "Vidya Akavoor",
      "photoUrl": "",
      "userId": "09730023767824741847"
     },
     "user_tz": 240
    },
    "id": "Fb3XRo2PFuIr",
    "outputId": "78c0b810-c78c-403a-a8dd-1c7e8f35b496"
   },
   "outputs": [
    {
     "name": "stdout",
     "output_type": "stream",
     "text": [
      "Predicting labels for 5,010 test sentences...\n",
      "    DONE.\n"
     ]
    }
   ],
   "source": [
    "# Prediction on test set\n",
    "\n",
    "print('Predicting labels for {:,} test sentences...'.format(len(xnli_mb_test_input_ids)))\n",
    "\n",
    "# Put model in evaluation mode\n",
    "m_bert_model.eval()\n",
    "\n",
    "# Tracking variables \n",
    "predictions , true_labels = [], []\n",
    "\n",
    "# Predict \n",
    "for batch in xnli_mb_prediction_dataloader:\n",
    "    # Add batch to GPU\n",
    "    batch = tuple(t.to(device) for t in batch)\n",
    "    \n",
    "    # Unpack the inputs from our dataloader\n",
    "    b_input_ids, b_input_mask, b_labels = batch\n",
    "    \n",
    "    # Telling the model not to compute or store gradients, saving memory and \n",
    "    # speeding up prediction\n",
    "    with torch.no_grad():\n",
    "        # Forward pass, calculate logit predictions.\n",
    "        result = m_bert_model(b_input_ids, \n",
    "                              token_type_ids=None, \n",
    "                              attention_mask=b_input_mask,\n",
    "                              return_dict=True)\n",
    "    \n",
    "    logits = result.logits\n",
    "    \n",
    "    # Move logits and labels to CPU\n",
    "    logits = logits.detach().cpu().numpy()\n",
    "    label_ids = b_labels.to('cpu').numpy()\n",
    "    \n",
    "    # Store predictions and true labels\n",
    "    predictions.append(logits)\n",
    "    true_labels.append(label_ids)\n",
    "\n",
    "print('    DONE.')"
   ]
  },
  {
   "cell_type": "code",
   "execution_count": 30,
   "metadata": {
    "colab": {
     "base_uri": "https://localhost:8080/"
    },
    "executionInfo": {
     "elapsed": 231,
     "status": "ok",
     "timestamp": 1618175150058,
     "user": {
      "displayName": "Vidya Akavoor",
      "photoUrl": "",
      "userId": "09730023767824741847"
     },
     "user_tz": 240
    },
    "id": "a11eOmUJGf5R",
    "outputId": "52e83d6c-3210-440c-f9dc-61487bb15434"
   },
   "outputs": [
    {
     "name": "stdout",
     "output_type": "stream",
     "text": [
      "Accuracies for each test batch:  [0.75, 0.75, 0.4375, 0.5625, 0.5, 0.5625, 0.75, 0.5625, 0.6875, 0.6875, 0.75, 0.625, 0.75, 0.625, 0.4375, 0.75, 0.8125, 0.6875, 0.3125, 0.75, 0.5, 0.5, 0.5625, 0.5625, 0.6875, 0.75, 0.6875, 0.5625, 0.3125, 0.625, 0.6875, 0.6875, 0.375, 0.375, 0.5, 0.4375, 0.4375, 0.375, 0.375, 0.4375, 0.375, 0.5625, 0.5, 0.4375, 0.75, 0.5, 0.625, 0.4375, 0.5, 0.625, 0.375, 0.5, 0.375, 0.625, 0.5, 0.625, 0.625, 0.5, 0.5, 0.5, 0.4375, 0.375, 0.625, 0.375, 0.5625, 0.4375, 0.75, 0.625, 0.5, 0.5625, 0.625, 0.5625, 0.5625, 0.6875, 0.75, 0.4375, 0.5, 0.6875, 0.5625, 0.5625, 0.5, 0.375, 0.6875, 0.5, 0.3125, 0.5, 0.6875, 0.5, 0.375, 0.625, 0.625, 0.8125, 0.5625, 0.6875, 0.6875, 0.5625, 0.4375, 0.375, 0.5, 0.5, 0.8125, 0.5625, 0.6875, 0.625, 0.5, 0.5, 0.625, 0.5625, 0.4375, 0.4375, 0.6875, 0.5625, 0.5, 0.6875, 0.625, 0.5, 0.5625, 0.5625, 0.5625, 0.4375, 0.5, 0.5625, 0.5625, 0.5625, 0.375, 0.5, 0.5625, 0.625, 0.5, 0.4375, 0.625, 0.5625, 0.625, 0.625, 0.625, 0.5, 0.625, 0.625, 0.6875, 0.625, 0.4375, 0.8125, 0.5625, 0.5625, 0.5, 0.5625, 0.5625, 0.5625, 0.5, 0.625, 0.375, 0.5, 0.6875, 0.3125, 0.6875, 0.5625, 0.5, 0.625, 0.625, 0.4375, 0.5625, 0.5, 0.625, 0.5, 0.5625, 0.5, 0.6875, 0.625, 0.4375, 0.875, 0.75, 0.625, 0.875, 0.6875, 0.5, 0.6875, 0.6875, 0.5, 0.8125, 0.75, 0.5625, 0.5625, 0.75, 0.5625, 0.5, 0.5625, 0.4375, 0.5625, 0.75, 0.6875, 0.6875, 0.75, 0.8125, 0.625, 0.6875, 0.5625, 0.625, 0.5625, 0.6875, 0.75, 0.5, 0.625, 0.5, 0.5625, 0.625, 0.75, 0.5, 0.6875, 0.5, 0.6875, 0.5625, 0.5, 0.625, 0.6875, 0.5625, 0.8125, 0.5625, 0.4375, 0.75, 0.5625, 0.5625, 0.5, 0.5625, 0.5, 0.5625, 0.8125, 0.5625, 0.625, 0.5, 0.6875, 0.625, 0.5, 0.625, 0.625, 0.625, 0.5625, 0.625, 0.75, 0.6875, 0.6875, 0.5, 0.4375, 0.625, 0.5625, 0.5625, 0.625, 0.6875, 0.625, 0.8125, 0.6875, 0.8125, 0.3125, 0.625, 0.5625, 0.6875, 0.3125, 0.5, 0.5, 0.5625, 0.375, 0.5, 0.625, 0.625, 0.5, 0.4375, 0.625, 0.5, 0.4375, 0.375, 0.625, 0.6875, 0.6875, 0.5625, 0.4375, 0.625, 0.4375, 0.625, 0.375, 0.75, 0.5, 0.375, 0.5, 0.5, 0.625, 0.5, 0.5, 0.5625, 0.375, 0.5, 0.625, 0.4375, 0.5625, 0.4375, 0.6875, 0.3125, 0.375, 0.375, 0.4375, 0.5, 0.5625, 0.5625, 0.6875, 0.625, 0.5, 0.4375, 0.5, 0.75, 0.4375, 0.3125, 0.5, 0.625, 0.375, 0.6875, 0.5]\n",
      "Average test accuracy:  0.5686703821656051\n"
     ]
    }
   ],
   "source": [
    "mb_accuracies = []\n",
    "for i in range(len(predictions)):\n",
    "    mb_accuracies += [flat_accuracy(predictions[i], true_labels[i])]\n",
    "\n",
    "mb_mean = sum(mb_accuracies)/len(mb_accuracies)\n",
    "print('Accuracies for each test batch: ', mb_accuracies)\n",
    "print('Average test accuracy: ', mb_mean)"
   ]
  },
  {
   "cell_type": "code",
   "execution_count": 31,
   "metadata": {
    "colab": {
     "base_uri": "https://localhost:8080/"
    },
    "executionInfo": {
     "elapsed": 3549,
     "status": "ok",
     "timestamp": 1618175170632,
     "user": {
      "displayName": "Vidya Akavoor",
      "photoUrl": "",
      "userId": "09730023767824741847"
     },
     "user_tz": 240
    },
    "id": "MDjVzKxxSLQk",
    "outputId": "e338f7d7-d195-4944-ebeb-b4f7709a2440"
   },
   "outputs": [
    {
     "name": "stdout",
     "output_type": "stream",
     "text": [
      "Saving model to /content/drive/MyDrive/Colab Notebooks/project/mb_mnli_model/\n"
     ]
    },
    {
     "data": {
      "text/plain": [
       "('/content/drive/MyDrive/Colab Notebooks/project/mb_mnli_model/tokenizer_config.json',\n",
       " '/content/drive/MyDrive/Colab Notebooks/project/mb_mnli_model/special_tokens_map.json',\n",
       " '/content/drive/MyDrive/Colab Notebooks/project/mb_mnli_model/vocab.txt',\n",
       " '/content/drive/MyDrive/Colab Notebooks/project/mb_mnli_model/added_tokens.json')"
      ]
     },
     "execution_count": 31,
     "metadata": {
      "tags": []
     },
     "output_type": "execute_result"
    }
   ],
   "source": [
    "# Saving best-practices: if you use defaults names for the model, you can reload it using from_pretrained()\n",
    "import os\n",
    "BASE_PATH = '/content/drive/MyDrive/Colab Notebooks/project'\n",
    "output_dir = f'{BASE_PATH}/mb_mnli_model/'\n",
    "\n",
    "# Create output directory if needed\n",
    "if not os.path.exists(output_dir):\n",
    "    os.makedirs(output_dir)\n",
    "\n",
    "print(\"Saving model to %s\" % output_dir)\n",
    "\n",
    "# Save a trained model, configuration and tokenizer using `save_pretrained()`.\n",
    "# They can then be reloaded using `from_pretrained()`\n",
    "model_to_save = m_bert_model.module if hasattr(m_bert_model, 'module') else m_bert_model  # Take care of distributed/parallel training\n",
    "model_to_save.save_pretrained(output_dir)\n",
    "tokenizer_m_bert.save_pretrained(output_dir)\n",
    "\n",
    "# Good practice: save your training arguments together with the trained model\n",
    "# torch.save(args, os.path.join(output_dir, 'training_args.bin'))\n"
   ]
  },
  {
   "cell_type": "markdown",
   "metadata": {
    "id": "WnONrcCUO14D"
   },
   "source": [
    "# 5. XLM-Roberta"
   ]
  },
  {
   "cell_type": "code",
   "execution_count": 33,
   "metadata": {
    "colab": {
     "base_uri": "https://localhost:8080/"
    },
    "executionInfo": {
     "elapsed": 3447,
     "status": "ok",
     "timestamp": 1618175220300,
     "user": {
      "displayName": "Vidya Akavoor",
      "photoUrl": "",
      "userId": "09730023767824741847"
     },
     "user_tz": 240
    },
    "id": "ZnaQ-iO2Ppl5",
    "outputId": "10556c2f-df68-4204-9268-aa14dfeddb05"
   },
   "outputs": [
    {
     "name": "stdout",
     "output_type": "stream",
     "text": [
      "Collecting sentencepiece\n",
      "\u001b[?25l  Downloading https://files.pythonhosted.org/packages/f5/99/e0808cb947ba10f575839c43e8fafc9cc44e4a7a2c8f79c60db48220a577/sentencepiece-0.1.95-cp37-cp37m-manylinux2014_x86_64.whl (1.2MB)\n",
      "\r",
      "\u001b[K     |▎                               | 10kB 18.4MB/s eta 0:00:01\r",
      "\u001b[K     |▌                               | 20kB 26.0MB/s eta 0:00:01\r",
      "\u001b[K     |▉                               | 30kB 25.4MB/s eta 0:00:01\r",
      "\u001b[K     |█                               | 40kB 22.8MB/s eta 0:00:01\r",
      "\u001b[K     |█▍                              | 51kB 24.9MB/s eta 0:00:01\r",
      "\u001b[K     |█▋                              | 61kB 20.5MB/s eta 0:00:01\r",
      "\u001b[K     |██                              | 71kB 20.7MB/s eta 0:00:01\r",
      "\u001b[K     |██▏                             | 81kB 20.6MB/s eta 0:00:01\r",
      "\u001b[K     |██▌                             | 92kB 19.3MB/s eta 0:00:01\r",
      "\u001b[K     |██▊                             | 102kB 18.5MB/s eta 0:00:01\r",
      "\u001b[K     |███                             | 112kB 18.5MB/s eta 0:00:01\r",
      "\u001b[K     |███▎                            | 122kB 18.5MB/s eta 0:00:01\r",
      "\u001b[K     |███▌                            | 133kB 18.5MB/s eta 0:00:01\r",
      "\u001b[K     |███▉                            | 143kB 18.5MB/s eta 0:00:01\r",
      "\u001b[K     |████                            | 153kB 18.5MB/s eta 0:00:01\r",
      "\u001b[K     |████▍                           | 163kB 18.5MB/s eta 0:00:01\r",
      "\u001b[K     |████▋                           | 174kB 18.5MB/s eta 0:00:01\r",
      "\u001b[K     |█████                           | 184kB 18.5MB/s eta 0:00:01\r",
      "\u001b[K     |█████▏                          | 194kB 18.5MB/s eta 0:00:01\r",
      "\u001b[K     |█████▌                          | 204kB 18.5MB/s eta 0:00:01\r",
      "\u001b[K     |█████▊                          | 215kB 18.5MB/s eta 0:00:01\r",
      "\u001b[K     |██████                          | 225kB 18.5MB/s eta 0:00:01\r",
      "\u001b[K     |██████▎                         | 235kB 18.5MB/s eta 0:00:01\r",
      "\u001b[K     |██████▌                         | 245kB 18.5MB/s eta 0:00:01\r",
      "\u001b[K     |██████▉                         | 256kB 18.5MB/s eta 0:00:01\r",
      "\u001b[K     |███████                         | 266kB 18.5MB/s eta 0:00:01\r",
      "\u001b[K     |███████▍                        | 276kB 18.5MB/s eta 0:00:01\r",
      "\u001b[K     |███████▋                        | 286kB 18.5MB/s eta 0:00:01\r",
      "\u001b[K     |████████                        | 296kB 18.5MB/s eta 0:00:01\r",
      "\u001b[K     |████████▏                       | 307kB 18.5MB/s eta 0:00:01\r",
      "\u001b[K     |████████▍                       | 317kB 18.5MB/s eta 0:00:01\r",
      "\u001b[K     |████████▊                       | 327kB 18.5MB/s eta 0:00:01\r",
      "\u001b[K     |█████████                       | 337kB 18.5MB/s eta 0:00:01\r",
      "\u001b[K     |█████████▎                      | 348kB 18.5MB/s eta 0:00:01\r",
      "\u001b[K     |█████████▌                      | 358kB 18.5MB/s eta 0:00:01\r",
      "\u001b[K     |█████████▉                      | 368kB 18.5MB/s eta 0:00:01\r",
      "\u001b[K     |██████████                      | 378kB 18.5MB/s eta 0:00:01\r",
      "\u001b[K     |██████████▍                     | 389kB 18.5MB/s eta 0:00:01\r",
      "\u001b[K     |██████████▋                     | 399kB 18.5MB/s eta 0:00:01\r",
      "\u001b[K     |███████████                     | 409kB 18.5MB/s eta 0:00:01\r",
      "\u001b[K     |███████████▏                    | 419kB 18.5MB/s eta 0:00:01\r",
      "\u001b[K     |███████████▍                    | 430kB 18.5MB/s eta 0:00:01\r",
      "\u001b[K     |███████████▊                    | 440kB 18.5MB/s eta 0:00:01\r",
      "\u001b[K     |████████████                    | 450kB 18.5MB/s eta 0:00:01\r",
      "\u001b[K     |████████████▎                   | 460kB 18.5MB/s eta 0:00:01\r",
      "\u001b[K     |████████████▌                   | 471kB 18.5MB/s eta 0:00:01\r",
      "\u001b[K     |████████████▉                   | 481kB 18.5MB/s eta 0:00:01\r",
      "\u001b[K     |█████████████                   | 491kB 18.5MB/s eta 0:00:01\r",
      "\u001b[K     |█████████████▍                  | 501kB 18.5MB/s eta 0:00:01\r",
      "\u001b[K     |█████████████▋                  | 512kB 18.5MB/s eta 0:00:01\r",
      "\u001b[K     |█████████████▉                  | 522kB 18.5MB/s eta 0:00:01\r",
      "\u001b[K     |██████████████▏                 | 532kB 18.5MB/s eta 0:00:01\r",
      "\u001b[K     |██████████████▍                 | 542kB 18.5MB/s eta 0:00:01\r",
      "\u001b[K     |██████████████▊                 | 552kB 18.5MB/s eta 0:00:01\r",
      "\u001b[K     |███████████████                 | 563kB 18.5MB/s eta 0:00:01\r",
      "\u001b[K     |███████████████▎                | 573kB 18.5MB/s eta 0:00:01\r",
      "\u001b[K     |███████████████▌                | 583kB 18.5MB/s eta 0:00:01\r",
      "\u001b[K     |███████████████▉                | 593kB 18.5MB/s eta 0:00:01\r",
      "\u001b[K     |████████████████                | 604kB 18.5MB/s eta 0:00:01\r",
      "\u001b[K     |████████████████▍               | 614kB 18.5MB/s eta 0:00:01\r",
      "\u001b[K     |████████████████▋               | 624kB 18.5MB/s eta 0:00:01\r",
      "\u001b[K     |████████████████▉               | 634kB 18.5MB/s eta 0:00:01\r",
      "\u001b[K     |█████████████████▏              | 645kB 18.5MB/s eta 0:00:01\r",
      "\u001b[K     |█████████████████▍              | 655kB 18.5MB/s eta 0:00:01\r",
      "\u001b[K     |█████████████████▊              | 665kB 18.5MB/s eta 0:00:01\r",
      "\u001b[K     |██████████████████              | 675kB 18.5MB/s eta 0:00:01\r",
      "\u001b[K     |██████████████████▎             | 686kB 18.5MB/s eta 0:00:01\r",
      "\u001b[K     |██████████████████▌             | 696kB 18.5MB/s eta 0:00:01\r",
      "\u001b[K     |██████████████████▉             | 706kB 18.5MB/s eta 0:00:01\r",
      "\u001b[K     |███████████████████             | 716kB 18.5MB/s eta 0:00:01\r",
      "\u001b[K     |███████████████████▎            | 727kB 18.5MB/s eta 0:00:01\r",
      "\u001b[K     |███████████████████▋            | 737kB 18.5MB/s eta 0:00:01\r",
      "\u001b[K     |███████████████████▉            | 747kB 18.5MB/s eta 0:00:01\r",
      "\u001b[K     |████████████████████▏           | 757kB 18.5MB/s eta 0:00:01\r",
      "\u001b[K     |████████████████████▍           | 768kB 18.5MB/s eta 0:00:01\r",
      "\u001b[K     |████████████████████▊           | 778kB 18.5MB/s eta 0:00:01\r",
      "\u001b[K     |█████████████████████           | 788kB 18.5MB/s eta 0:00:01\r",
      "\u001b[K     |█████████████████████▎          | 798kB 18.5MB/s eta 0:00:01\r",
      "\u001b[K     |█████████████████████▌          | 808kB 18.5MB/s eta 0:00:01\r",
      "\u001b[K     |█████████████████████▉          | 819kB 18.5MB/s eta 0:00:01\r",
      "\u001b[K     |██████████████████████          | 829kB 18.5MB/s eta 0:00:01\r",
      "\u001b[K     |██████████████████████▎         | 839kB 18.5MB/s eta 0:00:01\r",
      "\u001b[K     |██████████████████████▋         | 849kB 18.5MB/s eta 0:00:01\r",
      "\u001b[K     |██████████████████████▉         | 860kB 18.5MB/s eta 0:00:01\r",
      "\u001b[K     |███████████████████████▏        | 870kB 18.5MB/s eta 0:00:01\r",
      "\u001b[K     |███████████████████████▍        | 880kB 18.5MB/s eta 0:00:01\r",
      "\u001b[K     |███████████████████████▊        | 890kB 18.5MB/s eta 0:00:01\r",
      "\u001b[K     |████████████████████████        | 901kB 18.5MB/s eta 0:00:01\r",
      "\u001b[K     |████████████████████████▎       | 911kB 18.5MB/s eta 0:00:01\r",
      "\u001b[K     |████████████████████████▌       | 921kB 18.5MB/s eta 0:00:01\r",
      "\u001b[K     |████████████████████████▊       | 931kB 18.5MB/s eta 0:00:01\r",
      "\u001b[K     |█████████████████████████       | 942kB 18.5MB/s eta 0:00:01\r",
      "\u001b[K     |█████████████████████████▎      | 952kB 18.5MB/s eta 0:00:01\r",
      "\u001b[K     |█████████████████████████▋      | 962kB 18.5MB/s eta 0:00:01\r",
      "\u001b[K     |█████████████████████████▉      | 972kB 18.5MB/s eta 0:00:01\r",
      "\u001b[K     |██████████████████████████▏     | 983kB 18.5MB/s eta 0:00:01\r",
      "\u001b[K     |██████████████████████████▍     | 993kB 18.5MB/s eta 0:00:01\r",
      "\u001b[K     |██████████████████████████▊     | 1.0MB 18.5MB/s eta 0:00:01\r",
      "\u001b[K     |███████████████████████████     | 1.0MB 18.5MB/s eta 0:00:01\r",
      "\u001b[K     |███████████████████████████▎    | 1.0MB 18.5MB/s eta 0:00:01\r",
      "\u001b[K     |███████████████████████████▌    | 1.0MB 18.5MB/s eta 0:00:01\r",
      "\u001b[K     |███████████████████████████▊    | 1.0MB 18.5MB/s eta 0:00:01\r",
      "\u001b[K     |████████████████████████████    | 1.1MB 18.5MB/s eta 0:00:01\r",
      "\u001b[K     |████████████████████████████▎   | 1.1MB 18.5MB/s eta 0:00:01\r",
      "\u001b[K     |████████████████████████████▋   | 1.1MB 18.5MB/s eta 0:00:01\r",
      "\u001b[K     |████████████████████████████▉   | 1.1MB 18.5MB/s eta 0:00:01\r",
      "\u001b[K     |█████████████████████████████▏  | 1.1MB 18.5MB/s eta 0:00:01\r",
      "\u001b[K     |█████████████████████████████▍  | 1.1MB 18.5MB/s eta 0:00:01\r",
      "\u001b[K     |█████████████████████████████▊  | 1.1MB 18.5MB/s eta 0:00:01\r",
      "\u001b[K     |██████████████████████████████  | 1.1MB 18.5MB/s eta 0:00:01\r",
      "\u001b[K     |██████████████████████████████▏ | 1.1MB 18.5MB/s eta 0:00:01\r",
      "\u001b[K     |██████████████████████████████▌ | 1.1MB 18.5MB/s eta 0:00:01\r",
      "\u001b[K     |██████████████████████████████▊ | 1.2MB 18.5MB/s eta 0:00:01\r",
      "\u001b[K     |███████████████████████████████ | 1.2MB 18.5MB/s eta 0:00:01\r",
      "\u001b[K     |███████████████████████████████▎| 1.2MB 18.5MB/s eta 0:00:01\r",
      "\u001b[K     |███████████████████████████████▋| 1.2MB 18.5MB/s eta 0:00:01\r",
      "\u001b[K     |███████████████████████████████▉| 1.2MB 18.5MB/s eta 0:00:01\r",
      "\u001b[K     |████████████████████████████████| 1.2MB 18.5MB/s \n",
      "\u001b[?25hInstalling collected packages: sentencepiece\n",
      "Successfully installed sentencepiece-0.1.95\n"
     ]
    }
   ],
   "source": [
    "!pip install sentencepiece"
   ]
  },
  {
   "cell_type": "markdown",
   "metadata": {
    "id": "avtoEtGYO5gf"
   },
   "source": [
    "## 5.1. Train XLM-R on MNLI"
   ]
  },
  {
   "cell_type": "code",
   "execution_count": 13,
   "metadata": {
    "colab": {
     "base_uri": "https://localhost:8080/"
    },
    "executionInfo": {
     "elapsed": 20745,
     "status": "ok",
     "timestamp": 1618175836572,
     "user": {
      "displayName": "Vidya Akavoor",
      "photoUrl": "",
      "userId": "09730023767824741847"
     },
     "user_tz": 240
    },
    "id": "EP8i3HfjO1NG",
    "outputId": "76bb7b04-13ac-4e13-a554-b2cd37d2c80f"
   },
   "outputs": [
    {
     "name": "stdout",
     "output_type": "stream",
     "text": [
      "Loading XLM-R tokenizer...\n",
      "Original: Conceptually cream skimming has two basic dimensions - product and geography.; Product and geography are what make cream skimming work. \n",
      "Token IDs: tensor([     0, 128182,     34,  25958,  24709,   7158,  58838,   1556,   6626,\n",
      "         62822, 158208,     20,  12996,    136,    700,  87168,      5,      2,\n",
      "             2,  73111,    136,    700,  87168,    621,   2367,   3249,  24709,\n",
      "          7158,  58838,   4488,      5,      2,      1,      1,      1,      1,\n",
      "             1,      1,      1,      1,      1,      1,      1,      1,      1,\n",
      "             1,      1,      1,      1,      1,      1,      1,      1,      1,\n",
      "             1,      1,      1,      1,      1,      1,      1,      1,      1,\n",
      "             1,      1,      1,      1,      1,      1,      1,      1,      1,\n",
      "             1,      1,      1,      1,      1,      1,      1,      1,      1,\n",
      "             1,      1,      1,      1,      1,      1,      1,      1,      1,\n",
      "             1,      1,      1,      1,      1,      1,      1,      1,      1,\n",
      "             1,      1,      1,      1,      1,      1,      1,      1,      1,\n",
      "             1,      1,      1,      1,      1,      1,      1,      1,      1,\n",
      "             1,      1,      1,      1,      1,      1,      1,      1,      1,\n",
      "             1,      1])\n"
     ]
    }
   ],
   "source": [
    "from transformers import XLMRobertaTokenizer, XLMRobertaForSequenceClassification\n",
    "\n",
    "# Load the XLM-R tokenizer.\n",
    "print('Loading XLM-R tokenizer...')\n",
    "tokenizer_xlm = XLMRobertaTokenizer.from_pretrained('xlm-roberta-base', do_lower_case=True)\n",
    "\n",
    " # Tokenize all of the sentences and map the tokens to thier word IDs.\n",
    "input_ids_xlm = []\n",
    "attention_masks_xlm = []\n",
    "labels = []\n",
    "\n",
    "# For every sentence...\n",
    "for ex in mnli:\n",
    "    # `encode_plus` will:\n",
    "    #   (1) Tokenize the sentence.\n",
    "    #   (2) Prepend the `[CLS]` token to the start.\n",
    "    #   (3) Append the `[SEP]` token to the end.\n",
    "    #   (4) Map tokens to their IDs.\n",
    "    #   (5) Pad or truncate the sentence to `max_length`\n",
    "    #   (6) Create attention masks for [PAD] tokens.\n",
    "    encoded_dict = tokenizer_xlm.encode_plus(\n",
    "                        ex['premise'],                  # Sentences to encode.\n",
    "                        ex['hypothesis'],                      \n",
    "                        add_special_tokens = True,      # Add '[CLS]' and '[SEP]'\n",
    "                        max_length = 128,               # Pad & truncate all sentences.\n",
    "                        truncation = True,\n",
    "                        padding = 'max_length',\n",
    "                        return_attention_mask = True,   # Construct attn. masks.\n",
    "                        return_tensors = 'pt',          # Return pytorch tensors.\n",
    "                   )\n",
    "    \n",
    "    # Add the encoded sentence to the list.    \n",
    "    input_ids_xlm.append(encoded_dict['input_ids'])\n",
    "    \n",
    "    # And its attention mask (simply differentiates padding from non-padding).\n",
    "    attention_masks_xlm.append(encoded_dict['attention_mask'])\n",
    "\n",
    "    labels.append(ex['label'])\n",
    "\n",
    "# Convert the lists into tensors.\n",
    "input_ids_xlm = torch.cat(input_ids_xlm, dim=0)\n",
    "attention_masks_xlm = torch.cat(attention_masks_xlm, dim=0)\n",
    "labels = torch.tensor(labels)\n",
    "\n",
    "# Print sentence 0, now as a list of IDs.\n",
    "print(f'Original: {mnli[0][\"premise\"]}; {mnli[0][\"hypothesis\"]}')\n",
    "print('Token IDs:', input_ids_xlm[0])"
   ]
  },
  {
   "cell_type": "code",
   "execution_count": 14,
   "metadata": {
    "executionInfo": {
     "elapsed": 210,
     "status": "ok",
     "timestamp": 1618175838555,
     "user": {
      "displayName": "Vidya Akavoor",
      "photoUrl": "",
      "userId": "09730023767824741847"
     },
     "user_tz": 240
    },
    "id": "bsiTHvNsyZhL"
   },
   "outputs": [],
   "source": [
    "from torch.utils.data import TensorDataset, random_split\n",
    "from torch.utils.data import DataLoader, RandomSampler, SequentialSampler"
   ]
  },
  {
   "cell_type": "code",
   "execution_count": 15,
   "metadata": {
    "colab": {
     "base_uri": "https://localhost:8080/"
    },
    "executionInfo": {
     "elapsed": 339,
     "status": "ok",
     "timestamp": 1618175839766,
     "user": {
      "displayName": "Vidya Akavoor",
      "photoUrl": "",
      "userId": "09730023767824741847"
     },
     "user_tz": 240
    },
    "id": "o6LddoEFUVV7",
    "outputId": "567da252-cdc8-45e4-c768-04175b37ad72"
   },
   "outputs": [
    {
     "name": "stdout",
     "output_type": "stream",
     "text": [
      "45,000 training samples\n",
      "5,000 validation samples\n"
     ]
    }
   ],
   "source": [
    "# Combine the training inputs into a TensorDataset.\n",
    "mnli_xlm_dataset = TensorDataset(input_ids_xlm, attention_masks_xlm, labels)\n",
    "\n",
    "# Create a 90-10 train-validation split.\n",
    "\n",
    "# Calculate the number of samples to include in each set.\n",
    "mnli_xlm_train_size = int(0.9 * len(mnli_xlm_dataset))\n",
    "mnli_xlm_val_size = len(mnli_xlm_dataset) - mnli_xlm_train_size\n",
    "\n",
    "# Divide the dataset by randomly selecting samples.\n",
    "mnli_xlm_train_dataset, mnli_xlm_val_dataset = random_split(mnli_xlm_dataset, [mnli_xlm_train_size, mnli_xlm_val_size])\n",
    "\n",
    "print('{:>5,} training samples'.format(mnli_xlm_train_size))\n",
    "print('{:>5,} validation samples'.format(mnli_xlm_val_size))"
   ]
  },
  {
   "cell_type": "code",
   "execution_count": 16,
   "metadata": {
    "executionInfo": {
     "elapsed": 281,
     "status": "ok",
     "timestamp": 1618175841784,
     "user": {
      "displayName": "Vidya Akavoor",
      "photoUrl": "",
      "userId": "09730023767824741847"
     },
     "user_tz": 240
    },
    "id": "ilB9gf9EU2Ck"
   },
   "outputs": [],
   "source": [
    "# The DataLoader needs to know our batch size for training, so we specify it \n",
    "# here. For fine-tuning BERT on a specific task, the authors recommend a batch \n",
    "# size of 16 or 32.\n",
    "batch_size = 16\n",
    "\n",
    "# Create the DataLoaders for our training and validation sets.\n",
    "# We'll take training samples in random order. \n",
    "mnli_xlm_train_dataloader = DataLoader(\n",
    "            mnli_xlm_train_dataset,  # The training samples.\n",
    "            sampler = RandomSampler(mnli_xlm_train_dataset), # Select batches randomly\n",
    "            batch_size = batch_size # Trains with this batch size.\n",
    "        )\n",
    "\n",
    "# For validation the order doesn't matter, so we'll just read them sequentially.\n",
    "mnli_xlm_validation_dataloader = DataLoader(\n",
    "            mnli_xlm_val_dataset, # The validation samples.\n",
    "            sampler = SequentialSampler(mnli_xlm_val_dataset), # Pull out batches sequentially.\n",
    "            batch_size = batch_size # Evaluate with this batch size.\n",
    "        )\n"
   ]
  },
  {
   "cell_type": "code",
   "execution_count": 17,
   "metadata": {
    "colab": {
     "base_uri": "https://localhost:8080/"
    },
    "executionInfo": {
     "elapsed": 11933,
     "status": "ok",
     "timestamp": 1618175854567,
     "user": {
      "displayName": "Vidya Akavoor",
      "photoUrl": "",
      "userId": "09730023767824741847"
     },
     "user_tz": 240
    },
    "id": "km7JP13-VHNh",
    "outputId": "2cce4695-be9e-40d4-c442-646072706f99"
   },
   "outputs": [
    {
     "name": "stderr",
     "output_type": "stream",
     "text": [
      "Some weights of the model checkpoint at xlm-roberta-base were not used when initializing XLMRobertaForSequenceClassification: ['lm_head.bias', 'lm_head.dense.weight', 'lm_head.dense.bias', 'lm_head.layer_norm.weight', 'lm_head.layer_norm.bias', 'lm_head.decoder.weight', 'roberta.pooler.dense.weight', 'roberta.pooler.dense.bias']\n",
      "- This IS expected if you are initializing XLMRobertaForSequenceClassification from the checkpoint of a model trained on another task or with another architecture (e.g. initializing a BertForSequenceClassification model from a BertForPreTraining model).\n",
      "- This IS NOT expected if you are initializing XLMRobertaForSequenceClassification from the checkpoint of a model that you expect to be exactly identical (initializing a BertForSequenceClassification model from a BertForSequenceClassification model).\n",
      "Some weights of XLMRobertaForSequenceClassification were not initialized from the model checkpoint at xlm-roberta-base and are newly initialized: ['classifier.dense.weight', 'classifier.dense.bias', 'classifier.out_proj.weight', 'classifier.out_proj.bias']\n",
      "You should probably TRAIN this model on a down-stream task to be able to use it for predictions and inference.\n"
     ]
    },
    {
     "data": {
      "text/plain": [
       "XLMRobertaForSequenceClassification(\n",
       "  (roberta): RobertaModel(\n",
       "    (embeddings): RobertaEmbeddings(\n",
       "      (word_embeddings): Embedding(250002, 768, padding_idx=1)\n",
       "      (position_embeddings): Embedding(514, 768, padding_idx=1)\n",
       "      (token_type_embeddings): Embedding(1, 768)\n",
       "      (LayerNorm): LayerNorm((768,), eps=1e-05, elementwise_affine=True)\n",
       "      (dropout): Dropout(p=0.1, inplace=False)\n",
       "    )\n",
       "    (encoder): RobertaEncoder(\n",
       "      (layer): ModuleList(\n",
       "        (0): RobertaLayer(\n",
       "          (attention): RobertaAttention(\n",
       "            (self): RobertaSelfAttention(\n",
       "              (query): Linear(in_features=768, out_features=768, bias=True)\n",
       "              (key): Linear(in_features=768, out_features=768, bias=True)\n",
       "              (value): Linear(in_features=768, out_features=768, bias=True)\n",
       "              (dropout): Dropout(p=0.1, inplace=False)\n",
       "            )\n",
       "            (output): RobertaSelfOutput(\n",
       "              (dense): Linear(in_features=768, out_features=768, bias=True)\n",
       "              (LayerNorm): LayerNorm((768,), eps=1e-05, elementwise_affine=True)\n",
       "              (dropout): Dropout(p=0.1, inplace=False)\n",
       "            )\n",
       "          )\n",
       "          (intermediate): RobertaIntermediate(\n",
       "            (dense): Linear(in_features=768, out_features=3072, bias=True)\n",
       "          )\n",
       "          (output): RobertaOutput(\n",
       "            (dense): Linear(in_features=3072, out_features=768, bias=True)\n",
       "            (LayerNorm): LayerNorm((768,), eps=1e-05, elementwise_affine=True)\n",
       "            (dropout): Dropout(p=0.1, inplace=False)\n",
       "          )\n",
       "        )\n",
       "        (1): RobertaLayer(\n",
       "          (attention): RobertaAttention(\n",
       "            (self): RobertaSelfAttention(\n",
       "              (query): Linear(in_features=768, out_features=768, bias=True)\n",
       "              (key): Linear(in_features=768, out_features=768, bias=True)\n",
       "              (value): Linear(in_features=768, out_features=768, bias=True)\n",
       "              (dropout): Dropout(p=0.1, inplace=False)\n",
       "            )\n",
       "            (output): RobertaSelfOutput(\n",
       "              (dense): Linear(in_features=768, out_features=768, bias=True)\n",
       "              (LayerNorm): LayerNorm((768,), eps=1e-05, elementwise_affine=True)\n",
       "              (dropout): Dropout(p=0.1, inplace=False)\n",
       "            )\n",
       "          )\n",
       "          (intermediate): RobertaIntermediate(\n",
       "            (dense): Linear(in_features=768, out_features=3072, bias=True)\n",
       "          )\n",
       "          (output): RobertaOutput(\n",
       "            (dense): Linear(in_features=3072, out_features=768, bias=True)\n",
       "            (LayerNorm): LayerNorm((768,), eps=1e-05, elementwise_affine=True)\n",
       "            (dropout): Dropout(p=0.1, inplace=False)\n",
       "          )\n",
       "        )\n",
       "        (2): RobertaLayer(\n",
       "          (attention): RobertaAttention(\n",
       "            (self): RobertaSelfAttention(\n",
       "              (query): Linear(in_features=768, out_features=768, bias=True)\n",
       "              (key): Linear(in_features=768, out_features=768, bias=True)\n",
       "              (value): Linear(in_features=768, out_features=768, bias=True)\n",
       "              (dropout): Dropout(p=0.1, inplace=False)\n",
       "            )\n",
       "            (output): RobertaSelfOutput(\n",
       "              (dense): Linear(in_features=768, out_features=768, bias=True)\n",
       "              (LayerNorm): LayerNorm((768,), eps=1e-05, elementwise_affine=True)\n",
       "              (dropout): Dropout(p=0.1, inplace=False)\n",
       "            )\n",
       "          )\n",
       "          (intermediate): RobertaIntermediate(\n",
       "            (dense): Linear(in_features=768, out_features=3072, bias=True)\n",
       "          )\n",
       "          (output): RobertaOutput(\n",
       "            (dense): Linear(in_features=3072, out_features=768, bias=True)\n",
       "            (LayerNorm): LayerNorm((768,), eps=1e-05, elementwise_affine=True)\n",
       "            (dropout): Dropout(p=0.1, inplace=False)\n",
       "          )\n",
       "        )\n",
       "        (3): RobertaLayer(\n",
       "          (attention): RobertaAttention(\n",
       "            (self): RobertaSelfAttention(\n",
       "              (query): Linear(in_features=768, out_features=768, bias=True)\n",
       "              (key): Linear(in_features=768, out_features=768, bias=True)\n",
       "              (value): Linear(in_features=768, out_features=768, bias=True)\n",
       "              (dropout): Dropout(p=0.1, inplace=False)\n",
       "            )\n",
       "            (output): RobertaSelfOutput(\n",
       "              (dense): Linear(in_features=768, out_features=768, bias=True)\n",
       "              (LayerNorm): LayerNorm((768,), eps=1e-05, elementwise_affine=True)\n",
       "              (dropout): Dropout(p=0.1, inplace=False)\n",
       "            )\n",
       "          )\n",
       "          (intermediate): RobertaIntermediate(\n",
       "            (dense): Linear(in_features=768, out_features=3072, bias=True)\n",
       "          )\n",
       "          (output): RobertaOutput(\n",
       "            (dense): Linear(in_features=3072, out_features=768, bias=True)\n",
       "            (LayerNorm): LayerNorm((768,), eps=1e-05, elementwise_affine=True)\n",
       "            (dropout): Dropout(p=0.1, inplace=False)\n",
       "          )\n",
       "        )\n",
       "        (4): RobertaLayer(\n",
       "          (attention): RobertaAttention(\n",
       "            (self): RobertaSelfAttention(\n",
       "              (query): Linear(in_features=768, out_features=768, bias=True)\n",
       "              (key): Linear(in_features=768, out_features=768, bias=True)\n",
       "              (value): Linear(in_features=768, out_features=768, bias=True)\n",
       "              (dropout): Dropout(p=0.1, inplace=False)\n",
       "            )\n",
       "            (output): RobertaSelfOutput(\n",
       "              (dense): Linear(in_features=768, out_features=768, bias=True)\n",
       "              (LayerNorm): LayerNorm((768,), eps=1e-05, elementwise_affine=True)\n",
       "              (dropout): Dropout(p=0.1, inplace=False)\n",
       "            )\n",
       "          )\n",
       "          (intermediate): RobertaIntermediate(\n",
       "            (dense): Linear(in_features=768, out_features=3072, bias=True)\n",
       "          )\n",
       "          (output): RobertaOutput(\n",
       "            (dense): Linear(in_features=3072, out_features=768, bias=True)\n",
       "            (LayerNorm): LayerNorm((768,), eps=1e-05, elementwise_affine=True)\n",
       "            (dropout): Dropout(p=0.1, inplace=False)\n",
       "          )\n",
       "        )\n",
       "        (5): RobertaLayer(\n",
       "          (attention): RobertaAttention(\n",
       "            (self): RobertaSelfAttention(\n",
       "              (query): Linear(in_features=768, out_features=768, bias=True)\n",
       "              (key): Linear(in_features=768, out_features=768, bias=True)\n",
       "              (value): Linear(in_features=768, out_features=768, bias=True)\n",
       "              (dropout): Dropout(p=0.1, inplace=False)\n",
       "            )\n",
       "            (output): RobertaSelfOutput(\n",
       "              (dense): Linear(in_features=768, out_features=768, bias=True)\n",
       "              (LayerNorm): LayerNorm((768,), eps=1e-05, elementwise_affine=True)\n",
       "              (dropout): Dropout(p=0.1, inplace=False)\n",
       "            )\n",
       "          )\n",
       "          (intermediate): RobertaIntermediate(\n",
       "            (dense): Linear(in_features=768, out_features=3072, bias=True)\n",
       "          )\n",
       "          (output): RobertaOutput(\n",
       "            (dense): Linear(in_features=3072, out_features=768, bias=True)\n",
       "            (LayerNorm): LayerNorm((768,), eps=1e-05, elementwise_affine=True)\n",
       "            (dropout): Dropout(p=0.1, inplace=False)\n",
       "          )\n",
       "        )\n",
       "        (6): RobertaLayer(\n",
       "          (attention): RobertaAttention(\n",
       "            (self): RobertaSelfAttention(\n",
       "              (query): Linear(in_features=768, out_features=768, bias=True)\n",
       "              (key): Linear(in_features=768, out_features=768, bias=True)\n",
       "              (value): Linear(in_features=768, out_features=768, bias=True)\n",
       "              (dropout): Dropout(p=0.1, inplace=False)\n",
       "            )\n",
       "            (output): RobertaSelfOutput(\n",
       "              (dense): Linear(in_features=768, out_features=768, bias=True)\n",
       "              (LayerNorm): LayerNorm((768,), eps=1e-05, elementwise_affine=True)\n",
       "              (dropout): Dropout(p=0.1, inplace=False)\n",
       "            )\n",
       "          )\n",
       "          (intermediate): RobertaIntermediate(\n",
       "            (dense): Linear(in_features=768, out_features=3072, bias=True)\n",
       "          )\n",
       "          (output): RobertaOutput(\n",
       "            (dense): Linear(in_features=3072, out_features=768, bias=True)\n",
       "            (LayerNorm): LayerNorm((768,), eps=1e-05, elementwise_affine=True)\n",
       "            (dropout): Dropout(p=0.1, inplace=False)\n",
       "          )\n",
       "        )\n",
       "        (7): RobertaLayer(\n",
       "          (attention): RobertaAttention(\n",
       "            (self): RobertaSelfAttention(\n",
       "              (query): Linear(in_features=768, out_features=768, bias=True)\n",
       "              (key): Linear(in_features=768, out_features=768, bias=True)\n",
       "              (value): Linear(in_features=768, out_features=768, bias=True)\n",
       "              (dropout): Dropout(p=0.1, inplace=False)\n",
       "            )\n",
       "            (output): RobertaSelfOutput(\n",
       "              (dense): Linear(in_features=768, out_features=768, bias=True)\n",
       "              (LayerNorm): LayerNorm((768,), eps=1e-05, elementwise_affine=True)\n",
       "              (dropout): Dropout(p=0.1, inplace=False)\n",
       "            )\n",
       "          )\n",
       "          (intermediate): RobertaIntermediate(\n",
       "            (dense): Linear(in_features=768, out_features=3072, bias=True)\n",
       "          )\n",
       "          (output): RobertaOutput(\n",
       "            (dense): Linear(in_features=3072, out_features=768, bias=True)\n",
       "            (LayerNorm): LayerNorm((768,), eps=1e-05, elementwise_affine=True)\n",
       "            (dropout): Dropout(p=0.1, inplace=False)\n",
       "          )\n",
       "        )\n",
       "        (8): RobertaLayer(\n",
       "          (attention): RobertaAttention(\n",
       "            (self): RobertaSelfAttention(\n",
       "              (query): Linear(in_features=768, out_features=768, bias=True)\n",
       "              (key): Linear(in_features=768, out_features=768, bias=True)\n",
       "              (value): Linear(in_features=768, out_features=768, bias=True)\n",
       "              (dropout): Dropout(p=0.1, inplace=False)\n",
       "            )\n",
       "            (output): RobertaSelfOutput(\n",
       "              (dense): Linear(in_features=768, out_features=768, bias=True)\n",
       "              (LayerNorm): LayerNorm((768,), eps=1e-05, elementwise_affine=True)\n",
       "              (dropout): Dropout(p=0.1, inplace=False)\n",
       "            )\n",
       "          )\n",
       "          (intermediate): RobertaIntermediate(\n",
       "            (dense): Linear(in_features=768, out_features=3072, bias=True)\n",
       "          )\n",
       "          (output): RobertaOutput(\n",
       "            (dense): Linear(in_features=3072, out_features=768, bias=True)\n",
       "            (LayerNorm): LayerNorm((768,), eps=1e-05, elementwise_affine=True)\n",
       "            (dropout): Dropout(p=0.1, inplace=False)\n",
       "          )\n",
       "        )\n",
       "        (9): RobertaLayer(\n",
       "          (attention): RobertaAttention(\n",
       "            (self): RobertaSelfAttention(\n",
       "              (query): Linear(in_features=768, out_features=768, bias=True)\n",
       "              (key): Linear(in_features=768, out_features=768, bias=True)\n",
       "              (value): Linear(in_features=768, out_features=768, bias=True)\n",
       "              (dropout): Dropout(p=0.1, inplace=False)\n",
       "            )\n",
       "            (output): RobertaSelfOutput(\n",
       "              (dense): Linear(in_features=768, out_features=768, bias=True)\n",
       "              (LayerNorm): LayerNorm((768,), eps=1e-05, elementwise_affine=True)\n",
       "              (dropout): Dropout(p=0.1, inplace=False)\n",
       "            )\n",
       "          )\n",
       "          (intermediate): RobertaIntermediate(\n",
       "            (dense): Linear(in_features=768, out_features=3072, bias=True)\n",
       "          )\n",
       "          (output): RobertaOutput(\n",
       "            (dense): Linear(in_features=3072, out_features=768, bias=True)\n",
       "            (LayerNorm): LayerNorm((768,), eps=1e-05, elementwise_affine=True)\n",
       "            (dropout): Dropout(p=0.1, inplace=False)\n",
       "          )\n",
       "        )\n",
       "        (10): RobertaLayer(\n",
       "          (attention): RobertaAttention(\n",
       "            (self): RobertaSelfAttention(\n",
       "              (query): Linear(in_features=768, out_features=768, bias=True)\n",
       "              (key): Linear(in_features=768, out_features=768, bias=True)\n",
       "              (value): Linear(in_features=768, out_features=768, bias=True)\n",
       "              (dropout): Dropout(p=0.1, inplace=False)\n",
       "            )\n",
       "            (output): RobertaSelfOutput(\n",
       "              (dense): Linear(in_features=768, out_features=768, bias=True)\n",
       "              (LayerNorm): LayerNorm((768,), eps=1e-05, elementwise_affine=True)\n",
       "              (dropout): Dropout(p=0.1, inplace=False)\n",
       "            )\n",
       "          )\n",
       "          (intermediate): RobertaIntermediate(\n",
       "            (dense): Linear(in_features=768, out_features=3072, bias=True)\n",
       "          )\n",
       "          (output): RobertaOutput(\n",
       "            (dense): Linear(in_features=3072, out_features=768, bias=True)\n",
       "            (LayerNorm): LayerNorm((768,), eps=1e-05, elementwise_affine=True)\n",
       "            (dropout): Dropout(p=0.1, inplace=False)\n",
       "          )\n",
       "        )\n",
       "        (11): RobertaLayer(\n",
       "          (attention): RobertaAttention(\n",
       "            (self): RobertaSelfAttention(\n",
       "              (query): Linear(in_features=768, out_features=768, bias=True)\n",
       "              (key): Linear(in_features=768, out_features=768, bias=True)\n",
       "              (value): Linear(in_features=768, out_features=768, bias=True)\n",
       "              (dropout): Dropout(p=0.1, inplace=False)\n",
       "            )\n",
       "            (output): RobertaSelfOutput(\n",
       "              (dense): Linear(in_features=768, out_features=768, bias=True)\n",
       "              (LayerNorm): LayerNorm((768,), eps=1e-05, elementwise_affine=True)\n",
       "              (dropout): Dropout(p=0.1, inplace=False)\n",
       "            )\n",
       "          )\n",
       "          (intermediate): RobertaIntermediate(\n",
       "            (dense): Linear(in_features=768, out_features=3072, bias=True)\n",
       "          )\n",
       "          (output): RobertaOutput(\n",
       "            (dense): Linear(in_features=3072, out_features=768, bias=True)\n",
       "            (LayerNorm): LayerNorm((768,), eps=1e-05, elementwise_affine=True)\n",
       "            (dropout): Dropout(p=0.1, inplace=False)\n",
       "          )\n",
       "        )\n",
       "      )\n",
       "    )\n",
       "  )\n",
       "  (classifier): RobertaClassificationHead(\n",
       "    (dense): Linear(in_features=768, out_features=768, bias=True)\n",
       "    (dropout): Dropout(p=0.1, inplace=False)\n",
       "    (out_proj): Linear(in_features=768, out_features=3, bias=True)\n",
       "  )\n",
       ")"
      ]
     },
     "execution_count": 17,
     "metadata": {
      "tags": []
     },
     "output_type": "execute_result"
    }
   ],
   "source": [
    "# Load XLM-R\n",
    "xlm_model = XLMRobertaForSequenceClassification.from_pretrained(\n",
    "    \"xlm-roberta-base\", # Use the base XLM-R model, with an uncased vocab.\n",
    "    num_labels = 3, # The number of output labels--3 for binary classification.\n",
    "                    # You can increase this for multi-class tasks.   \n",
    "    output_attentions = False, # Whether the model returns attentions weights.\n",
    "    output_hidden_states = False, # Whether the model returns all hidden-states.\n",
    ")\n",
    "\n",
    "# Tell pytorch to run this model on the GPU.\n",
    "xlm_model.cuda()"
   ]
  },
  {
   "cell_type": "code",
   "execution_count": 18,
   "metadata": {
    "executionInfo": {
     "elapsed": 208,
     "status": "ok",
     "timestamp": 1618175856383,
     "user": {
      "displayName": "Vidya Akavoor",
      "photoUrl": "",
      "userId": "09730023767824741847"
     },
     "user_tz": 240
    },
    "id": "2cQsz3PNVWdi"
   },
   "outputs": [],
   "source": [
    "from transformers import AdamW, get_linear_schedule_with_warmup\n",
    "\n",
    "# Note: AdamW is a class from the huggingface library (as opposed to pytorch) \n",
    "# I believe the 'W' stands for 'Weight Decay fix\"\n",
    "optimizer_xlm = AdamW(xlm_model.parameters(),\n",
    "                  lr = 5e-6, # args.learning_rate - default is 5e-5, our notebook had 2e-5\n",
    "                  eps = 1e-8 # args.adam_epsilon  - default is 1e-8.\n",
    "                )\n",
    "\n",
    "\n",
    "# Number of training epochs. The BERT authors recommend between 2 and 4. \n",
    "# We chose to run for 4, but we'll see later that this may be over-fitting the\n",
    "# training data.\n",
    "epochs = 3\n",
    "\n",
    "# Total number of training steps is [number of batches] x [number of epochs]. \n",
    "# (Note that this is not the same as the number of training samples).\n",
    "total_steps = len(mnli_xlm_train_dataloader) * epochs\n",
    "\n",
    "# Create the learning rate scheduler.\n",
    "scheduler = get_linear_schedule_with_warmup(optimizer_xlm, \n",
    "                                            num_warmup_steps = 0, # Default value in run_glue.py\n",
    "                                            num_training_steps = total_steps)\n"
   ]
  },
  {
   "cell_type": "code",
   "execution_count": 19,
   "metadata": {
    "colab": {
     "base_uri": "https://localhost:8080/"
    },
    "executionInfo": {
     "elapsed": 3990638,
     "status": "ok",
     "timestamp": 1618179848375,
     "user": {
      "displayName": "Vidya Akavoor",
      "photoUrl": "",
      "userId": "09730023767824741847"
     },
     "user_tz": 240
    },
    "id": "iN9M4BUMWA6a",
    "outputId": "e8ea9d1e-e370-491b-97c6-40d6b9784bc0"
   },
   "outputs": [
    {
     "name": "stdout",
     "output_type": "stream",
     "text": [
      "\n",
      "======== Epoch 1 / 3 ========\n",
      "Training...\n",
      "  Batch    40  of  2,813.    Elapsed: 0:00:19.\n",
      "  Batch    80  of  2,813.    Elapsed: 0:00:38.\n",
      "  Batch   120  of  2,813.    Elapsed: 0:00:56.\n",
      "  Batch   160  of  2,813.    Elapsed: 0:01:14.\n",
      "  Batch   200  of  2,813.    Elapsed: 0:01:33.\n",
      "  Batch   240  of  2,813.    Elapsed: 0:01:51.\n",
      "  Batch   280  of  2,813.    Elapsed: 0:02:10.\n",
      "  Batch   320  of  2,813.    Elapsed: 0:02:28.\n",
      "  Batch   360  of  2,813.    Elapsed: 0:02:46.\n",
      "  Batch   400  of  2,813.    Elapsed: 0:03:05.\n",
      "  Batch   440  of  2,813.    Elapsed: 0:03:23.\n",
      "  Batch   480  of  2,813.    Elapsed: 0:03:41.\n",
      "  Batch   520  of  2,813.    Elapsed: 0:04:00.\n",
      "  Batch   560  of  2,813.    Elapsed: 0:04:18.\n",
      "  Batch   600  of  2,813.    Elapsed: 0:04:37.\n",
      "  Batch   640  of  2,813.    Elapsed: 0:04:55.\n",
      "  Batch   680  of  2,813.    Elapsed: 0:05:13.\n",
      "  Batch   720  of  2,813.    Elapsed: 0:05:32.\n",
      "  Batch   760  of  2,813.    Elapsed: 0:05:50.\n",
      "  Batch   800  of  2,813.    Elapsed: 0:06:08.\n",
      "  Batch   840  of  2,813.    Elapsed: 0:06:27.\n",
      "  Batch   880  of  2,813.    Elapsed: 0:06:45.\n",
      "  Batch   920  of  2,813.    Elapsed: 0:07:03.\n",
      "  Batch   960  of  2,813.    Elapsed: 0:07:22.\n",
      "  Batch 1,000  of  2,813.    Elapsed: 0:07:40.\n",
      "  Batch 1,040  of  2,813.    Elapsed: 0:07:58.\n",
      "  Batch 1,080  of  2,813.    Elapsed: 0:08:17.\n",
      "  Batch 1,120  of  2,813.    Elapsed: 0:08:35.\n",
      "  Batch 1,160  of  2,813.    Elapsed: 0:08:53.\n",
      "  Batch 1,200  of  2,813.    Elapsed: 0:09:12.\n",
      "  Batch 1,240  of  2,813.    Elapsed: 0:09:30.\n",
      "  Batch 1,280  of  2,813.    Elapsed: 0:09:48.\n",
      "  Batch 1,320  of  2,813.    Elapsed: 0:10:07.\n",
      "  Batch 1,360  of  2,813.    Elapsed: 0:10:25.\n",
      "  Batch 1,400  of  2,813.    Elapsed: 0:10:43.\n",
      "  Batch 1,440  of  2,813.    Elapsed: 0:11:02.\n",
      "  Batch 1,480  of  2,813.    Elapsed: 0:11:20.\n",
      "  Batch 1,520  of  2,813.    Elapsed: 0:11:39.\n",
      "  Batch 1,560  of  2,813.    Elapsed: 0:11:57.\n",
      "  Batch 1,600  of  2,813.    Elapsed: 0:12:15.\n",
      "  Batch 1,640  of  2,813.    Elapsed: 0:12:34.\n",
      "  Batch 1,680  of  2,813.    Elapsed: 0:12:52.\n",
      "  Batch 1,720  of  2,813.    Elapsed: 0:13:10.\n",
      "  Batch 1,760  of  2,813.    Elapsed: 0:13:29.\n",
      "  Batch 1,800  of  2,813.    Elapsed: 0:13:47.\n",
      "  Batch 1,840  of  2,813.    Elapsed: 0:14:05.\n",
      "  Batch 1,880  of  2,813.    Elapsed: 0:14:24.\n",
      "  Batch 1,920  of  2,813.    Elapsed: 0:14:42.\n",
      "  Batch 1,960  of  2,813.    Elapsed: 0:15:01.\n",
      "  Batch 2,000  of  2,813.    Elapsed: 0:15:19.\n",
      "  Batch 2,040  of  2,813.    Elapsed: 0:15:37.\n",
      "  Batch 2,080  of  2,813.    Elapsed: 0:15:56.\n",
      "  Batch 2,120  of  2,813.    Elapsed: 0:16:14.\n",
      "  Batch 2,160  of  2,813.    Elapsed: 0:16:32.\n",
      "  Batch 2,200  of  2,813.    Elapsed: 0:16:51.\n",
      "  Batch 2,240  of  2,813.    Elapsed: 0:17:09.\n",
      "  Batch 2,280  of  2,813.    Elapsed: 0:17:27.\n",
      "  Batch 2,320  of  2,813.    Elapsed: 0:17:46.\n",
      "  Batch 2,360  of  2,813.    Elapsed: 0:18:04.\n",
      "  Batch 2,400  of  2,813.    Elapsed: 0:18:22.\n",
      "  Batch 2,440  of  2,813.    Elapsed: 0:18:41.\n",
      "  Batch 2,480  of  2,813.    Elapsed: 0:18:59.\n",
      "  Batch 2,520  of  2,813.    Elapsed: 0:19:17.\n",
      "  Batch 2,560  of  2,813.    Elapsed: 0:19:36.\n",
      "  Batch 2,600  of  2,813.    Elapsed: 0:19:54.\n",
      "  Batch 2,640  of  2,813.    Elapsed: 0:20:12.\n",
      "  Batch 2,680  of  2,813.    Elapsed: 0:20:31.\n",
      "  Batch 2,720  of  2,813.    Elapsed: 0:20:49.\n",
      "  Batch 2,760  of  2,813.    Elapsed: 0:21:07.\n",
      "  Batch 2,800  of  2,813.    Elapsed: 0:21:26.\n",
      "\n",
      "  Average training loss: 0.84\n",
      "  Training epcoh took: 0:21:32\n",
      "\n",
      "Running Validation...\n",
      "  Accuracy: 0.74\n",
      "  Validation Loss: 0.63\n",
      "  Validation took: 0:00:40\n",
      "\n",
      "======== Epoch 2 / 3 ========\n",
      "Training...\n",
      "  Batch    40  of  2,813.    Elapsed: 0:00:18.\n",
      "  Batch    80  of  2,813.    Elapsed: 0:00:37.\n",
      "  Batch   120  of  2,813.    Elapsed: 0:00:55.\n",
      "  Batch   160  of  2,813.    Elapsed: 0:01:13.\n",
      "  Batch   200  of  2,813.    Elapsed: 0:01:32.\n",
      "  Batch   240  of  2,813.    Elapsed: 0:01:50.\n",
      "  Batch   280  of  2,813.    Elapsed: 0:02:08.\n",
      "  Batch   320  of  2,813.    Elapsed: 0:02:27.\n",
      "  Batch   360  of  2,813.    Elapsed: 0:02:45.\n",
      "  Batch   400  of  2,813.    Elapsed: 0:03:03.\n",
      "  Batch   440  of  2,813.    Elapsed: 0:03:22.\n",
      "  Batch   480  of  2,813.    Elapsed: 0:03:40.\n",
      "  Batch   520  of  2,813.    Elapsed: 0:03:58.\n",
      "  Batch   560  of  2,813.    Elapsed: 0:04:17.\n",
      "  Batch   600  of  2,813.    Elapsed: 0:04:35.\n",
      "  Batch   640  of  2,813.    Elapsed: 0:04:53.\n",
      "  Batch   680  of  2,813.    Elapsed: 0:05:12.\n",
      "  Batch   720  of  2,813.    Elapsed: 0:05:30.\n",
      "  Batch   760  of  2,813.    Elapsed: 0:05:48.\n",
      "  Batch   800  of  2,813.    Elapsed: 0:06:07.\n",
      "  Batch   840  of  2,813.    Elapsed: 0:06:25.\n",
      "  Batch   880  of  2,813.    Elapsed: 0:06:43.\n",
      "  Batch   920  of  2,813.    Elapsed: 0:07:02.\n",
      "  Batch   960  of  2,813.    Elapsed: 0:07:20.\n",
      "  Batch 1,000  of  2,813.    Elapsed: 0:07:38.\n",
      "  Batch 1,040  of  2,813.    Elapsed: 0:07:57.\n",
      "  Batch 1,080  of  2,813.    Elapsed: 0:08:15.\n",
      "  Batch 1,120  of  2,813.    Elapsed: 0:08:33.\n",
      "  Batch 1,160  of  2,813.    Elapsed: 0:08:52.\n",
      "  Batch 1,200  of  2,813.    Elapsed: 0:09:10.\n",
      "  Batch 1,240  of  2,813.    Elapsed: 0:09:28.\n",
      "  Batch 1,280  of  2,813.    Elapsed: 0:09:47.\n",
      "  Batch 1,320  of  2,813.    Elapsed: 0:10:05.\n",
      "  Batch 1,360  of  2,813.    Elapsed: 0:10:23.\n",
      "  Batch 1,400  of  2,813.    Elapsed: 0:10:42.\n",
      "  Batch 1,440  of  2,813.    Elapsed: 0:11:00.\n",
      "  Batch 1,480  of  2,813.    Elapsed: 0:11:19.\n",
      "  Batch 1,520  of  2,813.    Elapsed: 0:11:37.\n",
      "  Batch 1,560  of  2,813.    Elapsed: 0:11:55.\n",
      "  Batch 1,600  of  2,813.    Elapsed: 0:12:14.\n",
      "  Batch 1,640  of  2,813.    Elapsed: 0:12:32.\n",
      "  Batch 1,680  of  2,813.    Elapsed: 0:12:50.\n",
      "  Batch 1,720  of  2,813.    Elapsed: 0:13:09.\n",
      "  Batch 1,760  of  2,813.    Elapsed: 0:13:27.\n",
      "  Batch 1,800  of  2,813.    Elapsed: 0:13:45.\n",
      "  Batch 1,840  of  2,813.    Elapsed: 0:14:04.\n",
      "  Batch 1,880  of  2,813.    Elapsed: 0:14:22.\n",
      "  Batch 1,920  of  2,813.    Elapsed: 0:14:40.\n",
      "  Batch 1,960  of  2,813.    Elapsed: 0:14:59.\n",
      "  Batch 2,000  of  2,813.    Elapsed: 0:15:17.\n",
      "  Batch 2,040  of  2,813.    Elapsed: 0:15:35.\n",
      "  Batch 2,080  of  2,813.    Elapsed: 0:15:54.\n",
      "  Batch 2,120  of  2,813.    Elapsed: 0:16:12.\n",
      "  Batch 2,160  of  2,813.    Elapsed: 0:16:30.\n",
      "  Batch 2,200  of  2,813.    Elapsed: 0:16:49.\n",
      "  Batch 2,240  of  2,813.    Elapsed: 0:17:07.\n",
      "  Batch 2,280  of  2,813.    Elapsed: 0:17:25.\n",
      "  Batch 2,320  of  2,813.    Elapsed: 0:17:44.\n",
      "  Batch 2,360  of  2,813.    Elapsed: 0:18:02.\n",
      "  Batch 2,400  of  2,813.    Elapsed: 0:18:20.\n",
      "  Batch 2,440  of  2,813.    Elapsed: 0:18:39.\n",
      "  Batch 2,480  of  2,813.    Elapsed: 0:18:57.\n",
      "  Batch 2,520  of  2,813.    Elapsed: 0:19:15.\n",
      "  Batch 2,560  of  2,813.    Elapsed: 0:19:34.\n",
      "  Batch 2,600  of  2,813.    Elapsed: 0:19:52.\n",
      "  Batch 2,640  of  2,813.    Elapsed: 0:20:10.\n",
      "  Batch 2,680  of  2,813.    Elapsed: 0:20:29.\n",
      "  Batch 2,720  of  2,813.    Elapsed: 0:20:47.\n",
      "  Batch 2,760  of  2,813.    Elapsed: 0:21:05.\n",
      "  Batch 2,800  of  2,813.    Elapsed: 0:21:24.\n",
      "\n",
      "  Average training loss: 0.62\n",
      "  Training epcoh took: 0:21:29\n",
      "\n",
      "Running Validation...\n",
      "  Accuracy: 0.77\n",
      "  Validation Loss: 0.58\n",
      "  Validation took: 0:00:40\n",
      "\n",
      "======== Epoch 3 / 3 ========\n",
      "Training...\n",
      "  Batch    40  of  2,813.    Elapsed: 0:00:18.\n",
      "  Batch    80  of  2,813.    Elapsed: 0:00:37.\n",
      "  Batch   120  of  2,813.    Elapsed: 0:00:55.\n",
      "  Batch   160  of  2,813.    Elapsed: 0:01:13.\n",
      "  Batch   200  of  2,813.    Elapsed: 0:01:32.\n",
      "  Batch   240  of  2,813.    Elapsed: 0:01:50.\n",
      "  Batch   280  of  2,813.    Elapsed: 0:02:08.\n",
      "  Batch   320  of  2,813.    Elapsed: 0:02:27.\n",
      "  Batch   360  of  2,813.    Elapsed: 0:02:45.\n",
      "  Batch   400  of  2,813.    Elapsed: 0:03:03.\n",
      "  Batch   440  of  2,813.    Elapsed: 0:03:22.\n",
      "  Batch   480  of  2,813.    Elapsed: 0:03:40.\n",
      "  Batch   520  of  2,813.    Elapsed: 0:03:58.\n",
      "  Batch   560  of  2,813.    Elapsed: 0:04:17.\n",
      "  Batch   600  of  2,813.    Elapsed: 0:04:35.\n",
      "  Batch   640  of  2,813.    Elapsed: 0:04:53.\n",
      "  Batch   680  of  2,813.    Elapsed: 0:05:12.\n",
      "  Batch   720  of  2,813.    Elapsed: 0:05:30.\n",
      "  Batch   760  of  2,813.    Elapsed: 0:05:48.\n",
      "  Batch   800  of  2,813.    Elapsed: 0:06:07.\n",
      "  Batch   840  of  2,813.    Elapsed: 0:06:25.\n",
      "  Batch   880  of  2,813.    Elapsed: 0:06:43.\n",
      "  Batch   920  of  2,813.    Elapsed: 0:07:02.\n",
      "  Batch   960  of  2,813.    Elapsed: 0:07:20.\n",
      "  Batch 1,000  of  2,813.    Elapsed: 0:07:38.\n",
      "  Batch 1,040  of  2,813.    Elapsed: 0:07:57.\n",
      "  Batch 1,080  of  2,813.    Elapsed: 0:08:15.\n",
      "  Batch 1,120  of  2,813.    Elapsed: 0:08:33.\n",
      "  Batch 1,160  of  2,813.    Elapsed: 0:08:52.\n",
      "  Batch 1,200  of  2,813.    Elapsed: 0:09:10.\n",
      "  Batch 1,240  of  2,813.    Elapsed: 0:09:28.\n",
      "  Batch 1,280  of  2,813.    Elapsed: 0:09:47.\n",
      "  Batch 1,320  of  2,813.    Elapsed: 0:10:05.\n",
      "  Batch 1,360  of  2,813.    Elapsed: 0:10:23.\n",
      "  Batch 1,400  of  2,813.    Elapsed: 0:10:42.\n",
      "  Batch 1,440  of  2,813.    Elapsed: 0:11:00.\n",
      "  Batch 1,480  of  2,813.    Elapsed: 0:11:18.\n",
      "  Batch 1,520  of  2,813.    Elapsed: 0:11:37.\n",
      "  Batch 1,560  of  2,813.    Elapsed: 0:11:55.\n",
      "  Batch 1,600  of  2,813.    Elapsed: 0:12:13.\n",
      "  Batch 1,640  of  2,813.    Elapsed: 0:12:32.\n",
      "  Batch 1,680  of  2,813.    Elapsed: 0:12:50.\n",
      "  Batch 1,720  of  2,813.    Elapsed: 0:13:09.\n",
      "  Batch 1,760  of  2,813.    Elapsed: 0:13:27.\n",
      "  Batch 1,800  of  2,813.    Elapsed: 0:13:45.\n",
      "  Batch 1,840  of  2,813.    Elapsed: 0:14:04.\n",
      "  Batch 1,880  of  2,813.    Elapsed: 0:14:22.\n",
      "  Batch 1,920  of  2,813.    Elapsed: 0:14:40.\n",
      "  Batch 1,960  of  2,813.    Elapsed: 0:14:59.\n",
      "  Batch 2,000  of  2,813.    Elapsed: 0:15:17.\n",
      "  Batch 2,040  of  2,813.    Elapsed: 0:15:35.\n",
      "  Batch 2,080  of  2,813.    Elapsed: 0:15:54.\n",
      "  Batch 2,120  of  2,813.    Elapsed: 0:16:12.\n",
      "  Batch 2,160  of  2,813.    Elapsed: 0:16:30.\n",
      "  Batch 2,200  of  2,813.    Elapsed: 0:16:49.\n",
      "  Batch 2,240  of  2,813.    Elapsed: 0:17:07.\n",
      "  Batch 2,280  of  2,813.    Elapsed: 0:17:25.\n",
      "  Batch 2,320  of  2,813.    Elapsed: 0:17:44.\n",
      "  Batch 2,360  of  2,813.    Elapsed: 0:18:02.\n",
      "  Batch 2,400  of  2,813.    Elapsed: 0:18:20.\n",
      "  Batch 2,440  of  2,813.    Elapsed: 0:18:39.\n",
      "  Batch 2,480  of  2,813.    Elapsed: 0:18:57.\n",
      "  Batch 2,520  of  2,813.    Elapsed: 0:19:15.\n",
      "  Batch 2,560  of  2,813.    Elapsed: 0:19:34.\n",
      "  Batch 2,600  of  2,813.    Elapsed: 0:19:52.\n",
      "  Batch 2,640  of  2,813.    Elapsed: 0:20:10.\n",
      "  Batch 2,680  of  2,813.    Elapsed: 0:20:29.\n",
      "  Batch 2,720  of  2,813.    Elapsed: 0:20:47.\n",
      "  Batch 2,760  of  2,813.    Elapsed: 0:21:05.\n",
      "  Batch 2,800  of  2,813.    Elapsed: 0:21:24.\n",
      "\n",
      "  Average training loss: 0.55\n",
      "  Training epcoh took: 0:21:29\n",
      "\n",
      "Running Validation...\n",
      "  Accuracy: 0.78\n",
      "  Validation Loss: 0.58\n",
      "  Validation took: 0:00:40\n",
      "\n",
      "Training complete!\n",
      "Total training took 1:06:30 (h:mm:ss)\n"
     ]
    }
   ],
   "source": [
    "xlm_training_stats = training_helper(xlm_model, mnli_xlm_train_dataloader, mnli_xlm_validation_dataloader, optimizer_xlm, scheduler)"
   ]
  },
  {
   "cell_type": "markdown",
   "metadata": {
    "id": "wFH_goe3hTF3"
   },
   "source": [
    "## 5.2. Visualize XLM Training Stats"
   ]
  },
  {
   "cell_type": "code",
   "execution_count": 20,
   "metadata": {
    "colab": {
     "base_uri": "https://localhost:8080/",
     "height": 173
    },
    "executionInfo": {
     "elapsed": 240,
     "status": "ok",
     "timestamp": 1618180567139,
     "user": {
      "displayName": "Vidya Akavoor",
      "photoUrl": "",
      "userId": "09730023767824741847"
     },
     "user_tz": 240
    },
    "id": "7feEOhJWhSnb",
    "outputId": "ed9d3fbf-50ce-4eba-89bb-1f39531851df"
   },
   "outputs": [
    {
     "data": {
      "text/html": [
       "<div>\n",
       "<style scoped>\n",
       "    .dataframe tbody tr th:only-of-type {\n",
       "        vertical-align: middle;\n",
       "    }\n",
       "\n",
       "    .dataframe tbody tr th {\n",
       "        vertical-align: top;\n",
       "    }\n",
       "\n",
       "    .dataframe thead th {\n",
       "        text-align: right;\n",
       "    }\n",
       "</style>\n",
       "<table border=\"1\" class=\"dataframe\">\n",
       "  <thead>\n",
       "    <tr style=\"text-align: right;\">\n",
       "      <th></th>\n",
       "      <th>Training Loss</th>\n",
       "      <th>Valid. Loss</th>\n",
       "      <th>Valid. Accur.</th>\n",
       "      <th>Training Time</th>\n",
       "      <th>Validation Time</th>\n",
       "    </tr>\n",
       "    <tr>\n",
       "      <th>epoch</th>\n",
       "      <th></th>\n",
       "      <th></th>\n",
       "      <th></th>\n",
       "      <th></th>\n",
       "      <th></th>\n",
       "    </tr>\n",
       "  </thead>\n",
       "  <tbody>\n",
       "    <tr>\n",
       "      <th>1</th>\n",
       "      <td>0.84</td>\n",
       "      <td>0.63</td>\n",
       "      <td>0.74</td>\n",
       "      <td>0:21:32</td>\n",
       "      <td>0:00:40</td>\n",
       "    </tr>\n",
       "    <tr>\n",
       "      <th>2</th>\n",
       "      <td>0.62</td>\n",
       "      <td>0.58</td>\n",
       "      <td>0.77</td>\n",
       "      <td>0:21:29</td>\n",
       "      <td>0:00:40</td>\n",
       "    </tr>\n",
       "    <tr>\n",
       "      <th>3</th>\n",
       "      <td>0.55</td>\n",
       "      <td>0.58</td>\n",
       "      <td>0.78</td>\n",
       "      <td>0:21:29</td>\n",
       "      <td>0:00:40</td>\n",
       "    </tr>\n",
       "  </tbody>\n",
       "</table>\n",
       "</div>"
      ],
      "text/plain": [
       "       Training Loss  Valid. Loss  Valid. Accur. Training Time Validation Time\n",
       "epoch                                                                         \n",
       "1               0.84         0.63           0.74       0:21:32         0:00:40\n",
       "2               0.62         0.58           0.77       0:21:29         0:00:40\n",
       "3               0.55         0.58           0.78       0:21:29         0:00:40"
      ]
     },
     "execution_count": 20,
     "metadata": {
      "tags": []
     },
     "output_type": "execute_result"
    }
   ],
   "source": [
    "import pandas as pd\n",
    "\n",
    "# Display floats with two decimal places.\n",
    "pd.set_option('precision', 2)\n",
    "\n",
    "# Create a DataFrame from our training statistics.\n",
    "df_stats = pd.DataFrame(data=xlm_training_stats)\n",
    "\n",
    "# Use the 'epoch' as the row index.\n",
    "df_stats = df_stats.set_index('epoch')\n",
    "\n",
    "# A hack to force the column headers to wrap.\n",
    "#df = df.style.set_table_styles([dict(selector=\"th\",props=[('max-width', '70px')])])\n",
    "\n",
    "# Display the table.\n",
    "df_stats"
   ]
  },
  {
   "cell_type": "code",
   "execution_count": 21,
   "metadata": {
    "colab": {
     "base_uri": "https://localhost:8080/",
     "height": 427
    },
    "executionInfo": {
     "elapsed": 907,
     "status": "ok",
     "timestamp": 1618180572213,
     "user": {
      "displayName": "Vidya Akavoor",
      "photoUrl": "",
      "userId": "09730023767824741847"
     },
     "user_tz": 240
    },
    "id": "Vcr-uVFbhc6n",
    "outputId": "a3685c10-e2ef-499f-f4a0-3a7ce52cd540"
   },
   "outputs": [
    {
     "data": {
      "image/png": "[encoded data removed]",
      "text/plain": [
       "<Figure size 864x432 with 1 Axes>"
      ]
     },
     "metadata": {
      "tags": []
     },
     "output_type": "display_data"
    }
   ],
   "source": [
    "import matplotlib.pyplot as plt\n",
    "% matplotlib inline\n",
    "\n",
    "import seaborn as sns\n",
    "\n",
    "# Use plot styling from seaborn.\n",
    "sns.set(style='darkgrid')\n",
    "\n",
    "# Increase the plot size and font size.\n",
    "sns.set(font_scale=1.5)\n",
    "plt.rcParams[\"figure.figsize\"] = (12,6)\n",
    "\n",
    "# Plot the learning curve.\n",
    "plt.plot(df_stats['Training Loss'], 'b-o', label=\"Training\")\n",
    "plt.plot(df_stats['Valid. Loss'], 'g-o', label=\"Validation\")\n",
    "\n",
    "# Label the plot.\n",
    "plt.title(\"Training & Validation Loss\")\n",
    "plt.xlabel(\"Epoch\")\n",
    "plt.ylabel(\"Loss\")\n",
    "plt.legend()\n",
    "plt.xticks([1, 2, 3, 4])\n",
    "\n",
    "plt.show()"
   ]
  },
  {
   "cell_type": "markdown",
   "metadata": {
    "id": "_Q_qQI90WX-T"
   },
   "source": [
    "## 5.2. Test XLM-R on XNLI"
   ]
  },
  {
   "cell_type": "code",
   "execution_count": 22,
   "metadata": {
    "colab": {
     "base_uri": "https://localhost:8080/"
    },
    "executionInfo": {
     "elapsed": 2091,
     "status": "ok",
     "timestamp": 1618180581943,
     "user": {
      "displayName": "Vidya Akavoor",
      "photoUrl": "",
      "userId": "09730023767824741847"
     },
     "user_tz": 240
    },
    "id": "PaCBk1oUWbuI",
    "outputId": "d5a0874b-5a7b-4709-e4df-8d42887e6c35"
   },
   "outputs": [
    {
     "name": "stderr",
     "output_type": "stream",
     "text": [
      "Truncation was not explicitly activated but `max_length` is provided a specific value, please use `truncation=True` to explicitly truncate examples to max length. Defaulting to 'longest_first' truncation strategy. If you encode pairs of sequences (GLUE-style) with the tokenizer you can select this strategy more precisely by providing a specific strategy to `truncation`.\n",
      "/usr/local/lib/python3.7/dist-packages/transformers/tokenization_utils_base.py:2079: FutureWarning: The `pad_to_max_length` argument is deprecated and will be removed in a future version, use `padding=True` or `padding='longest'` to pad to the longest sequence in the batch, or use `padding='max_length'` to pad to a max length. In this case, you can give a specific length with `max_length` (e.g. `max_length=45`) or leave max_length to None to pad to the maximal input size of the model (e.g. 512 for Bert).\n",
      "  FutureWarning,\n"
     ]
    }
   ],
   "source": [
    "# Tokenize all of the sentences and map the tokens to thier word IDs.\n",
    "xnli_xlm_test_input_ids = []\n",
    "xnli_xlm_test_attention_masks = []\n",
    "xnli_labels = []\n",
    "\n",
    "# For every sentence...\n",
    "for ex in xnli_ar:\n",
    "    # `encode_plus` will:\n",
    "    #   (1) Tokenize the sentence.\n",
    "    #   (2) Prepend the `[CLS]` token to the start.\n",
    "    #   (3) Append the `[SEP]` token to the end.\n",
    "    #   (4) Map tokens to their IDs.\n",
    "    #   (5) Pad or truncate the sentence to `max_length`\n",
    "    #   (6) Create attention masks for [PAD] tokens.\n",
    "    encoded_dict = tokenizer_xlm.encode_plus(\n",
    "                        ex['premise'],                      # Sentences to encode.\n",
    "                        ex['hypothesis'],                      \n",
    "                        add_special_tokens = True, # Add '[CLS]' and '[SEP]'\n",
    "                        max_length = 128,           # Pad & truncate all sentences.\n",
    "                        pad_to_max_length = True,\n",
    "                        return_attention_mask = True,   # Construct attn. masks.\n",
    "                        return_tensors = 'pt',     # Return pytorch tensors.\n",
    "                   )\n",
    "    \n",
    "    # Add the encoded sentence to the list.    \n",
    "    xnli_xlm_test_input_ids.append(encoded_dict['input_ids'])\n",
    "    \n",
    "    # And its attention mask (simply differentiates padding from non-padding).\n",
    "    xnli_xlm_test_attention_masks.append(encoded_dict['attention_mask'])\n",
    "\n",
    "    xnli_labels.append(ex['label'])\n",
    "\n",
    "# Convert the lists into tensors.\n",
    "xnli_xlm_test_input_ids = torch.cat(xnli_xlm_test_input_ids, dim=0)\n",
    "xnli_xlm_test_attention_masks = torch.cat(xnli_xlm_test_attention_masks, dim=0)\n",
    "xnli_labels = torch.tensor(xnli_labels)\n",
    "\n",
    "# Set the batch size.  \n",
    "batch_size = 16  \n",
    "\n",
    "# Create the DataLoader.\n",
    "xnli_xlm_prediction_data = TensorDataset(xnli_xlm_test_input_ids, xnli_xlm_test_attention_masks, xnli_labels)\n",
    "xnli_xlm_prediction_sampler = SequentialSampler(xnli_xlm_prediction_data)\n",
    "xnli_xlm_prediction_dataloader = DataLoader(xnli_xlm_prediction_data, sampler=xnli_xlm_prediction_sampler, batch_size=batch_size)"
   ]
  },
  {
   "cell_type": "code",
   "execution_count": 23,
   "metadata": {
    "colab": {
     "base_uri": "https://localhost:8080/"
    },
    "executionInfo": {
     "elapsed": 42477,
     "status": "ok",
     "timestamp": 1618180627280,
     "user": {
      "displayName": "Vidya Akavoor",
      "photoUrl": "",
      "userId": "09730023767824741847"
     },
     "user_tz": 240
    },
    "id": "d3ksj-pCW1i6",
    "outputId": "67a8b6e3-b619-4e8a-ae38-f0275506348a"
   },
   "outputs": [
    {
     "name": "stdout",
     "output_type": "stream",
     "text": [
      "Predicting labels for 5,010 test sentences...\n",
      "    DONE.\n"
     ]
    }
   ],
   "source": [
    "# Prediction on test set\n",
    "\n",
    "print('Predicting labels for {:,} test sentences...'.format(len(xnli_xlm_test_input_ids)))\n",
    "\n",
    "# Put model in evaluation mode\n",
    "xlm_model.eval()\n",
    "\n",
    "# Tracking variables \n",
    "predictions , true_labels = [], []\n",
    "\n",
    "# Predict \n",
    "for batch in xnli_xlm_prediction_dataloader:\n",
    "    # Add batch to GPU\n",
    "    batch = tuple(t.to(device) for t in batch)\n",
    "    \n",
    "    # Unpack the inputs from our dataloader\n",
    "    b_input_ids, b_input_mask, b_labels = batch\n",
    "    \n",
    "    # Telling the model not to compute or store gradients, saving memory and \n",
    "    # speeding up prediction\n",
    "    with torch.no_grad():\n",
    "        # Forward pass, calculate logit predictions.\n",
    "        result = xlm_model(b_input_ids, \n",
    "                           token_type_ids=None, \n",
    "                           attention_mask=b_input_mask,\n",
    "                           return_dict=True)\n",
    "        \n",
    "    logits = result.logits\n",
    "    \n",
    "    # Move logits and labels to CPU\n",
    "    logits = logits.detach().cpu().numpy()\n",
    "    label_ids = b_labels.to('cpu').numpy()\n",
    "    \n",
    "    # Store predictions and true labels\n",
    "    predictions.append(logits)\n",
    "    true_labels.append(label_ids)\n",
    "\n",
    "print('    DONE.')"
   ]
  },
  {
   "cell_type": "code",
   "execution_count": 24,
   "metadata": {
    "colab": {
     "base_uri": "https://localhost:8080/"
    },
    "executionInfo": {
     "elapsed": 244,
     "status": "ok",
     "timestamp": 1618180715615,
     "user": {
      "displayName": "Vidya Akavoor",
      "photoUrl": "",
      "userId": "09730023767824741847"
     },
     "user_tz": 240
    },
    "id": "Py7-Lv2eW-kz",
    "outputId": "45033a8b-e6ed-49a9-a54a-edb80dc2c0cc"
   },
   "outputs": [
    {
     "name": "stdout",
     "output_type": "stream",
     "text": [
      "Accuracies for each test batch:  [0.4375, 0.8125, 0.6875, 0.5, 0.5625, 0.5625, 0.75, 0.6875, 0.75, 0.875, 0.625, 0.6875, 0.6875, 0.6875, 0.5, 0.6875, 0.6875, 0.5625, 0.75, 0.6875, 0.5, 0.5625, 0.5625, 0.75, 1.0, 0.875, 0.6875, 0.6875, 0.625, 0.875, 0.6875, 0.75, 0.8125, 0.6875, 0.75, 0.5, 0.625, 0.625, 0.5, 0.5625, 0.5625, 0.5, 0.75, 0.8125, 0.75, 0.625, 0.8125, 0.6875, 0.5625, 0.5625, 0.6875, 0.6875, 0.6875, 0.8125, 0.5625, 0.875, 0.875, 0.75, 0.375, 0.6875, 0.5, 0.5625, 0.6875, 0.5625, 0.6875, 0.75, 0.75, 0.5, 0.5625, 0.5625, 0.8125, 0.625, 0.5625, 0.625, 0.625, 0.625, 0.5625, 0.6875, 0.6875, 0.875, 0.6875, 0.5625, 0.5625, 0.5625, 0.5625, 0.5625, 0.5625, 0.6875, 0.625, 0.75, 0.625, 0.9375, 0.4375, 0.6875, 0.8125, 0.6875, 0.4375, 0.375, 0.75, 0.5625, 0.5, 0.75, 0.625, 0.6875, 0.5625, 0.5, 0.5, 0.75, 0.5, 0.625, 0.8125, 0.75, 0.5, 0.6875, 0.5, 0.625, 0.625, 0.8125, 0.5625, 0.6875, 0.6875, 0.6875, 0.5, 0.5625, 0.625, 0.75, 0.5, 0.6875, 0.6875, 0.625, 0.625, 0.625, 0.6875, 0.625, 0.5625, 0.5625, 0.75, 0.875, 0.75, 0.625, 0.4375, 0.9375, 0.625, 0.5, 0.6875, 0.6875, 0.6875, 0.625, 0.625, 0.9375, 0.625, 0.75, 0.625, 0.5625, 0.6875, 0.75, 0.5, 0.8125, 0.875, 0.6875, 0.8125, 0.6875, 0.5625, 0.625, 0.6875, 0.6875, 0.8125, 0.8125, 0.75, 0.8125, 0.8125, 0.8125, 0.9375, 0.8125, 0.75, 0.75, 0.75, 0.625, 0.8125, 0.5, 0.625, 0.625, 0.625, 0.6875, 0.6875, 0.625, 0.6875, 0.5625, 0.75, 0.75, 0.75, 0.8125, 0.9375, 0.6875, 0.6875, 0.75, 0.8125, 0.5, 0.3125, 0.8125, 0.6875, 0.875, 0.75, 0.4375, 0.9375, 0.75, 0.5625, 0.5625, 0.5625, 0.5625, 0.6875, 0.5625, 0.75, 0.8125, 0.5625, 0.8125, 0.8125, 0.5625, 0.5625, 0.625, 0.625, 0.625, 0.625, 0.6875, 0.625, 0.5625, 0.8125, 0.6875, 0.6875, 0.75, 0.6875, 0.5625, 0.5625, 0.6875, 0.9375, 0.875, 0.8125, 0.75, 0.625, 0.8125, 0.625, 0.625, 0.6875, 0.75, 0.75, 0.8125, 0.8125, 0.8125, 0.875, 0.75, 0.75, 0.6875, 0.75, 0.5625, 0.875, 0.5625, 0.75, 0.5625, 0.6875, 0.5, 0.375, 0.9375, 0.5, 0.8125, 0.625, 0.75, 0.6875, 0.5, 0.625, 0.5, 0.6875, 0.75, 0.5625, 0.4375, 0.6875, 0.625, 0.6875, 0.75, 0.6875, 0.4375, 0.625, 0.625, 0.5625, 0.5625, 0.625, 0.4375, 0.6875, 0.5, 0.625, 0.5625, 0.5625, 0.625, 0.625, 0.6875, 0.625, 0.5625, 0.5, 0.75, 0.6875, 0.75, 0.75, 0.8125, 0.75, 0.6875, 0.5625, 0.5625, 0.8125, 0.5, 0.5, 0.5625, 0.6875, 0.5625, 0.6875, 0.5]\n",
      "Average test accuracy:  0.6648089171974523\n"
     ]
    }
   ],
   "source": [
    "xlm_accuracies = []\n",
    "for i in range(len(predictions)):\n",
    "    xlm_accuracies += [flat_accuracy(predictions[i], true_labels[i])]\n",
    "\n",
    "xlm_mean = sum(xlm_accuracies)/len(xlm_accuracies)\n",
    "print('Accuracies for each test batch: ', xlm_accuracies)\n",
    "print('Average test accuracy: ', xlm_mean)"
   ]
  },
  {
   "cell_type": "code",
   "execution_count": 25,
   "metadata": {
    "colab": {
     "base_uri": "https://localhost:8080/"
    },
    "executionInfo": {
     "elapsed": 6357,
     "status": "ok",
     "timestamp": 1618180725191,
     "user": {
      "displayName": "Vidya Akavoor",
      "photoUrl": "",
      "userId": "09730023767824741847"
     },
     "user_tz": 240
    },
    "id": "gYQtc_QKXFDt",
    "outputId": "c90656c8-e02d-4649-b80c-2ae0974f3dae"
   },
   "outputs": [
    {
     "name": "stdout",
     "output_type": "stream",
     "text": [
      "Saving model to /content/drive/MyDrive/Colab Notebooks/project/xlm_mnli_model/\n"
     ]
    },
    {
     "data": {
      "text/plain": [
       "('/content/drive/MyDrive/Colab Notebooks/project/xlm_mnli_model/tokenizer_config.json',\n",
       " '/content/drive/MyDrive/Colab Notebooks/project/xlm_mnli_model/special_tokens_map.json',\n",
       " '/content/drive/MyDrive/Colab Notebooks/project/xlm_mnli_model/sentencepiece.bpe.model',\n",
       " '/content/drive/MyDrive/Colab Notebooks/project/xlm_mnli_model/added_tokens.json')"
      ]
     },
     "execution_count": 25,
     "metadata": {
      "tags": []
     },
     "output_type": "execute_result"
    }
   ],
   "source": [
    "# Saving best-practices: if you use defaults names for the model, you can reload it using from_pretrained()\n",
    "import os\n",
    "BASE_PATH = '/content/drive/MyDrive/Colab Notebooks/project'\n",
    "output_dir = f'{BASE_PATH}/xlm_mnli_model/'\n",
    "\n",
    "# Create output directory if needed\n",
    "if not os.path.exists(output_dir):\n",
    "    os.makedirs(output_dir)\n",
    "\n",
    "print(\"Saving model to %s\" % output_dir)\n",
    "\n",
    "# Save a trained model, configuration and tokenizer using `save_pretrained()`.\n",
    "# They can then be reloaded using `from_pretrained()`\n",
    "model_to_save = xlm_model.module if hasattr(xlm_model, 'module') else xlm_model  # Take care of distributed/parallel training\n",
    "model_to_save.save_pretrained(output_dir)\n",
    "tokenizer_xlm.save_pretrained(output_dir)\n",
    "\n",
    "# Good practice: save your training arguments together with the trained model\n",
    "# torch.save(args, os.path.join(output_dir, 'training_args.bin'))\n"
   ]
  },
  {
   "cell_type": "markdown",
   "metadata": {
    "id": "v-szOTfl0t2K"
   },
   "source": [
    "# 6. Conclusion"
   ]
  },
  {
   "cell_type": "markdown",
   "metadata": {
    "id": "ytr6McaI0zBV"
   },
   "source": [
    "Based on the results of fine-tuning and testing the two models - Multi-BERT and XLM-Roberta - on the NLI task, it is clear that XLM-R is the better multilingual model for zero-shot cross-lingual tasks. Multi-BERT had an average test accuracy of 0.5686703821656051 (or about 56.8%) and XLM-R had an average test accuracy of 0.6648089171974523 (or about 66.5%) which is nearly a 10 percentage-point increase."
   ]
  }
 ],
 "metadata": {
  "accelerator": "GPU",
  "colab": {
   "collapsed_sections": [
    "RX_ZDhicpHkV",
    "zROqeabYcqTz",
    "X9UIAjbSkJfK",
    "va4atgqjlSl2",
    "WnONrcCUO14D"
   ],
   "name": "project_baseline_stats",
   "provenance": [
    {
     "file_id": "1uBv4h_zDULQZgqSfohn9fQJDM-d3vge4",
     "timestamp": 1618152841995
    },
    {
     "file_id": "154f4ufSTfeOOm_TcdGKh86bKfJOQC0uD",
     "timestamp": 1617652647313
    },
    {
     "file_id": "1pTuQhug6Dhl9XalKB0zUGf4FIdYFlpcX",
     "timestamp": 1616788520159
    },
    {
     "file_id": "1dcucJvUOx6kdopjhVIwIdpby6VXhnvns",
     "timestamp": 1575478354980
    },
    {
     "file_id": "1ywsvwO6thOVOrfagjjfuxEf6xVRxbUNO",
     "timestamp": 1575307876986
    },
    {
     "file_id": "1f_snPs--PVYgZJwT3GwjxqVALFJ0T2-y",
     "timestamp": 1556493831452
    }
   ],
   "toc_visible": true
  },
  "kernelspec": {
   "display_name": "Python 3",
   "language": "python",
   "name": "python3"
  },
  "language_info": {
   "codemirror_mode": {
    "name": "ipython",
    "version": 3
   },
   "file_extension": ".py",
   "mimetype": "text/x-python",
   "name": "python",
   "nbconvert_exporter": "python",
   "pygments_lexer": "ipython3",
   "version": "3.7.7"
  },
  "widgets": {
   "application/vnd.jupyter.widget-state+json": {
    "331491390f7949789ba25f9b1f151b62": {
     "model_module": "@jupyter-widgets/base",
     "model_name": "LayoutModel",
     "state": {
      "_model_module": "@jupyter-widgets/base",
      "_model_module_version": "1.2.0",
      "_model_name": "LayoutModel",
      "_view_count": null,
      "_view_module": "@jupyter-widgets/base",
      "_view_module_version": "1.2.0",
      "_view_name": "LayoutView",
      "align_content": null,
      "align_items": null,
      "align_self": null,
      "border": null,
      "bottom": null,
      "display": null,
      "flex": null,
      "flex_flow": null,
      "grid_area": null,
      "grid_auto_columns": null,
      "grid_auto_flow": null,
      "grid_auto_rows": null,
      "grid_column": null,
      "grid_gap": null,
      "grid_row": null,
      "grid_template_areas": null,
      "grid_template_columns": null,
      "grid_template_rows": null,
      "height": null,
      "justify_content": null,
      "justify_items": null,
      "left": null,
      "margin": null,
      "max_height": null,
      "max_width": null,
      "min_height": null,
      "min_width": null,
      "object_fit": null,
      "object_position": null,
      "order": null,
      "overflow": null,
      "overflow_x": null,
      "overflow_y": null,
      "padding": null,
      "right": null,
      "top": null,
      "visibility": null,
      "width": null
     }
    },
    "644691a780c9487fb7a1bd527a9d01c6": {
     "model_module": "@jupyter-widgets/controls",
     "model_name": "HBoxModel",
     "state": {
      "_dom_classes": [],
      "_model_module": "@jupyter-widgets/controls",
      "_model_module_version": "1.5.0",
      "_model_name": "HBoxModel",
      "_view_count": null,
      "_view_module": "@jupyter-widgets/controls",
      "_view_module_version": "1.5.0",
      "_view_name": "HBoxView",
      "box_style": "",
      "children": [
       "IPY_MODEL_fb1a995b6b39463da51597df85301a26",
       "IPY_MODEL_b91ece32c73a46cd8e022684e519379c"
      ],
      "layout": "IPY_MODEL_e2c38f22d13f464eb8653818f2aee42a"
     }
    },
    "6d34795be52e4f54bda859162613af45": {
     "model_module": "@jupyter-widgets/controls",
     "model_name": "FloatProgressModel",
     "state": {
      "_dom_classes": [],
      "_model_module": "@jupyter-widgets/controls",
      "_model_module_version": "1.5.0",
      "_model_name": "FloatProgressModel",
      "_view_count": null,
      "_view_module": "@jupyter-widgets/controls",
      "_view_module_version": "1.5.0",
      "_view_name": "ProgressView",
      "bar_style": "success",
      "description": "Downloading: 100%",
      "description_tooltip": null,
      "layout": "IPY_MODEL_e76eb71c0b8e4b3395046b3085ed29c3",
      "max": 625,
      "min": 0,
      "orientation": "horizontal",
      "style": "IPY_MODEL_f2e4dc42052f495bac45d2e372951351",
      "value": 625
     }
    },
    "77209ebe4cfa4c0988bee40754c3ebe2": {
     "model_module": "@jupyter-widgets/controls",
     "model_name": "HTMLModel",
     "state": {
      "_dom_classes": [],
      "_model_module": "@jupyter-widgets/controls",
      "_model_module_version": "1.5.0",
      "_model_name": "HTMLModel",
      "_view_count": null,
      "_view_module": "@jupyter-widgets/controls",
      "_view_module_version": "1.5.0",
      "_view_name": "HTMLView",
      "description": "",
      "description_tooltip": null,
      "layout": "IPY_MODEL_bb3ba94d9d8a4696b45ac904fae9d906",
      "placeholder": "​",
      "style": "IPY_MODEL_c63f238eec6d4c7b83cd12872f9d53d3",
      "value": " 625/625 [00:00&lt;00:00, 3.02kB/s]"
     }
    },
    "8b5cdec9ca0d41f99caa188dfc7ff8ed": {
     "model_module": "@jupyter-widgets/base",
     "model_name": "LayoutModel",
     "state": {
      "_model_module": "@jupyter-widgets/base",
      "_model_module_version": "1.2.0",
      "_model_name": "LayoutModel",
      "_view_count": null,
      "_view_module": "@jupyter-widgets/base",
      "_view_module_version": "1.2.0",
      "_view_name": "LayoutView",
      "align_content": null,
      "align_items": null,
      "align_self": null,
      "border": null,
      "bottom": null,
      "display": null,
      "flex": null,
      "flex_flow": null,
      "grid_area": null,
      "grid_auto_columns": null,
      "grid_auto_flow": null,
      "grid_auto_rows": null,
      "grid_column": null,
      "grid_gap": null,
      "grid_row": null,
      "grid_template_areas": null,
      "grid_template_columns": null,
      "grid_template_rows": null,
      "height": null,
      "justify_content": null,
      "justify_items": null,
      "left": null,
      "margin": null,
      "max_height": null,
      "max_width": null,
      "min_height": null,
      "min_width": null,
      "object_fit": null,
      "object_position": null,
      "order": null,
      "overflow": null,
      "overflow_x": null,
      "overflow_y": null,
      "padding": null,
      "right": null,
      "top": null,
      "visibility": null,
      "width": null
     }
    },
    "8e294219b9054e9baf3a222d0592a8d4": {
     "model_module": "@jupyter-widgets/base",
     "model_name": "LayoutModel",
     "state": {
      "_model_module": "@jupyter-widgets/base",
      "_model_module_version": "1.2.0",
      "_model_name": "LayoutModel",
      "_view_count": null,
      "_view_module": "@jupyter-widgets/base",
      "_view_module_version": "1.2.0",
      "_view_name": "LayoutView",
      "align_content": null,
      "align_items": null,
      "align_self": null,
      "border": null,
      "bottom": null,
      "display": null,
      "flex": null,
      "flex_flow": null,
      "grid_area": null,
      "grid_auto_columns": null,
      "grid_auto_flow": null,
      "grid_auto_rows": null,
      "grid_column": null,
      "grid_gap": null,
      "grid_row": null,
      "grid_template_areas": null,
      "grid_template_columns": null,
      "grid_template_rows": null,
      "height": null,
      "justify_content": null,
      "justify_items": null,
      "left": null,
      "margin": null,
      "max_height": null,
      "max_width": null,
      "min_height": null,
      "min_width": null,
      "object_fit": null,
      "object_position": null,
      "order": null,
      "overflow": null,
      "overflow_x": null,
      "overflow_y": null,
      "padding": null,
      "right": null,
      "top": null,
      "visibility": null,
      "width": null
     }
    },
    "ad8590f44a854ab88daf84f26463f42f": {
     "model_module": "@jupyter-widgets/controls",
     "model_name": "HBoxModel",
     "state": {
      "_dom_classes": [],
      "_model_module": "@jupyter-widgets/controls",
      "_model_module_version": "1.5.0",
      "_model_name": "HBoxModel",
      "_view_count": null,
      "_view_module": "@jupyter-widgets/controls",
      "_view_module_version": "1.5.0",
      "_view_name": "HBoxView",
      "box_style": "",
      "children": [
       "IPY_MODEL_6d34795be52e4f54bda859162613af45",
       "IPY_MODEL_77209ebe4cfa4c0988bee40754c3ebe2"
      ],
      "layout": "IPY_MODEL_8b5cdec9ca0d41f99caa188dfc7ff8ed"
     }
    },
    "b91ece32c73a46cd8e022684e519379c": {
     "model_module": "@jupyter-widgets/controls",
     "model_name": "HTMLModel",
     "state": {
      "_dom_classes": [],
      "_model_module": "@jupyter-widgets/controls",
      "_model_module_version": "1.5.0",
      "_model_name": "HTMLModel",
      "_view_count": null,
      "_view_module": "@jupyter-widgets/controls",
      "_view_module_version": "1.5.0",
      "_view_name": "HTMLView",
      "description": "",
      "description_tooltip": null,
      "layout": "IPY_MODEL_8e294219b9054e9baf3a222d0592a8d4",
      "placeholder": "​",
      "style": "IPY_MODEL_db190a2639e246a9a5451138901de8a2",
      "value": " 672M/672M [1:13:32&lt;00:00, 152kB/s]"
     }
    },
    "bb3ba94d9d8a4696b45ac904fae9d906": {
     "model_module": "@jupyter-widgets/base",
     "model_name": "LayoutModel",
     "state": {
      "_model_module": "@jupyter-widgets/base",
      "_model_module_version": "1.2.0",
      "_model_name": "LayoutModel",
      "_view_count": null,
      "_view_module": "@jupyter-widgets/base",
      "_view_module_version": "1.2.0",
      "_view_name": "LayoutView",
      "align_content": null,
      "align_items": null,
      "align_self": null,
      "border": null,
      "bottom": null,
      "display": null,
      "flex": null,
      "flex_flow": null,
      "grid_area": null,
      "grid_auto_columns": null,
      "grid_auto_flow": null,
      "grid_auto_rows": null,
      "grid_column": null,
      "grid_gap": null,
      "grid_row": null,
      "grid_template_areas": null,
      "grid_template_columns": null,
      "grid_template_rows": null,
      "height": null,
      "justify_content": null,
      "justify_items": null,
      "left": null,
      "margin": null,
      "max_height": null,
      "max_width": null,
      "min_height": null,
      "min_width": null,
      "object_fit": null,
      "object_position": null,
      "order": null,
      "overflow": null,
      "overflow_x": null,
      "overflow_y": null,
      "padding": null,
      "right": null,
      "top": null,
      "visibility": null,
      "width": null
     }
    },
    "c63f238eec6d4c7b83cd12872f9d53d3": {
     "model_module": "@jupyter-widgets/controls",
     "model_name": "DescriptionStyleModel",
     "state": {
      "_model_module": "@jupyter-widgets/controls",
      "_model_module_version": "1.5.0",
      "_model_name": "DescriptionStyleModel",
      "_view_count": null,
      "_view_module": "@jupyter-widgets/base",
      "_view_module_version": "1.2.0",
      "_view_name": "StyleView",
      "description_width": ""
     }
    },
    "db190a2639e246a9a5451138901de8a2": {
     "model_module": "@jupyter-widgets/controls",
     "model_name": "DescriptionStyleModel",
     "state": {
      "_model_module": "@jupyter-widgets/controls",
      "_model_module_version": "1.5.0",
      "_model_name": "DescriptionStyleModel",
      "_view_count": null,
      "_view_module": "@jupyter-widgets/base",
      "_view_module_version": "1.2.0",
      "_view_name": "StyleView",
      "description_width": ""
     }
    },
    "e2c38f22d13f464eb8653818f2aee42a": {
     "model_module": "@jupyter-widgets/base",
     "model_name": "LayoutModel",
     "state": {
      "_model_module": "@jupyter-widgets/base",
      "_model_module_version": "1.2.0",
      "_model_name": "LayoutModel",
      "_view_count": null,
      "_view_module": "@jupyter-widgets/base",
      "_view_module_version": "1.2.0",
      "_view_name": "LayoutView",
      "align_content": null,
      "align_items": null,
      "align_self": null,
      "border": null,
      "bottom": null,
      "display": null,
      "flex": null,
      "flex_flow": null,
      "grid_area": null,
      "grid_auto_columns": null,
      "grid_auto_flow": null,
      "grid_auto_rows": null,
      "grid_column": null,
      "grid_gap": null,
      "grid_row": null,
      "grid_template_areas": null,
      "grid_template_columns": null,
      "grid_template_rows": null,
      "height": null,
      "justify_content": null,
      "justify_items": null,
      "left": null,
      "margin": null,
      "max_height": null,
      "max_width": null,
      "min_height": null,
      "min_width": null,
      "object_fit": null,
      "object_position": null,
      "order": null,
      "overflow": null,
      "overflow_x": null,
      "overflow_y": null,
      "padding": null,
      "right": null,
      "top": null,
      "visibility": null,
      "width": null
     }
    },
    "e76eb71c0b8e4b3395046b3085ed29c3": {
     "model_module": "@jupyter-widgets/base",
     "model_name": "LayoutModel",
     "state": {
      "_model_module": "@jupyter-widgets/base",
      "_model_module_version": "1.2.0",
      "_model_name": "LayoutModel",
      "_view_count": null,
      "_view_module": "@jupyter-widgets/base",
      "_view_module_version": "1.2.0",
      "_view_name": "LayoutView",
      "align_content": null,
      "align_items": null,
      "align_self": null,
      "border": null,
      "bottom": null,
      "display": null,
      "flex": null,
      "flex_flow": null,
      "grid_area": null,
      "grid_auto_columns": null,
      "grid_auto_flow": null,
      "grid_auto_rows": null,
      "grid_column": null,
      "grid_gap": null,
      "grid_row": null,
      "grid_template_areas": null,
      "grid_template_columns": null,
      "grid_template_rows": null,
      "height": null,
      "justify_content": null,
      "justify_items": null,
      "left": null,
      "margin": null,
      "max_height": null,
      "max_width": null,
      "min_height": null,
      "min_width": null,
      "object_fit": null,
      "object_position": null,
      "order": null,
      "overflow": null,
      "overflow_x": null,
      "overflow_y": null,
      "padding": null,
      "right": null,
      "top": null,
      "visibility": null,
      "width": null
     }
    },
    "f29e84e89a7f410cab257fafb6afb61c": {
     "model_module": "@jupyter-widgets/controls",
     "model_name": "ProgressStyleModel",
     "state": {
      "_model_module": "@jupyter-widgets/controls",
      "_model_module_version": "1.5.0",
      "_model_name": "ProgressStyleModel",
      "_view_count": null,
      "_view_module": "@jupyter-widgets/base",
      "_view_module_version": "1.2.0",
      "_view_name": "StyleView",
      "bar_color": null,
      "description_width": "initial"
     }
    },
    "f2e4dc42052f495bac45d2e372951351": {
     "model_module": "@jupyter-widgets/controls",
     "model_name": "ProgressStyleModel",
     "state": {
      "_model_module": "@jupyter-widgets/controls",
      "_model_module_version": "1.5.0",
      "_model_name": "ProgressStyleModel",
      "_view_count": null,
      "_view_module": "@jupyter-widgets/base",
      "_view_module_version": "1.2.0",
      "_view_name": "StyleView",
      "bar_color": null,
      "description_width": "initial"
     }
    },
    "fb1a995b6b39463da51597df85301a26": {
     "model_module": "@jupyter-widgets/controls",
     "model_name": "FloatProgressModel",
     "state": {
      "_dom_classes": [],
      "_model_module": "@jupyter-widgets/controls",
      "_model_module_version": "1.5.0",
      "_model_name": "FloatProgressModel",
      "_view_count": null,
      "_view_module": "@jupyter-widgets/controls",
      "_view_module_version": "1.5.0",
      "_view_name": "ProgressView",
      "bar_style": "success",
      "description": "Downloading: 100%",
      "description_tooltip": null,
      "layout": "IPY_MODEL_331491390f7949789ba25f9b1f151b62",
      "max": 672271273,
      "min": 0,
      "orientation": "horizontal",
      "style": "IPY_MODEL_f29e84e89a7f410cab257fafb6afb61c",
      "value": 672271273
     }
    }
   }
  }
 },
 "nbformat": 4,
 "nbformat_minor": 1
}

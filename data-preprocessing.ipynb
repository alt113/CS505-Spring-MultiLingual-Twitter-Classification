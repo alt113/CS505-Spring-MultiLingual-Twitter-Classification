{
 "cells": [
  {
   "cell_type": "code",
   "execution_count": 5,
   "metadata": {},
   "outputs": [
    {
     "name": "stderr",
     "output_type": "stream",
     "text": [
      "/Library/Frameworks/Python.framework/Versions/3.7/lib/python3.7/site-packages/tensorflow/python/framework/dtypes.py:526: FutureWarning: Passing (type, 1) or '1type' as a synonym of type is deprecated; in a future version of numpy, it will be understood as (type, (1,)) / '(1,)type'.\n",
      "  _np_qint8 = np.dtype([(\"qint8\", np.int8, 1)])\n",
      "/Library/Frameworks/Python.framework/Versions/3.7/lib/python3.7/site-packages/tensorflow/python/framework/dtypes.py:527: FutureWarning: Passing (type, 1) or '1type' as a synonym of type is deprecated; in a future version of numpy, it will be understood as (type, (1,)) / '(1,)type'.\n",
      "  _np_quint8 = np.dtype([(\"quint8\", np.uint8, 1)])\n",
      "/Library/Frameworks/Python.framework/Versions/3.7/lib/python3.7/site-packages/tensorflow/python/framework/dtypes.py:528: FutureWarning: Passing (type, 1) or '1type' as a synonym of type is deprecated; in a future version of numpy, it will be understood as (type, (1,)) / '(1,)type'.\n",
      "  _np_qint16 = np.dtype([(\"qint16\", np.int16, 1)])\n",
      "/Library/Frameworks/Python.framework/Versions/3.7/lib/python3.7/site-packages/tensorflow/python/framework/dtypes.py:529: FutureWarning: Passing (type, 1) or '1type' as a synonym of type is deprecated; in a future version of numpy, it will be understood as (type, (1,)) / '(1,)type'.\n",
      "  _np_quint16 = np.dtype([(\"quint16\", np.uint16, 1)])\n",
      "/Library/Frameworks/Python.framework/Versions/3.7/lib/python3.7/site-packages/tensorflow/python/framework/dtypes.py:530: FutureWarning: Passing (type, 1) or '1type' as a synonym of type is deprecated; in a future version of numpy, it will be understood as (type, (1,)) / '(1,)type'.\n",
      "  _np_qint32 = np.dtype([(\"qint32\", np.int32, 1)])\n",
      "/Library/Frameworks/Python.framework/Versions/3.7/lib/python3.7/site-packages/tensorflow/python/framework/dtypes.py:535: FutureWarning: Passing (type, 1) or '1type' as a synonym of type is deprecated; in a future version of numpy, it will be understood as (type, (1,)) / '(1,)type'.\n",
      "  np_resource = np.dtype([(\"resource\", np.ubyte, 1)])\n"
     ]
    }
   ],
   "source": [
    "import numpy as np\n",
    "import os\n",
    "import zipfile\n",
    "import matplotlib.pyplot as plt\n",
    "import pandas as pd\n",
    "\n",
    "from utils import format_tweet_data_frame, plot_sentiment_distribution"
   ]
  },
  {
   "cell_type": "code",
   "execution_count": 6,
   "metadata": {},
   "outputs": [],
   "source": [
    "unzipped_tweet_file_names = ['2017_Arabic_train_final.zip', '2017_English_final.zip']"
   ]
  },
  {
   "cell_type": "code",
   "execution_count": 7,
   "metadata": {},
   "outputs": [],
   "source": [
    "def unzip_tweet_files(tweet_file_names):\n",
    "    root_file_path = \"data/raw\"\n",
    "    for file_name in tweet_file_names:\n",
    "        local_zip = f\"{root_file_path}/{file_name}\"\n",
    "        print(f\"extracting files in {local_zip}\")        \n",
    "        zip_ref = zipfile.ZipFile(local_zip, 'r')\n",
    "        zip_ref.extractall(root_file_path)\n",
    "        zip_ref.close()"
   ]
  },
  {
   "cell_type": "code",
   "execution_count": 8,
   "metadata": {},
   "outputs": [
    {
     "name": "stdout",
     "output_type": "stream",
     "text": [
      "extracting files in data/raw/2017_Arabic_train_final.zip\n",
      "extracting files in data/raw/2017_English_final.zip\n"
     ]
    }
   ],
   "source": [
    "# unzip_tweet_files(unzipped_tweet_file_names)"
   ]
  },
  {
   "cell_type": "code",
   "execution_count": 9,
   "metadata": {},
   "outputs": [],
   "source": [
    "en_tweets_root_path = \"data/raw/2017_English_final/GOLD/Subtask_A\"\n",
    "ar_tweets_root_path = \"data/raw/2017_Arabic_train_final/GOLD\"\n",
    "\n",
    "en_train_tweets_files = [\"twitter-2013train-A.txt\", \"twitter-2014sarcasm-A.txt\", \"twitter-2015train-A.txt\", \"twitter-2016train-A.txt\"]\n",
    "en_test_tweets_files = [\"twitter-2013test-A.txt\", \"twitter-2014test-A.txt\", \"twitter-2015test-A.txt\", \"twitter-2016test-A.txt\"]\n",
    "\n",
    "ar_test_tweets_files = [\"SemEval2017-task4-train.subtask-A.arabic.txt\"]"
   ]
  },
  {
   "cell_type": "code",
   "execution_count": 10,
   "metadata": {},
   "outputs": [
    {
     "name": "stdout",
     "output_type": "stream",
     "text": [
      "positive    6847\n",
      "neutral     6847\n",
      "negative    2396\n",
      "Name: 1, dtype: int64\n"
     ]
    },
    {
     "data": {
      "image/png": "[encoded data removed]",
      "text/plain": [
       "<Figure size 360x360 with 1 Axes>"
      ]
     },
     "metadata": {},
     "output_type": "display_data"
    }
   ],
   "source": [
    "en_train_tweet_df = format_tweet_data_frame(en_tweets_root_path, en_train_tweets_files)\n",
    "values = en_train_tweet_df[1].value_counts()\n",
    "print(values)\n",
    "num_positive_tweets = values.iloc[0]\n",
    "num_neutral_tweets = values.iloc[1]\n",
    "num_negative_tweets = values.iloc[2]\n",
    "plot_sentiment_distribution(num_positive_tweets, num_neutral_tweets, num_negative_tweets, \"English Train Tweet distribution\")"
   ]
  },
  {
   "cell_type": "code",
   "execution_count": 11,
   "metadata": {},
   "outputs": [
    {
     "data": {
      "text/html": [
       "<div>\n",
       "<style scoped>\n",
       "    .dataframe tbody tr th:only-of-type {\n",
       "        vertical-align: middle;\n",
       "    }\n",
       "\n",
       "    .dataframe tbody tr th {\n",
       "        vertical-align: top;\n",
       "    }\n",
       "\n",
       "    .dataframe thead th {\n",
       "        text-align: right;\n",
       "    }\n",
       "</style>\n",
       "<table border=\"1\" class=\"dataframe\">\n",
       "  <thead>\n",
       "    <tr style=\"text-align: right;\">\n",
       "      <th></th>\n",
       "      <th>0</th>\n",
       "      <th>1</th>\n",
       "      <th>2</th>\n",
       "      <th>processed_tweet</th>\n",
       "    </tr>\n",
       "  </thead>\n",
       "  <tbody>\n",
       "    <tr>\n",
       "      <th>0</th>\n",
       "      <td>264183816548130816</td>\n",
       "      <td>positive</td>\n",
       "      <td>Gas by my house hit $3.39!!!! I\\u2019m going t...</td>\n",
       "      <td>gas house hit $ 3.39 i\\u2019 m going chapel hi...</td>\n",
       "    </tr>\n",
       "    <tr>\n",
       "      <th>1</th>\n",
       "      <td>263405084770172928</td>\n",
       "      <td>negative</td>\n",
       "      <td>Theo Walcott is still shit\\u002c watch Rafa an...</td>\n",
       "      <td>theo walcott shit\\u002c watch rafa johnny deal...</td>\n",
       "    </tr>\n",
       "    <tr>\n",
       "      <th>2</th>\n",
       "      <td>262163168678248449</td>\n",
       "      <td>negative</td>\n",
       "      <td>its not that I\\u2019m a GSP fan\\u002c i just h...</td>\n",
       "      <td>i\\u2019 m gsp fan\\u002c hate nick diaz can\\u20...</td>\n",
       "    </tr>\n",
       "    <tr>\n",
       "      <th>3</th>\n",
       "      <td>264249301910310912</td>\n",
       "      <td>negative</td>\n",
       "      <td>Iranian general says Israel\\u2019s Iron Dome c...</td>\n",
       "      <td>iranian general says israel\\u2019s iron dome c...</td>\n",
       "    </tr>\n",
       "    <tr>\n",
       "      <th>4</th>\n",
       "      <td>262682041215234048</td>\n",
       "      <td>neutral</td>\n",
       "      <td>Tehran\\u002c Mon Amour: Obama Tried to Establi...</td>\n",
       "      <td>tehran\\u002c mon amour obama tried establish t...</td>\n",
       "    </tr>\n",
       "  </tbody>\n",
       "</table>\n",
       "</div>"
      ],
      "text/plain": [
       "                    0         1  \\\n",
       "0  264183816548130816  positive   \n",
       "1  263405084770172928  negative   \n",
       "2  262163168678248449  negative   \n",
       "3  264249301910310912  negative   \n",
       "4  262682041215234048   neutral   \n",
       "\n",
       "                                                   2  \\\n",
       "0  Gas by my house hit $3.39!!!! I\\u2019m going t...   \n",
       "1  Theo Walcott is still shit\\u002c watch Rafa an...   \n",
       "2  its not that I\\u2019m a GSP fan\\u002c i just h...   \n",
       "3  Iranian general says Israel\\u2019s Iron Dome c...   \n",
       "4  Tehran\\u002c Mon Amour: Obama Tried to Establi...   \n",
       "\n",
       "                                     processed_tweet  \n",
       "0  gas house hit $ 3.39 i\\u2019 m going chapel hi...  \n",
       "1  theo walcott shit\\u002c watch rafa johnny deal...  \n",
       "2  i\\u2019 m gsp fan\\u002c hate nick diaz can\\u20...  \n",
       "3  iranian general says israel\\u2019s iron dome c...  \n",
       "4  tehran\\u002c mon amour obama tried establish t...  "
      ]
     },
     "execution_count": 11,
     "metadata": {},
     "output_type": "execute_result"
    }
   ],
   "source": [
    "en_train_tweet_df.head()"
   ]
  },
  {
   "cell_type": "code",
   "execution_count": 12,
   "metadata": {},
   "outputs": [
    {
     "name": "stdout",
     "output_type": "stream",
     "text": [
      "neutral     13511\n",
      "positive    10554\n",
      "negative     4357\n",
      "Name: 1, dtype: int64\n"
     ]
    },
    {
     "data": {
      "image/png": "[encoded data removed]",
      "text/plain": [
       "<Figure size 360x360 with 1 Axes>"
      ]
     },
     "metadata": {},
     "output_type": "display_data"
    }
   ],
   "source": [
    "en_test_tweet_df = format_tweet_data_frame(en_tweets_root_path, en_test_tweets_files)\n",
    "values = en_test_tweet_df[1].value_counts()\n",
    "print(values)\n",
    "num_positive_tweets = values.iloc[0]\n",
    "num_neutral_tweets = values.iloc[1]\n",
    "num_negative_tweets = values.iloc[2]\n",
    "plot_sentiment_distribution(num_positive_tweets, num_neutral_tweets, num_negative_tweets, \"English Test Tweet distribution\")"
   ]
  },
  {
   "cell_type": "code",
   "execution_count": 13,
   "metadata": {},
   "outputs": [
    {
     "name": "stdout",
     "output_type": "stream",
     "text": [
      "neutral     1470\n",
      "negative    1141\n",
      "positive     742\n",
      "Name: 1, dtype: int64\n"
     ]
    },
    {
     "data": {
      "image/png": "[encoded data removed]",
      "text/plain": [
       "<Figure size 360x360 with 1 Axes>"
      ]
     },
     "metadata": {},
     "output_type": "display_data"
    }
   ],
   "source": [
    "ar_test_tweet_df = format_tweet_data_frame(ar_tweets_root_path, ar_test_tweets_files)\n",
    "values = ar_test_tweet_df[1].value_counts()\n",
    "print(values)\n",
    "num_positive_tweets = values.iloc[0]\n",
    "num_neutral_tweets = values.iloc[1]\n",
    "num_negative_tweets = values.iloc[2]\n",
    "plot_sentiment_distribution(num_positive_tweets, num_neutral_tweets, num_negative_tweets, \"Arabic Test Tweet distribution\")"
   ]
  },
  {
   "cell_type": "code",
   "execution_count": 15,
   "metadata": {},
   "outputs": [
    {
     "data": {
      "text/html": [
       "<div>\n",
       "<style scoped>\n",
       "    .dataframe tbody tr th:only-of-type {\n",
       "        vertical-align: middle;\n",
       "    }\n",
       "\n",
       "    .dataframe tbody tr th {\n",
       "        vertical-align: top;\n",
       "    }\n",
       "\n",
       "    .dataframe thead th {\n",
       "        text-align: right;\n",
       "    }\n",
       "</style>\n",
       "<table border=\"1\" class=\"dataframe\">\n",
       "  <thead>\n",
       "    <tr style=\"text-align: right;\">\n",
       "      <th></th>\n",
       "      <th>0</th>\n",
       "      <th>1</th>\n",
       "      <th>2</th>\n",
       "      <th>processed_tweet</th>\n",
       "    </tr>\n",
       "  </thead>\n",
       "  <tbody>\n",
       "    <tr>\n",
       "      <th>0</th>\n",
       "      <td>783555835494592513</td>\n",
       "      <td>positive</td>\n",
       "      <td>إجبار أبل على التعاون على فك شفرة اجهزتها http...</td>\n",
       "      <td>إجبار أبل على التعاون على فك شفرة اجهزتها</td>\n",
       "    </tr>\n",
       "    <tr>\n",
       "      <th>1</th>\n",
       "      <td>783582397166125056</td>\n",
       "      <td>positive</td>\n",
       "      <td>RT @20fourMedia: #غوغل تتحدى أبل وأمازون بأجهز...</td>\n",
       "      <td>غوغل تتحدى أبل وأمازون بأجهزة جديدة</td>\n",
       "    </tr>\n",
       "    <tr>\n",
       "      <th>2</th>\n",
       "      <td>783592390728769536</td>\n",
       "      <td>positive</td>\n",
       "      <td>جوجل تنافس أبل وسامسونج بهاتف جديد https://t.c...</td>\n",
       "      <td>جوجل تنافس أبل وسامسونج بهاتف جديد</td>\n",
       "    </tr>\n",
       "    <tr>\n",
       "      <th>3</th>\n",
       "      <td>783597390070685696</td>\n",
       "      <td>positive</td>\n",
       "      <td>رئيس شركة أبل: الواقع المعزز سيصبح أهم من الطع...</td>\n",
       "      <td>رئيس شركة أبل الواقع المعزز سيصبح أهم من الطعام</td>\n",
       "    </tr>\n",
       "    <tr>\n",
       "      <th>4</th>\n",
       "      <td>783617442031472640</td>\n",
       "      <td>neutral</td>\n",
       "      <td>ساعة أبل في الأسواق مرة أخرى https://t.co/dY2x...</td>\n",
       "      <td>ساعة أبل في الأسواق مرة أخرى</td>\n",
       "    </tr>\n",
       "  </tbody>\n",
       "</table>\n",
       "</div>"
      ],
      "text/plain": [
       "                    0         1  \\\n",
       "0  783555835494592513  positive   \n",
       "1  783582397166125056  positive   \n",
       "2  783592390728769536  positive   \n",
       "3  783597390070685696  positive   \n",
       "4  783617442031472640   neutral   \n",
       "\n",
       "                                                   2  \\\n",
       "0  إجبار أبل على التعاون على فك شفرة اجهزتها http...   \n",
       "1  RT @20fourMedia: #غوغل تتحدى أبل وأمازون بأجهز...   \n",
       "2  جوجل تنافس أبل وسامسونج بهاتف جديد https://t.c...   \n",
       "3  رئيس شركة أبل: الواقع المعزز سيصبح أهم من الطع...   \n",
       "4  ساعة أبل في الأسواق مرة أخرى https://t.co/dY2x...   \n",
       "\n",
       "                                   processed_tweet  \n",
       "0        إجبار أبل على التعاون على فك شفرة اجهزتها  \n",
       "1              غوغل تتحدى أبل وأمازون بأجهزة جديدة  \n",
       "2               جوجل تنافس أبل وسامسونج بهاتف جديد  \n",
       "3  رئيس شركة أبل الواقع المعزز سيصبح أهم من الطعام  \n",
       "4                     ساعة أبل في الأسواق مرة أخرى  "
      ]
     },
     "execution_count": 15,
     "metadata": {},
     "output_type": "execute_result"
    }
   ],
   "source": [
    "ar_test_tweet_df.head()"
   ]
  },
  {
   "cell_type": "code",
   "execution_count": 17,
   "metadata": {},
   "outputs": [],
   "source": [
    "ar_test_tweet_df.columns = ['id', 'sentiment', 'original', 'preprocessed']\n",
    "ar_test_tweet_df.to_csv('data/preprocessed/arabic/arabic_test_tweets.csv', index=False)"
   ]
  },
  {
   "cell_type": "code",
   "execution_count": 28,
   "metadata": {},
   "outputs": [],
   "source": [
    "en_train_tweet_df.columns = ['id', 'sentiment', 'original', 'preprocessed']\n",
    "# en_test_tweet_df.drop(columns=[3]) # uncomment if running from the top\n",
    "en_test_tweet_df.columns = ['id', 'sentiment', 'original', 'preprocessed']\n",
    "\n",
    "en_train_tweet_df.to_csv('data/preprocessed/english/english_train_tweets.csv', index=False)\n",
    "en_test_tweet_df.to_csv('data/preprocessed/english/english_test_tweets.csv', index=False)\n"
   ]
  }
 ],
 "metadata": {
  "kernelspec": {
   "display_name": "Python 3",
   "language": "python",
   "name": "python3"
  },
  "language_info": {
   "codemirror_mode": {
    "name": "ipython",
    "version": 3
   },
   "file_extension": ".py",
   "mimetype": "text/x-python",
   "name": "python",
   "nbconvert_exporter": "python",
   "pygments_lexer": "ipython3",
   "version": "3.7.3"
  }
 },
 "nbformat": 4,
 "nbformat_minor": 4
}

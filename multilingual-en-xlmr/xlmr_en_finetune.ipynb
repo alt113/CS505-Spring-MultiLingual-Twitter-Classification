{
  "nbformat": 4,
  "nbformat_minor": 0,
  "metadata": {
    "accelerator": "GPU",
    "colab": {
      "name": "xlmr_en_finetune.ipynb",
      "provenance": [],
      "collapsed_sections": []
    },
    "kernelspec": {
      "display_name": "Python 3",
      "name": "python3"
    },
    "language_info": {
      "name": "python"
    }
  },
  "cells": [
    {
      "cell_type": "code",
      "metadata": {
        "colab": {
          "base_uri": "https://localhost:8080/"
        },
        "id": "yVzyeZQ-xY09",
        "outputId": "da308cb3-8cf2-49a1-a0fd-ff994320cca2"
      },
      "source": [
        "!pip install transformers\n",
        "!pip install sentencepiece"
      ],
      "execution_count": 1,
      "outputs": [
        {
          "output_type": "stream",
          "text": [
            "Requirement already satisfied: transformers in /usr/local/lib/python3.7/dist-packages (4.5.1)\n",
            "Requirement already satisfied: regex!=2019.12.17 in /usr/local/lib/python3.7/dist-packages (from transformers) (2019.12.20)\n",
            "Requirement already satisfied: sacremoses in /usr/local/lib/python3.7/dist-packages (from transformers) (0.0.44)\n",
            "Requirement already satisfied: packaging in /usr/local/lib/python3.7/dist-packages (from transformers) (20.9)\n",
            "Requirement already satisfied: numpy>=1.17 in /usr/local/lib/python3.7/dist-packages (from transformers) (1.19.5)\n",
            "Requirement already satisfied: tokenizers<0.11,>=0.10.1 in /usr/local/lib/python3.7/dist-packages (from transformers) (0.10.2)\n",
            "Requirement already satisfied: importlib-metadata; python_version < \"3.8\" in /usr/local/lib/python3.7/dist-packages (from transformers) (3.10.0)\n",
            "Requirement already satisfied: tqdm>=4.27 in /usr/local/lib/python3.7/dist-packages (from transformers) (4.41.1)\n",
            "Requirement already satisfied: filelock in /usr/local/lib/python3.7/dist-packages (from transformers) (3.0.12)\n",
            "Requirement already satisfied: requests in /usr/local/lib/python3.7/dist-packages (from transformers) (2.23.0)\n",
            "Requirement already satisfied: six in /usr/local/lib/python3.7/dist-packages (from sacremoses->transformers) (1.15.0)\n",
            "Requirement already satisfied: joblib in /usr/local/lib/python3.7/dist-packages (from sacremoses->transformers) (1.0.1)\n",
            "Requirement already satisfied: click in /usr/local/lib/python3.7/dist-packages (from sacremoses->transformers) (7.1.2)\n",
            "Requirement already satisfied: pyparsing>=2.0.2 in /usr/local/lib/python3.7/dist-packages (from packaging->transformers) (2.4.7)\n",
            "Requirement already satisfied: typing-extensions>=3.6.4; python_version < \"3.8\" in /usr/local/lib/python3.7/dist-packages (from importlib-metadata; python_version < \"3.8\"->transformers) (3.7.4.3)\n",
            "Requirement already satisfied: zipp>=0.5 in /usr/local/lib/python3.7/dist-packages (from importlib-metadata; python_version < \"3.8\"->transformers) (3.4.1)\n",
            "Requirement already satisfied: certifi>=2017.4.17 in /usr/local/lib/python3.7/dist-packages (from requests->transformers) (2020.12.5)\n",
            "Requirement already satisfied: urllib3!=1.25.0,!=1.25.1,<1.26,>=1.21.1 in /usr/local/lib/python3.7/dist-packages (from requests->transformers) (1.24.3)\n",
            "Requirement already satisfied: chardet<4,>=3.0.2 in /usr/local/lib/python3.7/dist-packages (from requests->transformers) (3.0.4)\n",
            "Requirement already satisfied: idna<3,>=2.5 in /usr/local/lib/python3.7/dist-packages (from requests->transformers) (2.10)\n",
            "Requirement already satisfied: sentencepiece in /usr/local/lib/python3.7/dist-packages (0.1.95)\n"
          ],
          "name": "stdout"
        }
      ]
    },
    {
      "cell_type": "code",
      "metadata": {
        "id": "1STnA6oVy0UW"
      },
      "source": [
        "import os\n",
        "import time\n",
        "import datetime\n",
        "import random\n",
        "\n",
        "import numpy as np\n",
        "import pandas as pd\n",
        "import tensorflow as tf\n",
        "import torch\n",
        "\n",
        "from transformers import XLMRobertaForSequenceClassification, XLMRobertaTokenizer, AdamW, AutoTokenizer, get_linear_schedule_with_warmup\n",
        "from torch.utils.data import TensorDataset, random_split, DataLoader, RandomSampler, SequentialSampler"
      ],
      "execution_count": 2,
      "outputs": []
    },
    {
      "cell_type": "code",
      "metadata": {
        "colab": {
          "base_uri": "https://localhost:8080/"
        },
        "id": "aAOAvWUUvyAV",
        "outputId": "b673aec8-53f3-4cf1-c2cc-fa4f085d3c0a"
      },
      "source": [
        "# Get the GPU device name.\n",
        "device_name = tf.test.gpu_device_name()\n",
        "\n",
        "# The device name should look like the following:\n",
        "if device_name == '/device:GPU:0':\n",
        "    print('Found GPU at: {}'.format(device_name))\n",
        "else:\n",
        "    raise SystemError('GPU device not found')"
      ],
      "execution_count": 3,
      "outputs": [
        {
          "output_type": "stream",
          "text": [
            "Found GPU at: /device:GPU:0\n"
          ],
          "name": "stdout"
        }
      ]
    },
    {
      "cell_type": "code",
      "metadata": {
        "colab": {
          "base_uri": "https://localhost:8080/"
        },
        "id": "Bvxjt6Vu-sh-",
        "outputId": "c7f19a1c-53d0-49d7-81aa-4b9451eeb4e2"
      },
      "source": [
        "\n",
        "# If there's a GPU available...\n",
        "if torch.cuda.is_available():    \n",
        "\n",
        "    # Tell PyTorch to use the GPU.    \n",
        "    device = torch.device(\"cuda\")\n",
        "\n",
        "    print('There are %d GPU(s) available.' % torch.cuda.device_count())\n",
        "\n",
        "    print('We will use the GPU:', torch.cuda.get_device_name(0))\n",
        "\n",
        "# If not...\n",
        "else:\n",
        "    print('No GPU available, using the CPU instead.')\n",
        "    device = torch.device(\"cpu\")"
      ],
      "execution_count": 4,
      "outputs": [
        {
          "output_type": "stream",
          "text": [
            "There are 1 GPU(s) available.\n",
            "We will use the GPU: Tesla P100-PCIE-16GB\n"
          ],
          "name": "stdout"
        }
      ]
    },
    {
      "cell_type": "markdown",
      "metadata": {
        "id": "bREyiAum7Cyi"
      },
      "source": [
        "#### Format data"
      ]
    },
    {
      "cell_type": "code",
      "metadata": {
        "id": "j2pfChozyLhm"
      },
      "source": [
        "base_path = \"/content/drive/MyDrive/Colab-data/\"\n",
        "\n",
        "en_train_tweets_file = \"english_train_tweets.csv\"\n",
        "# en_test_tweets_file = \"english_test_tweets.csv\"\n",
        "ar_tweets_file = \"arabic_test_tweets.csv\"\n",
        "\n",
        "# Load the dataset into a pandas dataframe.\n",
        "en_tweets_df = pd.read_csv(base_path + en_train_tweets_file)\n",
        "ar_tweets_df = pd.read_csv(base_path + ar_tweets_file)\n",
        "\n",
        "en_tweets_df['sentiment'].replace({'positive': 1, 'negative': 2, 'neutral': 0}, inplace=True)\n",
        "ar_tweets_df['sentiment'].replace({'positive': 1, 'negative': 2, 'neutral': 0}, inplace=True)"
      ],
      "execution_count": 5,
      "outputs": []
    },
    {
      "cell_type": "code",
      "metadata": {
        "colab": {
          "base_uri": "https://localhost:8080/"
        },
        "id": "X0lTaEDdue68",
        "outputId": "870757eb-a82f-4f3f-b9a4-17956e3318ba"
      },
      "source": [
        "total_arabic_tweets = ar_tweets_df.shape[0]\n",
        "train_size = int(0.9 * total_arabic_tweets)\n",
        "\n",
        "ar_train_df = ar_tweets_df[:train_size]\n",
        "ar_test_df = ar_tweets_df[train_size:]\n",
        "\n",
        "print(f\"total english tweets {en_tweets_df.shape[0]}\")\n",
        "print(f\"total arabic tweets {total_arabic_tweets}\")\n",
        "print(f\"train arabic tweets {ar_train_df.shape[0]}\")\n",
        "print(f\"test arabic tweets {ar_test_df.shape[0]}\")"
      ],
      "execution_count": 6,
      "outputs": [
        {
          "output_type": "stream",
          "text": [
            "total english tweets 21124\n",
            "total arabic tweets 3353\n",
            "train arabic tweets 3017\n",
            "test arabic tweets 336\n"
          ],
          "name": "stdout"
        }
      ]
    },
    {
      "cell_type": "code",
      "metadata": {
        "colab": {
          "base_uri": "https://localhost:8080/",
          "height": 529
        },
        "id": "eDjf5QWixyBy",
        "outputId": "c5cc389e-bf79-422e-c82f-b51667e5b31c"
      },
      "source": [
        "en_tweets_df.sample(10)"
      ],
      "execution_count": 7,
      "outputs": [
        {
          "output_type": "execute_result",
          "data": {
            "text/html": [
              "<div>\n",
              "<style scoped>\n",
              "    .dataframe tbody tr th:only-of-type {\n",
              "        vertical-align: middle;\n",
              "    }\n",
              "\n",
              "    .dataframe tbody tr th {\n",
              "        vertical-align: top;\n",
              "    }\n",
              "\n",
              "    .dataframe thead th {\n",
              "        text-align: right;\n",
              "    }\n",
              "</style>\n",
              "<table border=\"1\" class=\"dataframe\">\n",
              "  <thead>\n",
              "    <tr style=\"text-align: right;\">\n",
              "      <th></th>\n",
              "      <th>id</th>\n",
              "      <th>sentiment</th>\n",
              "      <th>original</th>\n",
              "      <th>preprocessed</th>\n",
              "    </tr>\n",
              "  </thead>\n",
              "  <tbody>\n",
              "    <tr>\n",
              "      <th>5317</th>\n",
              "      <td>235962031428231168</td>\n",
              "      <td>0</td>\n",
              "      <td>@DougBenson Leonard Martin category \\\"\"Saturda...</td>\n",
              "      <td>leonard martin category \\\"\"saturday live\\ movi...</td>\n",
              "    </tr>\n",
              "    <tr>\n",
              "      <th>1154</th>\n",
              "      <td>262797722409656320</td>\n",
              "      <td>1</td>\n",
              "      <td>rehearsing for Nov 6 \\\"\"@MlTTR0MNEY: just call...</td>\n",
              "      <td>rehearsing nov 6 called jim leyland congratula...</td>\n",
              "    </tr>\n",
              "    <tr>\n",
              "      <th>20500</th>\n",
              "      <td>639656031291879424</td>\n",
              "      <td>2</td>\n",
              "      <td>We've gone from a country that voted UKIP into...</td>\n",
              "      <td>gone country voted ukip 3rd place total votes ...</td>\n",
              "    </tr>\n",
              "    <tr>\n",
              "      <th>6749</th>\n",
              "      <td>100001566421037056</td>\n",
              "      <td>2</td>\n",
              "      <td>@YoginiJane while the met may not be perfect w...</td>\n",
              "      <td>met perfect piss like mexico city like tottenham</td>\n",
              "    </tr>\n",
              "    <tr>\n",
              "      <th>11721</th>\n",
              "      <td>639228849704804352</td>\n",
              "      <td>1</td>\n",
              "      <td>Grocery delivery services Instacart and Amazon...</td>\n",
              "      <td>grocery delivery services instacart amazon pri...</td>\n",
              "    </tr>\n",
              "    <tr>\n",
              "      <th>1352</th>\n",
              "      <td>255548371681562625</td>\n",
              "      <td>0</td>\n",
              "      <td>NTA viewers 7:00am on other tues 10\\u002c000 t...</td>\n",
              "      <td>nta viewers 7:00am tues 10\\u002c000 viewers tu...</td>\n",
              "    </tr>\n",
              "    <tr>\n",
              "      <th>14683</th>\n",
              "      <td>640415532144050176</td>\n",
              "      <td>1</td>\n",
              "      <td>hehhe heres the last of the Hannibal stickers ...</td>\n",
              "      <td>hehhe heres hannibal stickers m making ill reo...</td>\n",
              "    </tr>\n",
              "    <tr>\n",
              "      <th>13465</th>\n",
              "      <td>641210718730231808</td>\n",
              "      <td>0</td>\n",
              "      <td>Can anyone imagine someone other than David Ca...</td>\n",
              "      <td>imagine david cameron representing world stage...</td>\n",
              "    </tr>\n",
              "    <tr>\n",
              "      <th>16358</th>\n",
              "      <td>641130228631277573</td>\n",
              "      <td>0</td>\n",
              "      <td>@strngwys @mskerryd A different Robbie. Also, ...</td>\n",
              "      <td>different robbie kerry know brought madelines ...</td>\n",
              "    </tr>\n",
              "    <tr>\n",
              "      <th>15921</th>\n",
              "      <td>634388171321671680</td>\n",
              "      <td>2</td>\n",
              "      <td>im so bored i dont want to watch jurassic park...</td>\n",
              "      <td>m bored nt want watch jurassic park hundredth ...</td>\n",
              "    </tr>\n",
              "  </tbody>\n",
              "</table>\n",
              "</div>"
            ],
            "text/plain": [
              "                       id  ...                                       preprocessed\n",
              "5317   235962031428231168  ...  leonard martin category \\\"\"saturday live\\ movi...\n",
              "1154   262797722409656320  ...  rehearsing nov 6 called jim leyland congratula...\n",
              "20500  639656031291879424  ...  gone country voted ukip 3rd place total votes ...\n",
              "6749   100001566421037056  ...   met perfect piss like mexico city like tottenham\n",
              "11721  639228849704804352  ...  grocery delivery services instacart amazon pri...\n",
              "1352   255548371681562625  ...  nta viewers 7:00am tues 10\\u002c000 viewers tu...\n",
              "14683  640415532144050176  ...  hehhe heres hannibal stickers m making ill reo...\n",
              "13465  641210718730231808  ...  imagine david cameron representing world stage...\n",
              "16358  641130228631277573  ...  different robbie kerry know brought madelines ...\n",
              "15921  634388171321671680  ...  m bored nt want watch jurassic park hundredth ...\n",
              "\n",
              "[10 rows x 4 columns]"
            ]
          },
          "metadata": {
            "tags": []
          },
          "execution_count": 7
        }
      ]
    },
    {
      "cell_type": "code",
      "metadata": {
        "colab": {
          "base_uri": "https://localhost:8080/",
          "height": 410
        },
        "id": "yjI6FsqL07AD",
        "outputId": "7f6987d4-61a3-43a9-f2f6-af8eafe13cc2"
      },
      "source": [
        "ar_train_df.sample(10)"
      ],
      "execution_count": 8,
      "outputs": [
        {
          "output_type": "execute_result",
          "data": {
            "text/html": [
              "<div>\n",
              "<style scoped>\n",
              "    .dataframe tbody tr th:only-of-type {\n",
              "        vertical-align: middle;\n",
              "    }\n",
              "\n",
              "    .dataframe tbody tr th {\n",
              "        vertical-align: top;\n",
              "    }\n",
              "\n",
              "    .dataframe thead th {\n",
              "        text-align: right;\n",
              "    }\n",
              "</style>\n",
              "<table border=\"1\" class=\"dataframe\">\n",
              "  <thead>\n",
              "    <tr style=\"text-align: right;\">\n",
              "      <th></th>\n",
              "      <th>id</th>\n",
              "      <th>sentiment</th>\n",
              "      <th>original</th>\n",
              "      <th>preprocessed</th>\n",
              "    </tr>\n",
              "  </thead>\n",
              "  <tbody>\n",
              "    <tr>\n",
              "      <th>855</th>\n",
              "      <td>785993031648317440</td>\n",
              "      <td>1</td>\n",
              "      <td>مقاتلون على منهاج الحسين عليه السلام#الثورة_ال...</td>\n",
              "      <td>مقاتلون على منهاج الحسين عليه السلامالثورة_الح...</td>\n",
              "    </tr>\n",
              "    <tr>\n",
              "      <th>2666</th>\n",
              "      <td>785993093300555781</td>\n",
              "      <td>2</td>\n",
              "      <td>الواد لمــا يكبر ح يبقى سيسي ....  شوية البزاز...</td>\n",
              "      <td>الواد لمــا يكبر ح يبقى سيسي شوية البزازات دي ...</td>\n",
              "    </tr>\n",
              "    <tr>\n",
              "      <th>179</th>\n",
              "      <td>785523326546567168</td>\n",
              "      <td>0</td>\n",
              "      <td>هاتف Nokia D1C يظهر على AnTuTu بنظام أندرويد 7...</td>\n",
              "      <td>هاتف nokia d1c يظهر على antutu بنظام أندرويد 7.0</td>\n",
              "    </tr>\n",
              "    <tr>\n",
              "      <th>2429</th>\n",
              "      <td>785992873590288384</td>\n",
              "      <td>2</td>\n",
              "      <td>RT @khalidsaad1398: نايف الشعلان إللي تشتريه ب...</td>\n",
              "      <td>نايف الشعلان إللي تشتريه بالرز يبيعك بالفول مص...</td>\n",
              "    </tr>\n",
              "    <tr>\n",
              "      <th>1908</th>\n",
              "      <td>785991618037899264</td>\n",
              "      <td>0</td>\n",
              "      <td>RT @dr_naseer: الطائفية هي أن تبكي على أطفال ح...</td>\n",
              "      <td>الطائفية هي أن تبكي على أطفال حلب في الصباح وت...</td>\n",
              "    </tr>\n",
              "    <tr>\n",
              "      <th>2953</th>\n",
              "      <td>785630082551451648</td>\n",
              "      <td>1</td>\n",
              "      <td>@FCBW_A7 @AliwaSasi ممكن حساب ليو ميسي الرسمي 😘</td>\n",
              "      <td>ممكن حساب ليو ميسي الرسمي 😘</td>\n",
              "    </tr>\n",
              "    <tr>\n",
              "      <th>1684</th>\n",
              "      <td>784524201042571265</td>\n",
              "      <td>1</td>\n",
              "      <td>@Ylll5 ركبت جستن بيبر كيف ارفه عن نفسي💔🙂</td>\n",
              "      <td>ركبت جستن بيبر كيف ارفه عن نفسي 💔 🙂</td>\n",
              "    </tr>\n",
              "    <tr>\n",
              "      <th>1636</th>\n",
              "      <td>785538205642809344</td>\n",
              "      <td>0</td>\n",
              "      <td>@1Kenneddy @khxlidz أغنية بيونسيه ذي</td>\n",
              "      <td>أغنية بيونسيه ذي</td>\n",
              "    </tr>\n",
              "    <tr>\n",
              "      <th>401</th>\n",
              "      <td>785628908943212544</td>\n",
              "      <td>2</td>\n",
              "      <td>@ibrahim_ghassan أردوغان المصلحة قبل كل شيء وو...</td>\n",
              "      <td>أردوغان المصلحة قبل كل شيء ووقوفه من قبل مع ال...</td>\n",
              "    </tr>\n",
              "    <tr>\n",
              "      <th>1911</th>\n",
              "      <td>785991738188062720</td>\n",
              "      <td>2</td>\n",
              "      <td>RT @1_gentel: نداء الى الاخوة في فتح الشام اتس...</td>\n",
              "      <td>نداء الى الاخوة في فتح الشام اتستراد حماه حلب ...</td>\n",
              "    </tr>\n",
              "  </tbody>\n",
              "</table>\n",
              "</div>"
            ],
            "text/plain": [
              "                      id  ...                                       preprocessed\n",
              "855   785993031648317440  ...  مقاتلون على منهاج الحسين عليه السلامالثورة_الح...\n",
              "2666  785993093300555781  ...  الواد لمــا يكبر ح يبقى سيسي شوية البزازات دي ...\n",
              "179   785523326546567168  ...   هاتف nokia d1c يظهر على antutu بنظام أندرويد 7.0\n",
              "2429  785992873590288384  ...  نايف الشعلان إللي تشتريه بالرز يبيعك بالفول مص...\n",
              "1908  785991618037899264  ...  الطائفية هي أن تبكي على أطفال حلب في الصباح وت...\n",
              "2953  785630082551451648  ...                        ممكن حساب ليو ميسي الرسمي 😘\n",
              "1684  784524201042571265  ...                ركبت جستن بيبر كيف ارفه عن نفسي 💔 🙂\n",
              "1636  785538205642809344  ...                                   أغنية بيونسيه ذي\n",
              "401   785628908943212544  ...  أردوغان المصلحة قبل كل شيء ووقوفه من قبل مع ال...\n",
              "1911  785991738188062720  ...  نداء الى الاخوة في فتح الشام اتستراد حماه حلب ...\n",
              "\n",
              "[10 rows x 4 columns]"
            ]
          },
          "metadata": {
            "tags": []
          },
          "execution_count": 8
        }
      ]
    },
    {
      "cell_type": "code",
      "metadata": {
        "colab": {
          "base_uri": "https://localhost:8080/",
          "height": 495
        },
        "id": "dGFqy1vL09q0",
        "outputId": "4db858f8-9e86-49d2-9703-68c1e3bb216f"
      },
      "source": [
        "ar_test_df.sample(10)"
      ],
      "execution_count": 9,
      "outputs": [
        {
          "output_type": "execute_result",
          "data": {
            "text/html": [
              "<div>\n",
              "<style scoped>\n",
              "    .dataframe tbody tr th:only-of-type {\n",
              "        vertical-align: middle;\n",
              "    }\n",
              "\n",
              "    .dataframe tbody tr th {\n",
              "        vertical-align: top;\n",
              "    }\n",
              "\n",
              "    .dataframe thead th {\n",
              "        text-align: right;\n",
              "    }\n",
              "</style>\n",
              "<table border=\"1\" class=\"dataframe\">\n",
              "  <thead>\n",
              "    <tr style=\"text-align: right;\">\n",
              "      <th></th>\n",
              "      <th>id</th>\n",
              "      <th>sentiment</th>\n",
              "      <th>original</th>\n",
              "      <th>preprocessed</th>\n",
              "    </tr>\n",
              "  </thead>\n",
              "  <tbody>\n",
              "    <tr>\n",
              "      <th>3262</th>\n",
              "      <td>784891485615513600</td>\n",
              "      <td>1</td>\n",
              "      <td>ويندوز 10 احسن من 8 و 8.1 بكتير</td>\n",
              "      <td>ويندوز 10 احسن من 8 و 8.1 بكتير</td>\n",
              "    </tr>\n",
              "    <tr>\n",
              "      <th>3050</th>\n",
              "      <td>785993334686744578</td>\n",
              "      <td>0</td>\n",
              "      <td>RT @BarcaDN: الكادينا كوبي: ميسي سوف يتدرب مع ...</td>\n",
              "      <td>الكادينا كوبي ميسي سوف يتدرب مع المجموعة غدا ا...</td>\n",
              "    </tr>\n",
              "    <tr>\n",
              "      <th>3106</th>\n",
              "      <td>785761768689762304</td>\n",
              "      <td>1</td>\n",
              "      <td>@SaeedALGhammdi مدينه يعشقهاالسياح لوجود أعلى ...</td>\n",
              "      <td>مدينه يعشقهاالسياح لوجود أعلى قمة uk بن نفيس أ...</td>\n",
              "    </tr>\n",
              "    <tr>\n",
              "      <th>3207</th>\n",
              "      <td>784881124489199616</td>\n",
              "      <td>0</td>\n",
              "      <td>@3li_3abdenبحاكي في هيلاري كلنتون 😹😹😹😹😹 https:...</td>\n",
              "      <td>في هيلاري كلنتون 😹 😹 😹 😹 😹</td>\n",
              "    </tr>\n",
              "    <tr>\n",
              "      <th>3044</th>\n",
              "      <td>785993254630199297</td>\n",
              "      <td>0</td>\n",
              "      <td>#السعوديه_الاماراتميسي يتابع الصديق والعشير فه...</td>\n",
              "      <td>السعوديه_الاماراتميسي يتابع الصديق والعشير فهد...</td>\n",
              "    </tr>\n",
              "    <tr>\n",
              "      <th>3161</th>\n",
              "      <td>782574331066982400</td>\n",
              "      <td>2</td>\n",
              "      <td>RT @WajdWaqfi: عفوا؟ اوباما سحب هيلاري كلنتون ...</td>\n",
              "      <td>عفوا اوباما سحب هيلاري كلنتون معاه هههههه هيلا...</td>\n",
              "    </tr>\n",
              "    <tr>\n",
              "      <th>3298</th>\n",
              "      <td>785353535101689856</td>\n",
              "      <td>1</td>\n",
              "      <td>ترقبوا مفاجأة  ويندوز 10 \" في 26 اكتوبر الجاري...</td>\n",
              "      <td>ترقبوا مفاجأة ويندوز 10 في 26 اكتوبر الجاري مش...</td>\n",
              "    </tr>\n",
              "    <tr>\n",
              "      <th>3122</th>\n",
              "      <td>785864242058625024</td>\n",
              "      <td>0</td>\n",
              "      <td>قفشت الوله هاري بوتر المصري فالتليفزيون https:...</td>\n",
              "      <td>قفشت الوله هاري بوتر المصري فالتليفزيون</td>\n",
              "    </tr>\n",
              "    <tr>\n",
              "      <th>3173</th>\n",
              "      <td>782935682889187328</td>\n",
              "      <td>0</td>\n",
              "      <td>اللي رفضوا حكم الإخوان هما اللي عاوزين هيلاري ...</td>\n",
              "      <td>اللي رفضوا حكم الإخوان هما اللي عاوزين هيلاري ...</td>\n",
              "    </tr>\n",
              "    <tr>\n",
              "      <th>3343</th>\n",
              "      <td>785890710071418880</td>\n",
              "      <td>2</td>\n",
              "      <td>@PlayStationSA @Xbox_Saudi مافيه اي عذر لمايكر...</td>\n",
              "      <td>مافيه اي عذر لمايكرو ويندوز 10 مٌعرب وفي الاكس...</td>\n",
              "    </tr>\n",
              "  </tbody>\n",
              "</table>\n",
              "</div>"
            ],
            "text/plain": [
              "                      id  ...                                       preprocessed\n",
              "3262  784891485615513600  ...                    ويندوز 10 احسن من 8 و 8.1 بكتير\n",
              "3050  785993334686744578  ...  الكادينا كوبي ميسي سوف يتدرب مع المجموعة غدا ا...\n",
              "3106  785761768689762304  ...  مدينه يعشقهاالسياح لوجود أعلى قمة uk بن نفيس أ...\n",
              "3207  784881124489199616  ...                         في هيلاري كلنتون 😹 😹 😹 😹 😹\n",
              "3044  785993254630199297  ...  السعوديه_الاماراتميسي يتابع الصديق والعشير فهد...\n",
              "3161  782574331066982400  ...  عفوا اوباما سحب هيلاري كلنتون معاه هههههه هيلا...\n",
              "3298  785353535101689856  ...  ترقبوا مفاجأة ويندوز 10 في 26 اكتوبر الجاري مش...\n",
              "3122  785864242058625024  ...            قفشت الوله هاري بوتر المصري فالتليفزيون\n",
              "3173  782935682889187328  ...  اللي رفضوا حكم الإخوان هما اللي عاوزين هيلاري ...\n",
              "3343  785890710071418880  ...  مافيه اي عذر لمايكرو ويندوز 10 مٌعرب وفي الاكس...\n",
              "\n",
              "[10 rows x 4 columns]"
            ]
          },
          "metadata": {
            "tags": []
          },
          "execution_count": 9
        }
      ]
    },
    {
      "cell_type": "markdown",
      "metadata": {
        "id": "TbRgtVxX69zY"
      },
      "source": [
        "#### Define Helper functions"
      ]
    },
    {
      "cell_type": "code",
      "metadata": {
        "id": "yP_e2mT944Hc"
      },
      "source": [
        "def tokenize_sentences(sentences, labels, tokenizer):\n",
        "  # Tokenize all of the sentences and map the tokens to thier word IDs.\n",
        "  input_ids = []\n",
        "  attention_masks = []\n",
        "\n",
        "  # For every sentence...\n",
        "  for sent in sentences:\n",
        "      # `encode_plus` will:\n",
        "      #   (1) Tokenize the sentence.\n",
        "      #   (2) Prepend the `[CLS]` token to the start.\n",
        "      #   (3) Append the `[SEP]` token to the end.\n",
        "      #   (4) Map tokens to their IDs.\n",
        "      #   (5) Pad or truncate the sentence to `max_length`\n",
        "      #   (6) Create attention masks for [PAD] tokens.\n",
        "      encoded_dict = tokenizer.encode_plus(\n",
        "                          sent,                      # Sentence to encode.\n",
        "                          add_special_tokens = True, # Add '[CLS]' and '[SEP]'\n",
        "                          max_length = 64,           # Pad & truncate all sentences.\n",
        "                          pad_to_max_length = True,\n",
        "                          return_attention_mask = True,   # Construct attn. masks.\n",
        "                          return_tensors = 'pt',     # Return pytorch tensors.\n",
        "                    )\n",
        "      \n",
        "      # Add the encoded sentence to the list.    \n",
        "      input_ids.append(encoded_dict['input_ids'])\n",
        "      \n",
        "      # And its attention mask (simply differentiates padding from non-padding).\n",
        "      attention_masks.append(encoded_dict['attention_mask'])\n",
        "\n",
        "  # Convert the lists into tensors.\n",
        "  input_ids = torch.cat(input_ids, dim=0)\n",
        "  attention_masks = torch.cat(attention_masks, dim=0)\n",
        "  labels = torch.tensor(labels)\n",
        "\n",
        "  # Print sentence 0, now as a list of IDs.\n",
        "  print('Original: ', sentences[0])\n",
        "  print('Token IDs:', input_ids[0])\n",
        "\n",
        "  return input_ids, attention_masks, labels"
      ],
      "execution_count": 10,
      "outputs": []
    },
    {
      "cell_type": "code",
      "metadata": {
        "id": "CyMp-ioT9SfL"
      },
      "source": [
        "def train_val_split(input_ids, attention_masks, labels):\n",
        "  # Combine the training inputs into a TensorDataset.\n",
        "  dataset = TensorDataset(input_ids, attention_masks, labels)\n",
        "\n",
        "  # Create a 90-10 train-validation split.\n",
        "\n",
        "  # Calculate the number of samples to include in each set.\n",
        "  train_size = int(0.9 * len(dataset))\n",
        "  val_size = len(dataset) - train_size\n",
        "\n",
        "  # Divide the dataset by randomly selecting samples.\n",
        "  train_dataset, val_dataset = random_split(dataset, [train_size, val_size])\n",
        "\n",
        "  return train_dataset, val_dataset, train_size, val_size"
      ],
      "execution_count": 11,
      "outputs": []
    },
    {
      "cell_type": "code",
      "metadata": {
        "id": "T7LyXh-h9z-Y"
      },
      "source": [
        "def get_data_loaders(train_dataset, val_dataset, batch_size = 32):\n",
        "  # The DataLoader needs to know our batch size for training, so we specify it \n",
        "  # here. For fine-tuning BERT on a specific task, the authors recommend a batch \n",
        "  # size of 16 or 32.\n",
        "  # batch_size = 32\n",
        "\n",
        "  # Create the DataLoaders for our training and validation sets.\n",
        "  # We'll take training samples in random order. \n",
        "  train_dataloader = DataLoader(\n",
        "              train_dataset,  # The training samples.\n",
        "              sampler = RandomSampler(train_dataset), # Select batches randomly\n",
        "              batch_size = batch_size # Trains with this batch size.\n",
        "          )\n",
        "\n",
        "  # For validation the order doesn't matter, so we'll just read them sequentially.\n",
        "  validation_dataloader = DataLoader(\n",
        "              val_dataset, # The validation samples.\n",
        "              sampler = SequentialSampler(val_dataset), # Pull out batches sequentially.\n",
        "              batch_size = batch_size # Evaluate with this batch size.\n",
        "          )\n",
        "  return train_dataloader, validation_dataloader"
      ],
      "execution_count": 12,
      "outputs": []
    },
    {
      "cell_type": "code",
      "metadata": {
        "id": "HTfgzob2-J-y"
      },
      "source": [
        "epochs = 4\n",
        "\n",
        "def get_lr_scheduler(train_dataloader):\n",
        "\n",
        "  # Total number of training steps is [number of batches] x [number of epochs]. \n",
        "  # (Note that this is not the same as the number of training samples).\n",
        "  total_steps = len(train_dataloader) * epochs\n",
        "\n",
        "  # Create the learning rate scheduler.\n",
        "  scheduler = get_linear_schedule_with_warmup(optimizer, \n",
        "                                              num_warmup_steps = 0, # Default value in run_glue.py\n",
        "                                              num_training_steps = total_steps)\n",
        "  return scheduler"
      ],
      "execution_count": 13,
      "outputs": []
    },
    {
      "cell_type": "code",
      "metadata": {
        "id": "DqvLIHi3-U2L"
      },
      "source": [
        "# Function to calculate the accuracy of our predictions vs labels\n",
        "def flat_accuracy(preds, labels):\n",
        "    pred_flat = np.argmax(preds, axis=1).flatten()\n",
        "    labels_flat = labels.flatten()\n",
        "    return np.sum(pred_flat == labels_flat) / len(labels_flat)"
      ],
      "execution_count": 14,
      "outputs": []
    },
    {
      "cell_type": "code",
      "metadata": {
        "id": "PmnHIFZE-bVR"
      },
      "source": [
        "def format_time(elapsed):\n",
        "    '''\n",
        "    Takes a time in seconds and returns a string hh:mm:ss\n",
        "    '''\n",
        "    # Round to the nearest second.\n",
        "    elapsed_rounded = int(round((elapsed)))\n",
        "    \n",
        "    # Format as hh:mm:ss\n",
        "    return str(datetime.timedelta(seconds=elapsed_rounded))"
      ],
      "execution_count": 15,
      "outputs": []
    },
    {
      "cell_type": "code",
      "metadata": {
        "id": "Q8fhmMw9-jRt"
      },
      "source": [
        "def train(model, epochs, train_dataloader, validation_dataloader, scheduler, seed_val=42):\n",
        "  # This training code is based on the `run_glue.py` script here:\n",
        "  # https://github.com/huggingface/transformers/blob/5bfcd0485ece086ebcbed2d008813037968a9e58/examples/run_glue.py#L128\n",
        "\n",
        "  # Set the seed value all over the place to make this reproducible.\n",
        "  # seed_val = 42\n",
        "\n",
        "  random.seed(seed_val)\n",
        "  np.random.seed(seed_val)\n",
        "  torch.manual_seed(seed_val)\n",
        "  torch.cuda.manual_seed_all(seed_val)\n",
        "\n",
        "  # We'll store a number of quantities such as training and validation loss, \n",
        "  # validation accuracy, and timings.\n",
        "  training_stats = []\n",
        "\n",
        "  # Measure the total training time for the whole run.\n",
        "  total_t0 = time.time()\n",
        "\n",
        "  # For each epoch...\n",
        "  for epoch_i in range(0, epochs):\n",
        "      \n",
        "      # ========================================\n",
        "      #               Training\n",
        "      # ========================================\n",
        "      \n",
        "      # Perform one full pass over the training set.\n",
        "\n",
        "      print(\"\")\n",
        "      print('======== Epoch {:} / {:} ========'.format(epoch_i + 1, epochs))\n",
        "      print('Training...')\n",
        "\n",
        "      # Measure how long the training epoch takes.\n",
        "      t0 = time.time()\n",
        "\n",
        "      # Reset the total loss for this epoch.\n",
        "      total_train_loss = 0\n",
        "\n",
        "      # Put the model into training mode. Don't be mislead--the call to \n",
        "      # `train` just changes the *mode*, it doesn't *perform* the training.\n",
        "      # `dropout` and `batchnorm` layers behave differently during training\n",
        "      # vs. test (source: https://stackoverflow.com/questions/51433378/what-does-model-train-do-in-pytorch)\n",
        "      model.train()\n",
        "\n",
        "      # For each batch of training data...\n",
        "      for step, batch in enumerate(train_dataloader):\n",
        "\n",
        "          # Progress update every 80 batches.\n",
        "          if step % 80 == 0 and not step == 0:\n",
        "              # Calculate elapsed time in minutes.\n",
        "              elapsed = format_time(time.time() - t0)\n",
        "              \n",
        "              # Report progress.\n",
        "              print('  Batch {:>5,}  of  {:>5,}.    Elapsed: {:}.'.format(step, len(train_dataloader), elapsed))\n",
        "\n",
        "          # Unpack this training batch from our dataloader. \n",
        "          #\n",
        "          # As we unpack the batch, we'll also copy each tensor to the GPU using the \n",
        "          # `to` method.\n",
        "          #\n",
        "          # `batch` contains three pytorch tensors:\n",
        "          #   [0]: input ids \n",
        "          #   [1]: attention masks\n",
        "          #   [2]: labels \n",
        "          b_input_ids = batch[0].to(device)\n",
        "          b_input_mask = batch[1].to(device)\n",
        "          b_labels = batch[2].to(device)\n",
        "\n",
        "          # Always clear any previously calculated gradients before performing a\n",
        "          # backward pass. PyTorch doesn't do this automatically because \n",
        "          # accumulating the gradients is \"convenient while training RNNs\". \n",
        "          # (source: https://stackoverflow.com/questions/48001598/why-do-we-need-to-call-zero-grad-in-pytorch)\n",
        "          model.zero_grad()        \n",
        "\n",
        "          # Perform a forward pass (evaluate the model on this training batch).\n",
        "          # In PyTorch, calling `model` will in turn call the model's `forward` \n",
        "          # function and pass down the arguments. The `forward` function is \n",
        "          # documented here: \n",
        "          # https://huggingface.co/transformers/model_doc/bert.html#bertforsequenceclassification\n",
        "          # The results are returned in a results object, documented here:\n",
        "          # https://huggingface.co/transformers/main_classes/output.html#transformers.modeling_outputs.SequenceClassifierOutput\n",
        "          # Specifically, we'll get the loss (because we provided labels) and the\n",
        "          # \"logits\"--the model outputs prior to activation.\n",
        "          result = model(b_input_ids, \n",
        "                        token_type_ids=None, \n",
        "                        attention_mask=b_input_mask, \n",
        "                        labels=b_labels,\n",
        "                        return_dict=True)\n",
        "\n",
        "          loss = result.loss\n",
        "          logits = result.logits\n",
        "\n",
        "          # Accumulate the training loss over all of the batches so that we can\n",
        "          # calculate the average loss at the end. `loss` is a Tensor containing a\n",
        "          # single value; the `.item()` function just returns the Python value \n",
        "          # from the tensor.\n",
        "          total_train_loss += loss.item()\n",
        "\n",
        "          # Perform a backward pass to calculate the gradients.\n",
        "          loss.backward()\n",
        "\n",
        "          # Clip the norm of the gradients to 1.0.\n",
        "          # This is to help prevent the \"exploding gradients\" problem.\n",
        "          torch.nn.utils.clip_grad_norm_(model.parameters(), 1.0)\n",
        "\n",
        "          # Update parameters and take a step using the computed gradient.\n",
        "          # The optimizer dictates the \"update rule\"--how the parameters are\n",
        "          # modified based on their gradients, the learning rate, etc.\n",
        "          optimizer.step()\n",
        "\n",
        "          # Update the learning rate.\n",
        "          scheduler.step()\n",
        "\n",
        "      # Calculate the average loss over all of the batches.\n",
        "      avg_train_loss = total_train_loss / len(train_dataloader)            \n",
        "      \n",
        "      # Measure how long this epoch took.\n",
        "      training_time = format_time(time.time() - t0)\n",
        "\n",
        "      print(\"\")\n",
        "      print(\"  Average training loss: {0:.2f}\".format(avg_train_loss))\n",
        "      print(\"  Training epcoh took: {:}\".format(training_time))\n",
        "          \n",
        "      # ========================================\n",
        "      #               Validation\n",
        "      # ========================================\n",
        "      # After the completion of each training epoch, measure our performance on\n",
        "      # our validation set.\n",
        "\n",
        "      print(\"\")\n",
        "      print(\"Running Validation...\")\n",
        "\n",
        "      t0 = time.time()\n",
        "\n",
        "      # Put the model in evaluation mode--the dropout layers behave differently\n",
        "      # during evaluation.\n",
        "      model.eval()\n",
        "\n",
        "      # Tracking variables \n",
        "      total_eval_accuracy = 0\n",
        "      total_eval_loss = 0\n",
        "      nb_eval_steps = 0\n",
        "\n",
        "      # Evaluate data for one epoch\n",
        "      for batch in validation_dataloader:\n",
        "          \n",
        "          # Unpack this training batch from our dataloader. \n",
        "          #\n",
        "          # As we unpack the batch, we'll also copy each tensor to the GPU using \n",
        "          # the `to` method.\n",
        "          #\n",
        "          # `batch` contains three pytorch tensors:\n",
        "          #   [0]: input ids \n",
        "          #   [1]: attention masks\n",
        "          #   [2]: labels \n",
        "          b_input_ids = batch[0].to(device)\n",
        "          b_input_mask = batch[1].to(device)\n",
        "          b_labels = batch[2].to(device)\n",
        "          \n",
        "          # Tell pytorch not to bother with constructing the compute graph during\n",
        "          # the forward pass, since this is only needed for backprop (training).\n",
        "          with torch.no_grad():        \n",
        "\n",
        "              # Forward pass, calculate logit predictions.\n",
        "              # token_type_ids is the same as the \"segment ids\", which \n",
        "              # differentiates sentence 1 and 2 in 2-sentence tasks.\n",
        "              result = model(b_input_ids, \n",
        "                            token_type_ids=None, \n",
        "                            attention_mask=b_input_mask,\n",
        "                            labels=b_labels,\n",
        "                            return_dict=True)\n",
        "\n",
        "          # Get the loss and \"logits\" output by the model. The \"logits\" are the \n",
        "          # output values prior to applying an activation function like the \n",
        "          # softmax.\n",
        "          loss = result.loss\n",
        "          logits = result.logits\n",
        "              \n",
        "          # Accumulate the validation loss.\n",
        "          total_eval_loss += loss.item()\n",
        "\n",
        "          # Move logits and labels to CPU\n",
        "          logits = logits.detach().cpu().numpy()\n",
        "          label_ids = b_labels.to('cpu').numpy()\n",
        "\n",
        "          # Calculate the accuracy for this batch of test sentences, and\n",
        "          # accumulate it over all batches.\n",
        "          total_eval_accuracy += flat_accuracy(logits, label_ids)\n",
        "          \n",
        "\n",
        "      # Report the final accuracy for this validation run.\n",
        "      avg_val_accuracy = total_eval_accuracy / len(validation_dataloader)\n",
        "      print(\"  Accuracy: {0:.2f}\".format(avg_val_accuracy))\n",
        "\n",
        "      # Calculate the average loss over all of the batches.\n",
        "      avg_val_loss = total_eval_loss / len(validation_dataloader)\n",
        "      \n",
        "      # Measure how long the validation run took.\n",
        "      validation_time = format_time(time.time() - t0)\n",
        "      \n",
        "      print(\"  Validation Loss: {0:.2f}\".format(avg_val_loss))\n",
        "      print(\"  Validation took: {:}\".format(validation_time))\n",
        "\n",
        "      # Record all statistics from this epoch.\n",
        "      training_stats.append(\n",
        "          {\n",
        "              'epoch': epoch_i + 1,\n",
        "              'Training Loss': avg_train_loss,\n",
        "              'Valid. Loss': avg_val_loss,\n",
        "              'Valid. Accur.': avg_val_accuracy,\n",
        "              'Training Time': training_time,\n",
        "              'Validation Time': validation_time\n",
        "          }\n",
        "      )\n",
        "\n",
        "  print(\"\")\n",
        "  print(\"Training complete!\")\n",
        "\n",
        "  print(\"Total training took {:} (h:mm:ss)\".format(format_time(time.time()-total_t0)))\n",
        "  return training_stats"
      ],
      "execution_count": 16,
      "outputs": []
    },
    {
      "cell_type": "code",
      "metadata": {
        "id": "0z0S2Ds-_MST"
      },
      "source": [
        "def format_training_stats(training_stats):\n",
        "  # Display floats with two decimal places.\n",
        "  pd.set_option('precision', 2)\n",
        "\n",
        "  # Create a DataFrame from our training statistics.\n",
        "  df_stats = pd.DataFrame(data=training_stats)\n",
        "\n",
        "  # Use the 'epoch' as the row index.\n",
        "  df_stats = df_stats.set_index('epoch')\n",
        "\n",
        "  # A hack to force the column headers to wrap.\n",
        "  #df = df.style.set_table_styles([dict(selector=\"th\",props=[('max-width', '70px')])])\n",
        "\n",
        "  # Display the table.\n",
        "  return df_stats"
      ],
      "execution_count": 17,
      "outputs": []
    },
    {
      "cell_type": "code",
      "metadata": {
        "id": "P5ODbXZx_WeH"
      },
      "source": [
        "import matplotlib.pyplot as plt\n",
        "% matplotlib inline\n",
        "\n",
        "import seaborn as sns\n",
        "\n",
        "# Use plot styling from seaborn.\n",
        "sns.set(style='darkgrid')\n",
        "\n",
        "# Increase the plot size and font size.\n",
        "sns.set(font_scale=1.5)\n",
        "\n",
        "def plot_traing_val_loss(df_stats):\n",
        "  plt.rcParams[\"figure.figsize\"] = (12,6)\n",
        "\n",
        "  # Plot the learning curve.\n",
        "  plt.plot(df_stats['Training Loss'], 'b-o', label=\"Training\")\n",
        "  plt.plot(df_stats['Valid. Loss'], 'g-o', label=\"Validation\")\n",
        "\n",
        "  # Label the plot.\n",
        "  plt.title(\"Training & Validation Loss\")\n",
        "  plt.xlabel(\"Epoch\")\n",
        "  plt.ylabel(\"Loss\")\n",
        "  plt.legend()\n",
        "  plt.xticks([1, 2, 3, 4])\n",
        "\n",
        "  plt.show()"
      ],
      "execution_count": 18,
      "outputs": []
    },
    {
      "cell_type": "code",
      "metadata": {
        "id": "mxdp8B3zFImF"
      },
      "source": [
        "def prepare_test_dataset(sentences, labels, batch_size=16):\n",
        "  # Tokenize all of the sentences and map the tokens to thier word IDs.\n",
        "  input_ids = []\n",
        "  attention_masks = []\n",
        "\n",
        "  # For every sentence...\n",
        "  for sent in sentences:\n",
        "      # `encode_plus` will:\n",
        "      #   (1) Tokenize the sentence.\n",
        "      #   (2) Prepend the `[CLS]` token to the start.\n",
        "      #   (3) Append the `[SEP]` token to the end.\n",
        "      #   (4) Map tokens to their IDs.\n",
        "      #   (5) Pad or truncate the sentence to `max_length`\n",
        "      #   (6) Create attention masks for [PAD] tokens.\n",
        "      encoded_dict = tokenizer.encode_plus(\n",
        "                          sent,                      # Sentence to encode.\n",
        "                          add_special_tokens = True, # Add '[CLS]' and '[SEP]'\n",
        "                          max_length = 64,           # Pad & truncate all sentences.\n",
        "                          pad_to_max_length = True,\n",
        "                          return_attention_mask = True,   # Construct attn. masks.\n",
        "                          return_tensors = 'pt',     # Return pytorch tensors.\n",
        "                    )\n",
        "      \n",
        "      # Add the encoded sentence to the list.    \n",
        "      input_ids.append(encoded_dict['input_ids'])\n",
        "      \n",
        "      # And its attention mask (simply differentiates padding from non-padding).\n",
        "      attention_masks.append(encoded_dict['attention_mask'])\n",
        "\n",
        "  # Convert the lists into tensors.\n",
        "  input_ids = torch.cat(input_ids, dim=0)\n",
        "  attention_masks = torch.cat(attention_masks, dim=0)\n",
        "  labels = torch.tensor(labels)\n",
        "\n",
        "  # Create the DataLoader.\n",
        "  prediction_data = TensorDataset(input_ids, attention_masks, labels)\n",
        "  prediction_sampler = SequentialSampler(prediction_data)\n",
        "  prediction_dataloader = DataLoader(prediction_data, sampler=prediction_sampler, batch_size=batch_size)\n",
        "\n",
        "  return prediction_data, prediction_sampler, prediction_dataloader"
      ],
      "execution_count": 19,
      "outputs": []
    },
    {
      "cell_type": "code",
      "metadata": {
        "id": "tOzQE43xHD4a"
      },
      "source": [
        "def generate_test_predictions(model, prediction_dataloader):\n",
        "  # Prediction on test set\n",
        "\n",
        "  # print('Predicting labels for {:,} test sentences...'.format(len(input_ids)))\n",
        "\n",
        "  # Put model in evaluation mode\n",
        "  model.eval()\n",
        "\n",
        "  # Tracking variables \n",
        "  predictions , true_labels = [], []\n",
        "\n",
        "  # Predict \n",
        "  for batch in prediction_dataloader:\n",
        "    # Add batch to GPU\n",
        "    batch = tuple(t.to(device) for t in batch)\n",
        "    \n",
        "    # Unpack the inputs from our dataloader\n",
        "    b_input_ids, b_input_mask, b_labels = batch\n",
        "    \n",
        "    # Telling the model not to compute or store gradients, saving memory and \n",
        "    # speeding up prediction\n",
        "    with torch.no_grad():\n",
        "        # Forward pass, calculate logit predictions.\n",
        "        result = model(b_input_ids, \n",
        "                      token_type_ids=None, \n",
        "                      attention_mask=b_input_mask,\n",
        "                      return_dict=True)\n",
        "    # print(result)\n",
        "    logits = result.logits\n",
        "\n",
        "    # Move logits and labels to CPU\n",
        "    logits = logits.detach().cpu().numpy()\n",
        "    label_ids = b_labels.to('cpu').numpy()\n",
        "    \n",
        "    # Store predictions and true labels\n",
        "    predictions.append(logits)\n",
        "    true_labels.append(label_ids)\n",
        "\n",
        "  print('DONE.')\n",
        "  return predictions , true_labels"
      ],
      "execution_count": 20,
      "outputs": []
    },
    {
      "cell_type": "code",
      "metadata": {
        "id": "IZYdjnlHHGjy"
      },
      "source": [
        "def calculate_accuracy(predictions, true_labels):\n",
        "  # Combine the results across all batches. \n",
        "  flat_predictions = np.concatenate(predictions, axis=0)\n",
        "\n",
        "  # For each sample, pick the label (0 , 1, 2) with the higher score.\n",
        "  flat_predictions = np.argmax(flat_predictions, axis=1).flatten()\n",
        "  # Combine the correct labels for each batch into a single list.\n",
        "  flat_true_labels = np.concatenate(true_labels, axis=0)\n",
        "\n",
        "  acc = np.sum(flat_predictions == flat_true_labels) / len(flat_true_labels)\n",
        "  return acc\n",
        "\n"
      ],
      "execution_count": 21,
      "outputs": []
    },
    {
      "cell_type": "markdown",
      "metadata": {
        "id": "jNalEz7X9mzS"
      },
      "source": [
        "## Finetuning with English tweets"
      ]
    },
    {
      "cell_type": "markdown",
      "metadata": {
        "id": "1BIGflsd1C-w"
      },
      "source": [
        "#### Model Setup"
      ]
    },
    {
      "cell_type": "code",
      "metadata": {
        "colab": {
          "base_uri": "https://localhost:8080/"
        },
        "id": "SAtjToipxxWb",
        "outputId": "bc30aeba-5e1f-4c90-fd86-dbd9fcfa0863"
      },
      "source": [
        "# Load the tokenizer. \n",
        "# tokenizer = AutoTokenizer.from_pretrained(\"xlm-roberta-base\", do_lower_case=True)\n",
        "tokenizer = XLMRobertaTokenizer.from_pretrained(\"xlm-roberta-base\", do_lower_case=True)\n",
        "# Load the model.\n",
        "model = XLMRobertaForSequenceClassification.from_pretrained(\n",
        "    \"xlm-roberta-base\", \n",
        "    num_labels = 3, # The number of output labels--3 for binary classification.\n",
        "                    # You can increase this for multi-class tasks.   \n",
        "    output_attentions = False, # Whether the model returns attentions weights.\n",
        "    output_hidden_states = False, # Whether the model returns all hidden-states.\n",
        ")\n",
        "# Tell pytorch to run this model on the GPU.\n",
        "model.cuda()\n",
        "print('done')"
      ],
      "execution_count": 22,
      "outputs": [
        {
          "output_type": "stream",
          "text": [
            "Some weights of the model checkpoint at xlm-roberta-base were not used when initializing XLMRobertaForSequenceClassification: ['lm_head.bias', 'lm_head.dense.weight', 'lm_head.dense.bias', 'lm_head.layer_norm.weight', 'lm_head.layer_norm.bias', 'lm_head.decoder.weight', 'roberta.pooler.dense.weight', 'roberta.pooler.dense.bias']\n",
            "- This IS expected if you are initializing XLMRobertaForSequenceClassification from the checkpoint of a model trained on another task or with another architecture (e.g. initializing a BertForSequenceClassification model from a BertForPreTraining model).\n",
            "- This IS NOT expected if you are initializing XLMRobertaForSequenceClassification from the checkpoint of a model that you expect to be exactly identical (initializing a BertForSequenceClassification model from a BertForSequenceClassification model).\n",
            "Some weights of XLMRobertaForSequenceClassification were not initialized from the model checkpoint at xlm-roberta-base and are newly initialized: ['classifier.dense.weight', 'classifier.dense.bias', 'classifier.out_proj.weight', 'classifier.out_proj.bias']\n",
            "You should probably TRAIN this model on a down-stream task to be able to use it for predictions and inference.\n"
          ],
          "name": "stderr"
        },
        {
          "output_type": "stream",
          "text": [
            "done\n"
          ],
          "name": "stdout"
        }
      ]
    },
    {
      "cell_type": "code",
      "metadata": {
        "id": "3m9_Amn17t18"
      },
      "source": [
        "sentences = en_tweets_df.preprocessed.values\n",
        "labels = en_tweets_df.sentiment.values"
      ],
      "execution_count": 23,
      "outputs": []
    },
    {
      "cell_type": "markdown",
      "metadata": {
        "id": "E_baDKX-yK3B"
      },
      "source": [
        "#### Fine-tuning the model "
      ]
    },
    {
      "cell_type": "code",
      "metadata": {
        "colab": {
          "base_uri": "https://localhost:8080/"
        },
        "id": "RJDLLXAC7kkz",
        "outputId": "a7ea2ff5-1f8a-44f8-b283-139d4f9a1c69"
      },
      "source": [
        "input_ids, attention_masks, labels = tokenize_sentences(sentences, labels, tokenizer)"
      ],
      "execution_count": 24,
      "outputs": [
        {
          "output_type": "stream",
          "text": [
            "Truncation was not explicitly activated but `max_length` is provided a specific value, please use `truncation=True` to explicitly truncate examples to max length. Defaulting to 'longest_first' truncation strategy. If you encode pairs of sequences (GLUE-style) with the tokenizer you can select this strategy more precisely by providing a specific strategy to `truncation`.\n",
            "/usr/local/lib/python3.7/dist-packages/transformers/tokenization_utils_base.py:2079: FutureWarning: The `pad_to_max_length` argument is deprecated and will be removed in a future version, use `padding=True` or `padding='longest'` to pad to the longest sequence in the batch, or use `padding='max_length'` to pad to a max length. In this case, you can give a specific length with `max_length` (e.g. `max_length=45`) or leave max_length to None to pad to the maximal input size of the model (e.g. 512 for Bert).\n",
            "  FutureWarning,\n"
          ],
          "name": "stderr"
        },
        {
          "output_type": "stream",
          "text": [
            "Original:  gas house hit $ 3.39 i\\u2019 m going chapel hill sat\n",
            "Token IDs: tensor([     0,   9060,  18276,   5962,   3650,   1031,   9323,     17,  41872,\n",
            "            34,  32196,    347,   7730,   1608,   5310, 130473,  11736,      2,\n",
            "             1,      1,      1,      1,      1,      1,      1,      1,      1,\n",
            "             1,      1,      1,      1,      1,      1,      1,      1,      1,\n",
            "             1,      1,      1,      1,      1,      1,      1,      1,      1,\n",
            "             1,      1,      1,      1,      1,      1,      1,      1,      1,\n",
            "             1,      1,      1,      1,      1,      1,      1,      1,      1,\n",
            "             1])\n"
          ],
          "name": "stdout"
        }
      ]
    },
    {
      "cell_type": "code",
      "metadata": {
        "colab": {
          "base_uri": "https://localhost:8080/"
        },
        "id": "nV3q9bhg71n1",
        "outputId": "1e1141ec-7909-4ab2-eba5-c9530479156b"
      },
      "source": [
        "train_dataset, val_dataset, train_size, val_size = train_val_split(input_ids, attention_masks, labels)\n",
        "print('{:>5,} training samples'.format(train_size))\n",
        "print('{:>5,} validation samples'.format(val_size))"
      ],
      "execution_count": 25,
      "outputs": [
        {
          "output_type": "stream",
          "text": [
            "19,011 training samples\n",
            "2,113 validation samples\n"
          ],
          "name": "stdout"
        }
      ]
    },
    {
      "cell_type": "code",
      "metadata": {
        "id": "_FQGCkVY9XEb"
      },
      "source": [
        "train_dataloader, validation_dataloader = get_data_loaders(train_dataset, val_dataset)"
      ],
      "execution_count": 26,
      "outputs": []
    },
    {
      "cell_type": "code",
      "metadata": {
        "id": "ZeVulGsQ92-v"
      },
      "source": [
        "optimizer = AdamW(model.parameters(),\n",
        "                  lr = 2e-5, # args.learning_rate - default is 5e-5, our notebook had 2e-5\n",
        "                  eps = 1e-8 # args.adam_epsilon  - default is 1e-8.\n",
        "                )"
      ],
      "execution_count": 27,
      "outputs": []
    },
    {
      "cell_type": "code",
      "metadata": {
        "id": "KZWUiBWl-IVC"
      },
      "source": [
        "scheduler = get_lr_scheduler(train_dataloader)"
      ],
      "execution_count": 28,
      "outputs": []
    },
    {
      "cell_type": "code",
      "metadata": {
        "colab": {
          "base_uri": "https://localhost:8080/"
        },
        "id": "UQO7fNKZ-M91",
        "outputId": "ff061de4-99af-449d-e85a-f9def80c246c"
      },
      "source": [
        "training_stats = train(model, epochs, train_dataloader, validation_dataloader, scheduler, seed_val=42)"
      ],
      "execution_count": 29,
      "outputs": [
        {
          "output_type": "stream",
          "text": [
            "\n",
            "======== Epoch 1 / 4 ========\n",
            "Training...\n",
            "  Batch    80  of    595.    Elapsed: 0:00:19.\n",
            "  Batch   160  of    595.    Elapsed: 0:00:38.\n",
            "  Batch   240  of    595.    Elapsed: 0:00:57.\n",
            "  Batch   320  of    595.    Elapsed: 0:01:16.\n",
            "  Batch   400  of    595.    Elapsed: 0:01:35.\n",
            "  Batch   480  of    595.    Elapsed: 0:01:53.\n",
            "  Batch   560  of    595.    Elapsed: 0:02:12.\n",
            "\n",
            "  Average training loss: 0.88\n",
            "  Training epcoh took: 0:02:20\n",
            "\n",
            "Running Validation...\n",
            "  Accuracy: 0.64\n",
            "  Validation Loss: 0.83\n",
            "  Validation took: 0:00:04\n",
            "\n",
            "======== Epoch 2 / 4 ========\n",
            "Training...\n",
            "  Batch    80  of    595.    Elapsed: 0:00:19.\n",
            "  Batch   160  of    595.    Elapsed: 0:00:38.\n",
            "  Batch   240  of    595.    Elapsed: 0:00:57.\n",
            "  Batch   320  of    595.    Elapsed: 0:01:16.\n",
            "  Batch   400  of    595.    Elapsed: 0:01:35.\n",
            "  Batch   480  of    595.    Elapsed: 0:01:53.\n",
            "  Batch   560  of    595.    Elapsed: 0:02:12.\n",
            "\n",
            "  Average training loss: 0.76\n",
            "  Training epcoh took: 0:02:20\n",
            "\n",
            "Running Validation...\n",
            "  Accuracy: 0.66\n",
            "  Validation Loss: 0.77\n",
            "  Validation took: 0:00:04\n",
            "\n",
            "======== Epoch 3 / 4 ========\n",
            "Training...\n",
            "  Batch    80  of    595.    Elapsed: 0:00:19.\n",
            "  Batch   160  of    595.    Elapsed: 0:00:38.\n",
            "  Batch   240  of    595.    Elapsed: 0:00:57.\n",
            "  Batch   320  of    595.    Elapsed: 0:01:16.\n",
            "  Batch   400  of    595.    Elapsed: 0:01:35.\n",
            "  Batch   480  of    595.    Elapsed: 0:01:53.\n",
            "  Batch   560  of    595.    Elapsed: 0:02:12.\n",
            "\n",
            "  Average training loss: 0.67\n",
            "  Training epcoh took: 0:02:20\n",
            "\n",
            "Running Validation...\n",
            "  Accuracy: 0.66\n",
            "  Validation Loss: 0.79\n",
            "  Validation took: 0:00:04\n",
            "\n",
            "======== Epoch 4 / 4 ========\n",
            "Training...\n",
            "  Batch    80  of    595.    Elapsed: 0:00:19.\n",
            "  Batch   160  of    595.    Elapsed: 0:00:38.\n",
            "  Batch   240  of    595.    Elapsed: 0:00:57.\n",
            "  Batch   320  of    595.    Elapsed: 0:01:16.\n",
            "  Batch   400  of    595.    Elapsed: 0:01:35.\n",
            "  Batch   480  of    595.    Elapsed: 0:01:53.\n",
            "  Batch   560  of    595.    Elapsed: 0:02:12.\n",
            "\n",
            "  Average training loss: 0.61\n",
            "  Training epcoh took: 0:02:20\n",
            "\n",
            "Running Validation...\n",
            "  Accuracy: 0.66\n",
            "  Validation Loss: 0.80\n",
            "  Validation took: 0:00:04\n",
            "\n",
            "Training complete!\n",
            "Total training took 0:09:38 (h:mm:ss)\n"
          ],
          "name": "stdout"
        }
      ]
    },
    {
      "cell_type": "code",
      "metadata": {
        "colab": {
          "base_uri": "https://localhost:8080/",
          "height": 204
        },
        "id": "eJjacJXQ-mGN",
        "outputId": "b6458b26-516d-4575-ed08-fb07cd4845ad"
      },
      "source": [
        "df_stats = format_training_stats(training_stats)\n",
        "df_stats.head()"
      ],
      "execution_count": 30,
      "outputs": [
        {
          "output_type": "execute_result",
          "data": {
            "text/html": [
              "<div>\n",
              "<style scoped>\n",
              "    .dataframe tbody tr th:only-of-type {\n",
              "        vertical-align: middle;\n",
              "    }\n",
              "\n",
              "    .dataframe tbody tr th {\n",
              "        vertical-align: top;\n",
              "    }\n",
              "\n",
              "    .dataframe thead th {\n",
              "        text-align: right;\n",
              "    }\n",
              "</style>\n",
              "<table border=\"1\" class=\"dataframe\">\n",
              "  <thead>\n",
              "    <tr style=\"text-align: right;\">\n",
              "      <th></th>\n",
              "      <th>Training Loss</th>\n",
              "      <th>Valid. Loss</th>\n",
              "      <th>Valid. Accur.</th>\n",
              "      <th>Training Time</th>\n",
              "      <th>Validation Time</th>\n",
              "    </tr>\n",
              "    <tr>\n",
              "      <th>epoch</th>\n",
              "      <th></th>\n",
              "      <th></th>\n",
              "      <th></th>\n",
              "      <th></th>\n",
              "      <th></th>\n",
              "    </tr>\n",
              "  </thead>\n",
              "  <tbody>\n",
              "    <tr>\n",
              "      <th>1</th>\n",
              "      <td>0.88</td>\n",
              "      <td>0.83</td>\n",
              "      <td>0.64</td>\n",
              "      <td>0:02:20</td>\n",
              "      <td>0:00:04</td>\n",
              "    </tr>\n",
              "    <tr>\n",
              "      <th>2</th>\n",
              "      <td>0.76</td>\n",
              "      <td>0.77</td>\n",
              "      <td>0.66</td>\n",
              "      <td>0:02:20</td>\n",
              "      <td>0:00:04</td>\n",
              "    </tr>\n",
              "    <tr>\n",
              "      <th>3</th>\n",
              "      <td>0.67</td>\n",
              "      <td>0.79</td>\n",
              "      <td>0.66</td>\n",
              "      <td>0:02:20</td>\n",
              "      <td>0:00:04</td>\n",
              "    </tr>\n",
              "    <tr>\n",
              "      <th>4</th>\n",
              "      <td>0.61</td>\n",
              "      <td>0.80</td>\n",
              "      <td>0.66</td>\n",
              "      <td>0:02:20</td>\n",
              "      <td>0:00:04</td>\n",
              "    </tr>\n",
              "  </tbody>\n",
              "</table>\n",
              "</div>"
            ],
            "text/plain": [
              "       Training Loss  Valid. Loss  Valid. Accur. Training Time Validation Time\n",
              "epoch                                                                         \n",
              "1               0.88         0.83           0.64       0:02:20         0:00:04\n",
              "2               0.76         0.77           0.66       0:02:20         0:00:04\n",
              "3               0.67         0.79           0.66       0:02:20         0:00:04\n",
              "4               0.61         0.80           0.66       0:02:20         0:00:04"
            ]
          },
          "metadata": {
            "tags": []
          },
          "execution_count": 30
        }
      ]
    },
    {
      "cell_type": "code",
      "metadata": {
        "colab": {
          "base_uri": "https://localhost:8080/",
          "height": 427
        },
        "id": "sug3YhjdEbrL",
        "outputId": "28d2a0c0-fc8d-488d-e9c6-b3b0908f5d59"
      },
      "source": [
        "plot_traing_val_loss(df_stats)"
      ],
      "execution_count": 31,
      "outputs": [
        {
          "output_type": "display_data",
          "data": {
            "image/png": "[encoded data removed]",
            "text/plain": [
              "<Figure size 864x432 with 1 Axes>"
            ]
          },
          "metadata": {
            "tags": []
          }
        }
      ]
    },
    {
      "cell_type": "code",
      "metadata": {
        "colab": {
          "base_uri": "https://localhost:8080/"
        },
        "id": "BYALM2dcOAxc",
        "outputId": "4538eaa5-7913-4627-d3c6-a3e9e52bc0c4"
      },
      "source": [
        "# Create sentence and label lists\n",
        "sentences = ar_test_df.preprocessed.values\n",
        "labels = ar_test_df.sentiment.values\n",
        "\n",
        "prediction_data, prediction_sampler, prediction_dataloader = prepare_test_dataset(sentences, labels)"
      ],
      "execution_count": 32,
      "outputs": [
        {
          "output_type": "stream",
          "text": [
            "/usr/local/lib/python3.7/dist-packages/transformers/tokenization_utils_base.py:2079: FutureWarning: The `pad_to_max_length` argument is deprecated and will be removed in a future version, use `padding=True` or `padding='longest'` to pad to the longest sequence in the batch, or use `padding='max_length'` to pad to a max length. In this case, you can give a specific length with `max_length` (e.g. `max_length=45`) or leave max_length to None to pad to the maximal input size of the model (e.g. 512 for Bert).\n",
            "  FutureWarning,\n"
          ],
          "name": "stderr"
        }
      ]
    },
    {
      "cell_type": "code",
      "metadata": {
        "colab": {
          "base_uri": "https://localhost:8080/"
        },
        "id": "BZEi6UMXPYjN",
        "outputId": "b1de685c-da56-4297-f79b-3af12adf61fd"
      },
      "source": [
        "predictions , true_labels = generate_test_predictions(model, prediction_dataloader)"
      ],
      "execution_count": 33,
      "outputs": [
        {
          "output_type": "stream",
          "text": [
            "DONE.\n"
          ],
          "name": "stdout"
        }
      ]
    },
    {
      "cell_type": "code",
      "metadata": {
        "colab": {
          "base_uri": "https://localhost:8080/"
        },
        "id": "6nNAplTrPdRt",
        "outputId": "67cc03d8-a12c-4ea9-86d7-4e401e56222d"
      },
      "source": [
        "acc = calculate_accuracy(predictions , true_labels)\n",
        "print(str('Accuracy: {:04.4f}'.format(acc*100))+'%')"
      ],
      "execution_count": 34,
      "outputs": [
        {
          "output_type": "stream",
          "text": [
            "Accuracy: 53.2738%\n"
          ],
          "name": "stdout"
        }
      ]
    },
    {
      "cell_type": "markdown",
      "metadata": {
        "id": "gkt-ZY7hFBbN"
      },
      "source": [
        "## Finetuning with English and Arabic tweets "
      ]
    },
    {
      "cell_type": "markdown",
      "metadata": {
        "id": "5RZkqyZmE8sQ"
      },
      "source": [
        "#### Model Setup"
      ]
    },
    {
      "cell_type": "code",
      "metadata": {
        "colab": {
          "base_uri": "https://localhost:8080/"
        },
        "id": "4PpvaUTEFVo3",
        "outputId": "002946e2-9094-40c5-f142-6cb12d4b4c46"
      },
      "source": [
        "train_df = pd.concat([en_tweets_df, ar_train_df], axis=0, ignore_index=True)\n",
        "\n",
        "print(f\"total train tweets {train_df.shape[0]}\")\n",
        "print(f\"total test tweets {ar_tweets_df.shape[0]}\")"
      ],
      "execution_count": 35,
      "outputs": [
        {
          "output_type": "stream",
          "text": [
            "total train tweets 24141\n",
            "total test tweets 3353\n"
          ],
          "name": "stdout"
        }
      ]
    },
    {
      "cell_type": "code",
      "metadata": {
        "colab": {
          "base_uri": "https://localhost:8080/"
        },
        "id": "jVPQEFgbE8sc",
        "outputId": "84c2eaf0-0523-4c25-962e-69de46dd8dcd"
      },
      "source": [
        "# Load the tokenizer. \n",
        "tokenizer = XLMRobertaTokenizer.from_pretrained(\"xlm-roberta-base\", do_lower_case=True)\n",
        "\n",
        "# Load the model.\n",
        "model = XLMRobertaForSequenceClassification.from_pretrained(\n",
        "    \"xlm-roberta-base\", \n",
        "    num_labels = 3, # The number of output labels--3 for binary classification.\n",
        "                    # You can increase this for multi-class tasks.   \n",
        "    output_attentions = False, # Whether the model returns attentions weights.\n",
        "    output_hidden_states = False, # Whether the model returns all hidden-states.\n",
        ")\n",
        "# Tell pytorch to run this model on the GPU.\n",
        "model.cuda()\n",
        "print('done')"
      ],
      "execution_count": 36,
      "outputs": [
        {
          "output_type": "stream",
          "text": [
            "Some weights of the model checkpoint at xlm-roberta-base were not used when initializing XLMRobertaForSequenceClassification: ['lm_head.bias', 'lm_head.dense.weight', 'lm_head.dense.bias', 'lm_head.layer_norm.weight', 'lm_head.layer_norm.bias', 'lm_head.decoder.weight', 'roberta.pooler.dense.weight', 'roberta.pooler.dense.bias']\n",
            "- This IS expected if you are initializing XLMRobertaForSequenceClassification from the checkpoint of a model trained on another task or with another architecture (e.g. initializing a BertForSequenceClassification model from a BertForPreTraining model).\n",
            "- This IS NOT expected if you are initializing XLMRobertaForSequenceClassification from the checkpoint of a model that you expect to be exactly identical (initializing a BertForSequenceClassification model from a BertForSequenceClassification model).\n",
            "Some weights of XLMRobertaForSequenceClassification were not initialized from the model checkpoint at xlm-roberta-base and are newly initialized: ['classifier.dense.weight', 'classifier.dense.bias', 'classifier.out_proj.weight', 'classifier.out_proj.bias']\n",
            "You should probably TRAIN this model on a down-stream task to be able to use it for predictions and inference.\n"
          ],
          "name": "stderr"
        },
        {
          "output_type": "stream",
          "text": [
            "done\n"
          ],
          "name": "stdout"
        }
      ]
    },
    {
      "cell_type": "code",
      "metadata": {
        "id": "piv9n3wbE8sd"
      },
      "source": [
        "sentences = train_df.preprocessed.values\n",
        "labels = train_df.sentiment.values"
      ],
      "execution_count": 37,
      "outputs": []
    },
    {
      "cell_type": "code",
      "metadata": {
        "colab": {
          "base_uri": "https://localhost:8080/"
        },
        "id": "Ynlml9g5E8sd",
        "outputId": "455ab0fe-f72b-4f29-adca-5bfb3111e953"
      },
      "source": [
        "input_ids, attention_masks, labels = tokenize_sentences(sentences, labels, tokenizer)"
      ],
      "execution_count": 38,
      "outputs": [
        {
          "output_type": "stream",
          "text": [
            "Truncation was not explicitly activated but `max_length` is provided a specific value, please use `truncation=True` to explicitly truncate examples to max length. Defaulting to 'longest_first' truncation strategy. If you encode pairs of sequences (GLUE-style) with the tokenizer you can select this strategy more precisely by providing a specific strategy to `truncation`.\n",
            "/usr/local/lib/python3.7/dist-packages/transformers/tokenization_utils_base.py:2079: FutureWarning: The `pad_to_max_length` argument is deprecated and will be removed in a future version, use `padding=True` or `padding='longest'` to pad to the longest sequence in the batch, or use `padding='max_length'` to pad to a max length. In this case, you can give a specific length with `max_length` (e.g. `max_length=45`) or leave max_length to None to pad to the maximal input size of the model (e.g. 512 for Bert).\n",
            "  FutureWarning,\n"
          ],
          "name": "stderr"
        },
        {
          "output_type": "stream",
          "text": [
            "Original:  gas house hit $ 3.39 i\\u2019 m going chapel hill sat\n",
            "Token IDs: tensor([     0,   9060,  18276,   5962,   3650,   1031,   9323,     17,  41872,\n",
            "            34,  32196,    347,   7730,   1608,   5310, 130473,  11736,      2,\n",
            "             1,      1,      1,      1,      1,      1,      1,      1,      1,\n",
            "             1,      1,      1,      1,      1,      1,      1,      1,      1,\n",
            "             1,      1,      1,      1,      1,      1,      1,      1,      1,\n",
            "             1,      1,      1,      1,      1,      1,      1,      1,      1,\n",
            "             1,      1,      1,      1,      1,      1,      1,      1,      1,\n",
            "             1])\n"
          ],
          "name": "stdout"
        }
      ]
    },
    {
      "cell_type": "code",
      "metadata": {
        "colab": {
          "base_uri": "https://localhost:8080/"
        },
        "id": "ntDfxhtoE8se",
        "outputId": "534e16cf-8b15-474c-ee6a-3e5b95079447"
      },
      "source": [
        "train_dataset, val_dataset, train_size, val_size = train_val_split(input_ids, attention_masks, labels)\n",
        "print('{:>5,} training samples'.format(train_size))\n",
        "print('{:>5,} validation samples'.format(val_size))"
      ],
      "execution_count": 39,
      "outputs": [
        {
          "output_type": "stream",
          "text": [
            "21,726 training samples\n",
            "2,415 validation samples\n"
          ],
          "name": "stdout"
        }
      ]
    },
    {
      "cell_type": "markdown",
      "metadata": {
        "id": "o4xdFeKSzgFS"
      },
      "source": [
        "#### Fine-tuning the model "
      ]
    },
    {
      "cell_type": "code",
      "metadata": {
        "id": "eL_O3cyIE8se"
      },
      "source": [
        "train_dataloader, validation_dataloader = get_data_loaders(train_dataset, val_dataset)"
      ],
      "execution_count": 40,
      "outputs": []
    },
    {
      "cell_type": "code",
      "metadata": {
        "id": "kZ_XcoBBE8se"
      },
      "source": [
        "optimizer = AdamW(model.parameters(),\n",
        "                  lr = 2e-5, # args.learning_rate - default is 5e-5, our notebook had 2e-5\n",
        "                  eps = 1e-8 # args.adam_epsilon  - default is 1e-8.\n",
        "                )"
      ],
      "execution_count": 41,
      "outputs": []
    },
    {
      "cell_type": "code",
      "metadata": {
        "id": "kktaavLiE8se"
      },
      "source": [
        "scheduler = get_lr_scheduler(train_dataloader)"
      ],
      "execution_count": 42,
      "outputs": []
    },
    {
      "cell_type": "markdown",
      "metadata": {
        "id": "brsnaQL-lWUA"
      },
      "source": [
        ""
      ]
    },
    {
      "cell_type": "code",
      "metadata": {
        "colab": {
          "base_uri": "https://localhost:8080/"
        },
        "id": "u0Imzzs1E8se",
        "outputId": "3853bc77-5ef2-43b5-ccea-543a87ef68c2"
      },
      "source": [
        "training_stats = train(model, epochs, train_dataloader, validation_dataloader, scheduler, seed_val=42)"
      ],
      "execution_count": 43,
      "outputs": [
        {
          "output_type": "stream",
          "text": [
            "\n",
            "======== Epoch 1 / 4 ========\n",
            "Training...\n",
            "  Batch    80  of    679.    Elapsed: 0:00:19.\n",
            "  Batch   160  of    679.    Elapsed: 0:00:38.\n",
            "  Batch   240  of    679.    Elapsed: 0:00:57.\n",
            "  Batch   320  of    679.    Elapsed: 0:01:16.\n",
            "  Batch   400  of    679.    Elapsed: 0:01:35.\n",
            "  Batch   480  of    679.    Elapsed: 0:01:53.\n",
            "  Batch   560  of    679.    Elapsed: 0:02:12.\n",
            "  Batch   640  of    679.    Elapsed: 0:02:31.\n",
            "\n",
            "  Average training loss: 0.89\n",
            "  Training epcoh took: 0:02:40\n",
            "\n",
            "Running Validation...\n",
            "  Accuracy: 0.64\n",
            "  Validation Loss: 0.79\n",
            "  Validation took: 0:00:05\n",
            "\n",
            "======== Epoch 2 / 4 ========\n",
            "Training...\n",
            "  Batch    80  of    679.    Elapsed: 0:00:19.\n",
            "  Batch   160  of    679.    Elapsed: 0:00:38.\n",
            "  Batch   240  of    679.    Elapsed: 0:00:57.\n",
            "  Batch   320  of    679.    Elapsed: 0:01:16.\n",
            "  Batch   400  of    679.    Elapsed: 0:01:35.\n",
            "  Batch   480  of    679.    Elapsed: 0:01:53.\n",
            "  Batch   560  of    679.    Elapsed: 0:02:12.\n",
            "  Batch   640  of    679.    Elapsed: 0:02:31.\n",
            "\n",
            "  Average training loss: 0.75\n",
            "  Training epcoh took: 0:02:40\n",
            "\n",
            "Running Validation...\n",
            "  Accuracy: 0.66\n",
            "  Validation Loss: 0.77\n",
            "  Validation took: 0:00:05\n",
            "\n",
            "======== Epoch 3 / 4 ========\n",
            "Training...\n",
            "  Batch    80  of    679.    Elapsed: 0:00:19.\n",
            "  Batch   160  of    679.    Elapsed: 0:00:38.\n",
            "  Batch   240  of    679.    Elapsed: 0:00:57.\n",
            "  Batch   320  of    679.    Elapsed: 0:01:16.\n",
            "  Batch   400  of    679.    Elapsed: 0:01:35.\n",
            "  Batch   480  of    679.    Elapsed: 0:01:53.\n",
            "  Batch   560  of    679.    Elapsed: 0:02:12.\n",
            "  Batch   640  of    679.    Elapsed: 0:02:31.\n",
            "\n",
            "  Average training loss: 0.66\n",
            "  Training epcoh took: 0:02:40\n",
            "\n",
            "Running Validation...\n",
            "  Accuracy: 0.66\n",
            "  Validation Loss: 0.78\n",
            "  Validation took: 0:00:05\n",
            "\n",
            "======== Epoch 4 / 4 ========\n",
            "Training...\n",
            "  Batch    80  of    679.    Elapsed: 0:00:19.\n",
            "  Batch   160  of    679.    Elapsed: 0:00:38.\n",
            "  Batch   240  of    679.    Elapsed: 0:00:57.\n",
            "  Batch   320  of    679.    Elapsed: 0:01:16.\n",
            "  Batch   400  of    679.    Elapsed: 0:01:35.\n",
            "  Batch   480  of    679.    Elapsed: 0:01:53.\n",
            "  Batch   560  of    679.    Elapsed: 0:02:12.\n",
            "  Batch   640  of    679.    Elapsed: 0:02:31.\n",
            "\n",
            "  Average training loss: 0.60\n",
            "  Training epcoh took: 0:02:40\n",
            "\n",
            "Running Validation...\n",
            "  Accuracy: 0.66\n",
            "  Validation Loss: 0.80\n",
            "  Validation took: 0:00:05\n",
            "\n",
            "Training complete!\n",
            "Total training took 0:11:00 (h:mm:ss)\n"
          ],
          "name": "stdout"
        }
      ]
    },
    {
      "cell_type": "code",
      "metadata": {
        "colab": {
          "base_uri": "https://localhost:8080/",
          "height": 204
        },
        "id": "SUHe_AKXE8sf",
        "outputId": "0cb0e191-d240-4d36-d529-4d6185d5fd66"
      },
      "source": [
        "df_stats = format_training_stats(training_stats)\n",
        "df_stats.head()"
      ],
      "execution_count": 44,
      "outputs": [
        {
          "output_type": "execute_result",
          "data": {
            "text/html": [
              "<div>\n",
              "<style scoped>\n",
              "    .dataframe tbody tr th:only-of-type {\n",
              "        vertical-align: middle;\n",
              "    }\n",
              "\n",
              "    .dataframe tbody tr th {\n",
              "        vertical-align: top;\n",
              "    }\n",
              "\n",
              "    .dataframe thead th {\n",
              "        text-align: right;\n",
              "    }\n",
              "</style>\n",
              "<table border=\"1\" class=\"dataframe\">\n",
              "  <thead>\n",
              "    <tr style=\"text-align: right;\">\n",
              "      <th></th>\n",
              "      <th>Training Loss</th>\n",
              "      <th>Valid. Loss</th>\n",
              "      <th>Valid. Accur.</th>\n",
              "      <th>Training Time</th>\n",
              "      <th>Validation Time</th>\n",
              "    </tr>\n",
              "    <tr>\n",
              "      <th>epoch</th>\n",
              "      <th></th>\n",
              "      <th></th>\n",
              "      <th></th>\n",
              "      <th></th>\n",
              "      <th></th>\n",
              "    </tr>\n",
              "  </thead>\n",
              "  <tbody>\n",
              "    <tr>\n",
              "      <th>1</th>\n",
              "      <td>0.89</td>\n",
              "      <td>0.79</td>\n",
              "      <td>0.64</td>\n",
              "      <td>0:02:40</td>\n",
              "      <td>0:00:05</td>\n",
              "    </tr>\n",
              "    <tr>\n",
              "      <th>2</th>\n",
              "      <td>0.75</td>\n",
              "      <td>0.77</td>\n",
              "      <td>0.66</td>\n",
              "      <td>0:02:40</td>\n",
              "      <td>0:00:05</td>\n",
              "    </tr>\n",
              "    <tr>\n",
              "      <th>3</th>\n",
              "      <td>0.66</td>\n",
              "      <td>0.78</td>\n",
              "      <td>0.66</td>\n",
              "      <td>0:02:40</td>\n",
              "      <td>0:00:05</td>\n",
              "    </tr>\n",
              "    <tr>\n",
              "      <th>4</th>\n",
              "      <td>0.60</td>\n",
              "      <td>0.80</td>\n",
              "      <td>0.66</td>\n",
              "      <td>0:02:40</td>\n",
              "      <td>0:00:05</td>\n",
              "    </tr>\n",
              "  </tbody>\n",
              "</table>\n",
              "</div>"
            ],
            "text/plain": [
              "       Training Loss  Valid. Loss  Valid. Accur. Training Time Validation Time\n",
              "epoch                                                                         \n",
              "1               0.89         0.79           0.64       0:02:40         0:00:05\n",
              "2               0.75         0.77           0.66       0:02:40         0:00:05\n",
              "3               0.66         0.78           0.66       0:02:40         0:00:05\n",
              "4               0.60         0.80           0.66       0:02:40         0:00:05"
            ]
          },
          "metadata": {
            "tags": []
          },
          "execution_count": 44
        }
      ]
    },
    {
      "cell_type": "code",
      "metadata": {
        "colab": {
          "base_uri": "https://localhost:8080/",
          "height": 427
        },
        "id": "LQIjshUqE8sf",
        "outputId": "89dc3b88-734d-48ff-f39d-a820431c092a"
      },
      "source": [
        "plot_traing_val_loss(df_stats)"
      ],
      "execution_count": 45,
      "outputs": [
        {
          "output_type": "display_data",
          "data": {
            "image/png": "[encoded data removed]",
            "text/plain": [
              "<Figure size 864x432 with 1 Axes>"
            ]
          },
          "metadata": {
            "tags": []
          }
        }
      ]
    },
    {
      "cell_type": "code",
      "metadata": {
        "colab": {
          "base_uri": "https://localhost:8080/"
        },
        "id": "SMDGrQr_TZSK",
        "outputId": "d5dcd51b-39b0-498f-cf48-742694ab9871"
      },
      "source": [
        "# Create sentence and label lists\n",
        "sentences = ar_test_df.preprocessed.values\n",
        "labels = ar_test_df.sentiment.values\n",
        "\n",
        "prediction_data, prediction_sampler, prediction_dataloader = prepare_test_dataset(sentences, labels)"
      ],
      "execution_count": 46,
      "outputs": [
        {
          "output_type": "stream",
          "text": [
            "/usr/local/lib/python3.7/dist-packages/transformers/tokenization_utils_base.py:2079: FutureWarning: The `pad_to_max_length` argument is deprecated and will be removed in a future version, use `padding=True` or `padding='longest'` to pad to the longest sequence in the batch, or use `padding='max_length'` to pad to a max length. In this case, you can give a specific length with `max_length` (e.g. `max_length=45`) or leave max_length to None to pad to the maximal input size of the model (e.g. 512 for Bert).\n",
            "  FutureWarning,\n"
          ],
          "name": "stderr"
        }
      ]
    },
    {
      "cell_type": "code",
      "metadata": {
        "colab": {
          "base_uri": "https://localhost:8080/"
        },
        "id": "AzZPvDFyTZSP",
        "outputId": "8f3a5a40-a1ce-4a6b-ef5a-e6f00c0cf109"
      },
      "source": [
        "predictions , true_labels = generate_test_predictions(model, prediction_dataloader)"
      ],
      "execution_count": 47,
      "outputs": [
        {
          "output_type": "stream",
          "text": [
            "DONE.\n"
          ],
          "name": "stdout"
        }
      ]
    },
    {
      "cell_type": "code",
      "metadata": {
        "colab": {
          "base_uri": "https://localhost:8080/"
        },
        "id": "9NfmUGLVTZSQ",
        "outputId": "8f11b044-9bea-4168-8442-f8f2a2c8c329"
      },
      "source": [
        "acc = calculate_accuracy(predictions , true_labels)\n",
        "print(str('Accuracy: {:04.4f}'.format(acc*100))+'%')"
      ],
      "execution_count": 48,
      "outputs": [
        {
          "output_type": "stream",
          "text": [
            "Accuracy: 61.0119%\n"
          ],
          "name": "stdout"
        }
      ]
    },
    {
      "cell_type": "code",
      "metadata": {
        "id": "tzZQqSWtTb_n"
      },
      "source": [
        ""
      ],
      "execution_count": 48,
      "outputs": []
    }
  ]
}